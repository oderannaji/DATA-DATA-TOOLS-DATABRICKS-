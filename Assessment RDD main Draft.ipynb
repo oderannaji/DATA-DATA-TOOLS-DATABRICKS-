{
 "cells": [
  {
   "cell_type": "code",
   "execution_count": 0,
   "metadata": {
    "application/vnd.databricks.v1+cell": {
     "cellMetadata": {
      "byteLimit": 2048000,
      "rowLimit": 10000
     },
     "inputWidgets": {},
     "nuid": "cdae9106-f04b-4b40-a9e4-7aa95bdd7eed",
     "showTitle": false,
     "tableResultSettingsMap": {},
     "title": ""
    }
   },
   "outputs": [
    {
     "output_type": "stream",
     "name": "stdout",
     "output_type": "stream",
     "text": [
      "/databricks/driver\n"
     ]
    }
   ],
   "source": [
    "%sh\n",
    "# printing/checking my working directory\n",
    "pwd "
   ]
  },
  {
   "cell_type": "code",
   "execution_count": 0,
   "metadata": {
    "application/vnd.databricks.v1+cell": {
     "cellMetadata": {
      "byteLimit": 2048000,
      "rowLimit": 10000
     },
     "inputWidgets": {},
     "nuid": "17cc5b39-c031-4546-a74e-79a42ef8d39c",
     "showTitle": false,
     "tableResultSettingsMap": {},
     "title": ""
    }
   },
   "outputs": [
    {
     "output_type": "stream",
     "name": "stdout",
     "output_type": "stream",
     "text": [
      "Out[57]: [FileInfo(path='file:/proc/', name='proc/', size=0, modificationTime=1739757708002),\n FileInfo(path='file:/etc/', name='etc/', size=4096, modificationTime=1739757708318),\n FileInfo(path='file:/boot/', name='boot/', size=4096, modificationTime=1739755839521),\n FileInfo(path='file:/srv/', name='srv/', size=4096, modificationTime=1739755839525),\n FileInfo(path='file:/lib64/', name='lib64/', size=4096, modificationTime=1739755721134),\n FileInfo(path='file:/bin/', name='bin/', size=36864, modificationTime=1739755844264),\n FileInfo(path='file:/databricks/', name='databricks/', size=4096, modificationTime=1739758018402),\n FileInfo(path='file:/mnt/', name='mnt/', size=4096, modificationTime=1739757710518),\n FileInfo(path='file:/lib/', name='lib/', size=4096, modificationTime=1739755844264),\n FileInfo(path='file:/usr/', name='usr/', size=4096, modificationTime=1739755844296),\n FileInfo(path='file:/dev/', name='dev/', size=560, modificationTime=1739757713958),\n FileInfo(path='file:/libx32/', name='libx32/', size=4096, modificationTime=1739755844296),\n FileInfo(path='file:/sbin/', name='sbin/', size=12288, modificationTime=1739755844300),\n FileInfo(path='file:/run/', name='run/', size=500, modificationTime=1739758501904),\n FileInfo(path='file:/media/', name='media/', size=4096, modificationTime=1739755839525),\n FileInfo(path='file:/home/', name='home/', size=4096, modificationTime=1739755823073),\n FileInfo(path='file:/root/', name='root/', size=4096, modificationTime=1739758021754),\n FileInfo(path='file:/lib32/', name='lib32/', size=4096, modificationTime=1739755844296),\n FileInfo(path='file:/opt/', name='opt/', size=4096, modificationTime=1739755823397),\n FileInfo(path='file:/var/', name='var/', size=4096, modificationTime=1739755844384),\n FileInfo(path='file:/tmp/', name='tmp/', size=4096, modificationTime=1739761501175),\n FileInfo(path='file:/sys/', name='sys/', size=0, modificationTime=1739757708002),\n FileInfo(path='file:/BUILD', name='BUILD', size=271, modificationTime=1739755650235),\n FileInfo(path='file:/local_disk0/', name='local_disk0/', size=4096, modificationTime=1739757769457),\n FileInfo(path='file:/dbfs/', name='dbfs/', size=4096, modificationTime=1739757713990),\n FileInfo(path='file:/Volumes/', name='Volumes/', size=4096, modificationTime=1739757714088),\n FileInfo(path='file:/Workspace/', name='Workspace/', size=4096, modificationTime=1739757714031)]"
     ]
    }
   ],
   "source": [
    "# listing the content of our driver node(local filesystem)\n",
    "dbutils.fs.ls('file:/')"
   ]
  },
  {
   "cell_type": "code",
   "execution_count": 0,
   "metadata": {
    "application/vnd.databricks.v1+cell": {
     "cellMetadata": {
      "byteLimit": 2048000,
      "rowLimit": 10000
     },
     "inputWidgets": {},
     "nuid": "8d8c36c8-93cb-460a-a91b-99a33d600a71",
     "showTitle": false,
     "tableResultSettingsMap": {},
     "title": ""
    }
   },
   "outputs": [
    {
     "output_type": "stream",
     "name": "stdout",
     "output_type": "stream",
     "text": [
      "Out[58]: [FileInfo(path='dbfs:/FileStore/tables/Enron.zip', name='Enron.zip', size=375294957, modificationTime=1739651001000),\n FileInfo(path='dbfs:/FileStore/tables/account-models/', name='account-models/', size=0, modificationTime=0),\n FileInfo(path='dbfs:/FileStore/tables/accounts/', name='accounts/', size=0, modificationTime=0),\n FileInfo(path='dbfs:/FileStore/tables/accounts.zip', name='accounts.zip', size=5297592, modificationTime=1739555633000),\n FileInfo(path='dbfs:/FileStore/tables/activation-models/', name='activation-models/', size=0, modificationTime=0),\n FileInfo(path='dbfs:/FileStore/tables/activations/', name='activations/', size=0, modificationTime=0),\n FileInfo(path='dbfs:/FileStore/tables/activations-1.zip', name='activations-1.zip', size=8411369, modificationTime=1738170810000),\n FileInfo(path='dbfs:/FileStore/tables/activations-2.zip', name='activations-2.zip', size=8411369, modificationTime=1739548977000),\n FileInfo(path='dbfs:/FileStore/tables/activations.zip', name='activations.zip', size=8411369, modificationTime=1738170694000),\n FileInfo(path='dbfs:/FileStore/tables/emails/', name='emails/', size=0, modificationTime=0),\n FileInfo(path='dbfs:/FileStore/tables/flood.csv', name='flood.csv', size=128984, modificationTime=1739383593000),\n FileInfo(path='dbfs:/FileStore/tables/flood.zip', name='flood.zip', size=52053, modificationTime=1739383337000),\n FileInfo(path='dbfs:/FileStore/tables/logs/', name='logs/', size=0, modificationTime=0),\n FileInfo(path='dbfs:/FileStore/tables/logs.zip', name='logs.zip', size=18168065, modificationTime=1738173004000),\n FileInfo(path='dbfs:/FileStore/tables/test.json', name='test.json', size=17958, modificationTime=1737563569000),\n FileInfo(path='dbfs:/FileStore/tables/webpage/', name='webpage/', size=0, modificationTime=0),\n FileInfo(path='dbfs:/FileStore/tables/webpage_files_all/', name='webpage_files_all/', size=0, modificationTime=0),\n FileInfo(path='dbfs:/FileStore/tables/webpage_files_jpg/', name='webpage_files_jpg/', size=0, modificationTime=0)]"
     ]
    }
   ],
   "source": [
    "# checking if my file was uploaded\n",
    "dbutils.fs.ls('/FileStore/tables/')"
   ]
  },
  {
   "cell_type": "code",
   "execution_count": 0,
   "metadata": {
    "application/vnd.databricks.v1+cell": {
     "cellMetadata": {
      "byteLimit": 2048000,
      "rowLimit": 10000
     },
     "inputWidgets": {},
     "nuid": "f26b0aae-fee1-4c35-acda-5bf2e012fcf5",
     "showTitle": false,
     "tableResultSettingsMap": {},
     "title": ""
    }
   },
   "outputs": [
    {
     "output_type": "stream",
     "name": "stdout",
     "output_type": "stream",
     "text": [
      "Out[59]: [FileInfo(path='dbfs:/FileStore/tables/Enron.zip', name='Enron.zip', size=375294957, modificationTime=1739651001000)]"
     ]
    }
   ],
   "source": [
    "# list the content of my file\n",
    "dbutils.fs.ls('/FileStore/tables/Enron.zip')"
   ]
  },
  {
   "cell_type": "code",
   "execution_count": 0,
   "metadata": {
    "application/vnd.databricks.v1+cell": {
     "cellMetadata": {
      "byteLimit": 2048000,
      "rowLimit": 10000
     },
     "inputWidgets": {},
     "nuid": "d4e370c8-35a7-4e65-a1db-4dfe81219e79",
     "showTitle": false,
     "tableResultSettingsMap": {},
     "title": ""
    }
   },
   "outputs": [],
   "source": [
    "#copying the Enron.zip file to my driver node(Local file system) so we can unzip\n",
    "# dbutils.fs.cp('/FileStore/tables/Enron.zip', 'file:/tmp/')"
   ]
  },
  {
   "cell_type": "code",
   "execution_count": 0,
   "metadata": {
    "application/vnd.databricks.v1+cell": {
     "cellMetadata": {
      "byteLimit": 2048000,
      "rowLimit": 10000
     },
     "inputWidgets": {},
     "nuid": "814ab428-5f75-4f90-83c0-56569d8ccf6f",
     "showTitle": false,
     "tableResultSettingsMap": {},
     "title": ""
    }
   },
   "outputs": [
    {
     "output_type": "stream",
     "name": "stdout",
     "output_type": "stream",
     "text": [
      "Rserv\nRtmpo1epg4\nchauffeur-daemon-params\nchauffeur-daemon.pid\nchauffeur-env.sh\ncustom-spark.conf\ndriver-daemon-params\ndriver-daemon.pid\ndriver-env.sh\nhsperfdata_root\nsystemd-private-94b9d7830fce414e9a3945871490c1bb-apache2.service-rm5DPg\nsystemd-private-94b9d7830fce414e9a3945871490c1bb-ntp.service-7Xjypf\nsystemd-private-94b9d7830fce414e9a3945871490c1bb-systemd-logind.service-04spqh\nsystemd-private-94b9d7830fce414e9a3945871490c1bb-systemd-resolved.service-7Ikxgj\ntmp.AFpZgCn4nN\n"
     ]
    }
   ],
   "source": [
    "%sh\n",
    "# confirm it was copied\n",
    "ls /tmp/"
   ]
  },
  {
   "cell_type": "code",
   "execution_count": 0,
   "metadata": {
    "application/vnd.databricks.v1+cell": {
     "cellMetadata": {
      "byteLimit": 2048000,
      "rowLimit": 10000
     },
     "inputWidgets": {},
     "nuid": "c4f4e0a1-ae33-4fd4-958f-411844f14b67",
     "showTitle": false,
     "tableResultSettingsMap": {},
     "title": ""
    }
   },
   "outputs": [],
   "source": [
    "%sh\n",
    "# Unzipping the zip file ans storing it in a directory\n",
    "# unzip -d /tmp/ /tmp/Enron.zip\n"
   ]
  },
  {
   "cell_type": "code",
   "execution_count": 0,
   "metadata": {
    "application/vnd.databricks.v1+cell": {
     "cellMetadata": {
      "byteLimit": 2048000,
      "rowLimit": 10000
     },
     "inputWidgets": {},
     "nuid": "94906e2d-f7dc-4f67-a7f3-bcac29e78e65",
     "showTitle": false,
     "tableResultSettingsMap": {},
     "title": ""
    }
   },
   "outputs": [
    {
     "output_type": "stream",
     "name": "stdout",
     "output_type": "stream",
     "text": [
      "Rserv\nRtmpo1epg4\nchauffeur-daemon-params\nchauffeur-daemon.pid\nchauffeur-env.sh\ncustom-spark.conf\ndriver-daemon-params\ndriver-daemon.pid\ndriver-env.sh\nhsperfdata_root\nsystemd-private-94b9d7830fce414e9a3945871490c1bb-apache2.service-rm5DPg\nsystemd-private-94b9d7830fce414e9a3945871490c1bb-ntp.service-7Xjypf\nsystemd-private-94b9d7830fce414e9a3945871490c1bb-systemd-logind.service-04spqh\nsystemd-private-94b9d7830fce414e9a3945871490c1bb-systemd-resolved.service-7Ikxgj\ntmp.AFpZgCn4nN\n"
     ]
    }
   ],
   "source": [
    "%sh\n",
    "ls /tmp/\n",
    "#checking to see if it has been unzipped"
   ]
  },
  {
   "cell_type": "code",
   "execution_count": 0,
   "metadata": {
    "application/vnd.databricks.v1+cell": {
     "cellMetadata": {
      "byteLimit": 2048000,
      "rowLimit": 10000
     },
     "inputWidgets": {},
     "nuid": "7771607e-b287-4764-ac3b-4690103ed7e3",
     "showTitle": false,
     "tableResultSettingsMap": {},
     "title": ""
    }
   },
   "outputs": [],
   "source": [
    "%sh\n",
    "#less /tmp/emails.csv"
   ]
  },
  {
   "cell_type": "code",
   "execution_count": 0,
   "metadata": {
    "application/vnd.databricks.v1+cell": {
     "cellMetadata": {
      "byteLimit": 2048000,
      "rowLimit": 10000
     },
     "inputWidgets": {},
     "nuid": "c1b72c3f-5488-4663-bffa-826c54b42314",
     "showTitle": false,
     "tableResultSettingsMap": {},
     "title": ""
    }
   },
   "outputs": [],
   "source": [
    "# move this form driver node to DBfS; bit first i have to create a directory(folder) to store the unzipped file\n",
    "\n",
    "# dbutils.fs.mkdirs('/FileStore/tables/emails')"
   ]
  },
  {
   "cell_type": "code",
   "execution_count": 0,
   "metadata": {
    "application/vnd.databricks.v1+cell": {
     "cellMetadata": {
      "byteLimit": 2048000,
      "rowLimit": 10000
     },
     "inputWidgets": {},
     "nuid": "69457342-39bd-4a39-ba3f-710ea1895064",
     "showTitle": false,
     "tableResultSettingsMap": {},
     "title": ""
    }
   },
   "outputs": [
    {
     "output_type": "stream",
     "name": "stdout",
     "output_type": "stream",
     "text": [
      "Out[66]: [FileInfo(path='dbfs:/FileStore/tables/Enron.zip', name='Enron.zip', size=375294957, modificationTime=1739651001000),\n FileInfo(path='dbfs:/FileStore/tables/account-models/', name='account-models/', size=0, modificationTime=0),\n FileInfo(path='dbfs:/FileStore/tables/accounts/', name='accounts/', size=0, modificationTime=0),\n FileInfo(path='dbfs:/FileStore/tables/accounts.zip', name='accounts.zip', size=5297592, modificationTime=1739555633000),\n FileInfo(path='dbfs:/FileStore/tables/activation-models/', name='activation-models/', size=0, modificationTime=0),\n FileInfo(path='dbfs:/FileStore/tables/activations/', name='activations/', size=0, modificationTime=0),\n FileInfo(path='dbfs:/FileStore/tables/activations-1.zip', name='activations-1.zip', size=8411369, modificationTime=1738170810000),\n FileInfo(path='dbfs:/FileStore/tables/activations-2.zip', name='activations-2.zip', size=8411369, modificationTime=1739548977000),\n FileInfo(path='dbfs:/FileStore/tables/activations.zip', name='activations.zip', size=8411369, modificationTime=1738170694000),\n FileInfo(path='dbfs:/FileStore/tables/emails/', name='emails/', size=0, modificationTime=0),\n FileInfo(path='dbfs:/FileStore/tables/flood.csv', name='flood.csv', size=128984, modificationTime=1739383593000),\n FileInfo(path='dbfs:/FileStore/tables/flood.zip', name='flood.zip', size=52053, modificationTime=1739383337000),\n FileInfo(path='dbfs:/FileStore/tables/logs/', name='logs/', size=0, modificationTime=0),\n FileInfo(path='dbfs:/FileStore/tables/logs.zip', name='logs.zip', size=18168065, modificationTime=1738173004000),\n FileInfo(path='dbfs:/FileStore/tables/test.json', name='test.json', size=17958, modificationTime=1737563569000),\n FileInfo(path='dbfs:/FileStore/tables/webpage/', name='webpage/', size=0, modificationTime=0),\n FileInfo(path='dbfs:/FileStore/tables/webpage_files_all/', name='webpage_files_all/', size=0, modificationTime=0),\n FileInfo(path='dbfs:/FileStore/tables/webpage_files_jpg/', name='webpage_files_jpg/', size=0, modificationTime=0)]"
     ]
    }
   ],
   "source": [
    "dbutils.fs.ls('/FileStore/tables/')"
   ]
  },
  {
   "cell_type": "code",
   "execution_count": 0,
   "metadata": {
    "application/vnd.databricks.v1+cell": {
     "cellMetadata": {
      "byteLimit": 2048000,
      "rowLimit": 10000
     },
     "inputWidgets": {},
     "nuid": "ff81f43f-e871-4625-8938-35c3afb05562",
     "showTitle": false,
     "tableResultSettingsMap": {},
     "title": ""
    }
   },
   "outputs": [
    {
     "output_type": "stream",
     "name": "stdout",
     "output_type": "stream",
     "text": [
      "Out[67]: [FileInfo(path='dbfs:/FileStore/tables/emails/emails.csv', name='emails.csv', size=1426122219, modificationTime=1739712700000)]"
     ]
    }
   ],
   "source": [
    "dbutils.fs.ls('/FileStore/tables/emails')"
   ]
  },
  {
   "cell_type": "code",
   "execution_count": 0,
   "metadata": {
    "application/vnd.databricks.v1+cell": {
     "cellMetadata": {
      "byteLimit": 2048000,
      "rowLimit": 10000
     },
     "inputWidgets": {},
     "nuid": "8c899359-4085-460a-98ef-f9d8864609f3",
     "showTitle": false,
     "tableResultSettingsMap": {},
     "title": ""
    }
   },
   "outputs": [],
   "source": [
    "# move the unzipped file from driver node to the DBFS directory\n",
    "# dbutils.fs.mv('file:/tmp/emails.csv', '/FileStore/tables/emails')"
   ]
  },
  {
   "cell_type": "code",
   "execution_count": 0,
   "metadata": {
    "application/vnd.databricks.v1+cell": {
     "cellMetadata": {
      "byteLimit": 2048000,
      "rowLimit": 10000
     },
     "inputWidgets": {},
     "nuid": "96563b4b-3d5c-49a0-8810-83fb30db9cef",
     "showTitle": false,
     "tableResultSettingsMap": {},
     "title": ""
    }
   },
   "outputs": [
    {
     "output_type": "stream",
     "name": "stdout",
     "output_type": "stream",
     "text": [
      "Out[69]: [FileInfo(path='dbfs:/FileStore/tables/emails/emails.csv', name='emails.csv', size=1426122219, modificationTime=1739712700000)]"
     ]
    }
   ],
   "source": [
    "dbutils.fs.ls('/FileStore/tables/emails')"
   ]
  },
  {
   "cell_type": "code",
   "execution_count": 0,
   "metadata": {
    "application/vnd.databricks.v1+cell": {
     "cellMetadata": {
      "byteLimit": 2048000,
      "rowLimit": 10000
     },
     "inputWidgets": {},
     "nuid": "d09e2452-d286-4842-b2ff-d99d094e5775",
     "showTitle": false,
     "tableResultSettingsMap": {},
     "title": ""
    }
   },
   "outputs": [
    {
     "output_type": "stream",
     "name": "stdout",
     "output_type": "stream",
     "text": [
      "[Truncated to first 65536 bytes]\nOut[70]: '\"file\",\"message\"\\n\"allen-p/_sent_mail/1.\",\"Message-ID: <18782981.1075855378110.JavaMail.evans@thyme>\\nDate: Mon, 14 May 2001 16:39:00 -0700 (PDT)\\nFrom: phillip.allen@enron.com\\nTo: tim.belden@enron.com\\nSubject: \\nMime-Version: 1.0\\nContent-Type: text/plain; charset=us-ascii\\nContent-Transfer-Encoding: 7bit\\nX-From: Phillip K Allen\\nX-To: Tim Belden <Tim Belden/Enron@EnronXGate>\\nX-cc: \\nX-bcc: \\nX-Folder: \\\\Phillip_Allen_Jan2002_1\\\\Allen, Phillip K.\\\\\\'Sent Mail\\nX-Origin: Allen-P\\nX-FileName: pallen (Non-Privileged).pst\\n\\nHere is our forecast\\n\\n \"\\n\"allen-p/_sent_mail/10.\",\"Message-ID: <15464986.1075855378456.JavaMail.evans@thyme>\\nDate: Fri, 4 May 2001 13:51:00 -0700 (PDT)\\nFrom: phillip.allen@enron.com\\nTo: john.lavorato@enron.com\\nSubject: Re:\\nMime-Version: 1.0\\nContent-Type: text/plain; charset=us-ascii\\nContent-Transfer-Encoding: 7bit\\nX-From: Phillip K Allen\\nX-To: John J Lavorato <John J Lavorato/ENRON@enronXgate@ENRON>\\nX-cc: \\nX-bcc: \\nX-Folder: \\\\Phillip_Allen_Jan2002_1\\\\Allen, Phillip K.\\\\\\'Sent Mail\\nX-Origin: Allen-P\\nX-FileName: pallen (Non-Privileged).pst\\n\\nTraveling to have a business meeting takes the fun out of the trip.  Especially if you have to prepare a presentation.  I would suggest holding the business plan meetings here then take a trip without any formal business meetings.  I would even try and get some honest opinions on whether a trip is even desired or necessary.\\n\\nAs far as the business meetings, I think it would be more productive to try and stimulate discussions across the different groups about what is working and what is not.  Too often the presenter speaks and the others are quiet just waiting for their turn.   The meetings might be better if held in a round table discussion format.  \\n\\nMy suggestion for where to go is Austin.  Play golf and rent a ski boat and jet ski\\'s.  Flying somewhere takes too much time.\\n\"\\n\"allen-p/_sent_mail/100.\",\"Message-ID: <24216240.1075855687451.JavaMail.evans@thyme>\\nDate: Wed, 18 Oct 2000 03:00:00 -0700 (PDT)\\nFrom: phillip.allen@enron.com\\nTo: leah.arsdall@enron.com\\nSubject: Re: test\\nMime-Version: 1.0\\nContent-Type: text/plain; charset=us-ascii\\nContent-Transfer-Encoding: 7bit\\nX-From: Phillip K Allen\\nX-To: Leah Van Arsdall\\nX-cc: \\nX-bcc: \\nX-Folder: \\\\Phillip_Allen_Dec2000\\\\Notes Folders\\\\\\'sent mail\\nX-Origin: Allen-P\\nX-FileName: pallen.nsf\\n\\ntest successful.  way to go!!!\"\\n\"allen-p/_sent_mail/1000.\",\"Message-ID: <13505866.1075863688222.JavaMail.evans@thyme>\\nDate: Mon, 23 Oct 2000 06:13:00 -0700 (PDT)\\nFrom: phillip.allen@enron.com\\nTo: randall.gay@enron.com\\nSubject: \\nMime-Version: 1.0\\nContent-Type: text/plain; charset=us-ascii\\nContent-Transfer-Encoding: 7bit\\nX-From: Phillip K Allen\\nX-To: Randall L Gay\\nX-cc: \\nX-bcc: \\nX-Folder: \\\\Phillip_Allen_Dec2000\\\\Notes Folders\\\\\\'sent mail\\nX-Origin: Allen-P\\nX-FileName: pallen.nsf\\n\\nRandy,\\n\\n Can you send me a schedule of the salary and level of everyone in the \\nscheduling group.  Plus your thoughts on any changes that need to be made.  \\n(Patti S for example)\\n\\nPhillip\"\\n\"allen-p/_sent_mail/1001.\",\"Message-ID: <30922949.1075863688243.JavaMail.evans@thyme>\\nDate: Thu, 31 Aug 2000 05:07:00 -0700 (PDT)\\nFrom: phillip.allen@enron.com\\nTo: greg.piper@enron.com\\nSubject: Re: Hello\\nMime-Version: 1.0\\nContent-Type: text/plain; charset=us-ascii\\nContent-Transfer-Encoding: 7bit\\nX-From: Phillip K Allen\\nX-To: Greg Piper\\nX-cc: \\nX-bcc: \\nX-Folder: \\\\Phillip_Allen_Dec2000\\\\Notes Folders\\\\\\'sent mail\\nX-Origin: Allen-P\\nX-FileName: pallen.nsf\\n\\nLet\\'s shoot for Tuesday at 11:45.  \"\\n\"allen-p/_sent_mail/1002.\",\"Message-ID: <30965995.1075863688265.JavaMail.evans@thyme>\\nDate: Thu, 31 Aug 2000 04:17:00 -0700 (PDT)\\nFrom: phillip.allen@enron.com\\nTo: greg.piper@enron.com\\nSubject: Re: Hello\\nMime-Version: 1.0\\nContent-Type: text/plain; charset=us-ascii\\nContent-Transfer-Encoding: 7bit\\nX-From: Phillip K Allen\\nX-To: Greg Piper\\nX-cc: \\nX-bcc: \\nX-Folder: \\\\Phillip_Allen_Dec2000\\\\Notes Folders\\\\\\'sent mail\\nX-Origin: Allen-P\\nX-FileName: pallen.nsf\\n\\nGreg,\\n\\n How about either next Tuesday or Thursday?\\n\\nPhillip\"\\n\"allen-p/_sent_mail/1003.\",\"Message-ID: <16254169.1075863688286.JavaMail.evans@thyme>\\nDate: Tue, 22 Aug 2000 07:44:00 -0700 (PDT)\\nFrom: phillip.allen@enron.com\\nTo: david.l.johnson@enron.com, john.shafer@enron.com\\nSubject: \\nMime-Version: 1.0\\nContent-Type: text/plain; charset=us-ascii\\nContent-Transfer-Encoding: 7bit\\nX-From: Phillip K Allen\\nX-To: david.l.johnson@enron.com, John Shafer\\nX-cc: \\nX-bcc: \\nX-Folder: \\\\Phillip_Allen_Dec2000\\\\Notes Folders\\\\\\'sent mail\\nX-Origin: Allen-P\\nX-FileName: pallen.nsf\\n\\nPlease cc the following distribution list with updates:\\n\\nPhillip Allen (pallen@enron.com)\\nMike Grigsby (mike.grigsby@enron.com)\\nKeith Holst (kholst@enron.com)\\nMonique Sanchez\\nFrank Ermis\\nJohn Lavorato\\n\\n\\nThank you for your help\\n\\nPhillip Allen\\n\"\\n\"allen-p/_sent_mail/1004.\",\"Message-ID: <17189699.1075863688308.JavaMail.evans@thyme>\\nDate: Fri, 14 Jul 2000 06:59:00 -0700 (PDT)\\nFrom: phillip.allen@enron.com\\nTo: joyce.teixeira@enron.com\\nSubject: Re: PRC review - phone calls\\nMime-Version: 1.0\\nContent-Type: text/plain; charset=us-ascii\\nContent-Transfer-Encoding: 7bit\\nX-From: Phillip K Allen\\nX-To: Joyce Teixeira\\nX-cc: \\nX-bcc: \\nX-Folder: \\\\Phillip_Allen_Dec2000\\\\Notes Folders\\\\\\'sent mail\\nX-Origin: Allen-P\\nX-FileName: pallen.nsf\\n\\nany morning between 10 and 11:30\"\\n\"allen-p/_sent_mail/101.\",\"Message-ID: <20641191.1075855687472.JavaMail.evans@thyme>\\nDate: Tue, 17 Oct 2000 02:26:00 -0700 (PDT)\\nFrom: phillip.allen@enron.com\\nTo: mark.scott@enron.com\\nSubject: Re: High Speed Internet Access\\nMime-Version: 1.0\\nContent-Type: text/plain; charset=us-ascii\\nContent-Transfer-Encoding: 7bit\\nX-From: Phillip K Allen\\nX-To: Mark Scott\\nX-cc: \\nX-bcc: \\nX-Folder: \\\\Phillip_Allen_Dec2000\\\\Notes Folders\\\\\\'sent mail\\nX-Origin: Allen-P\\nX-FileName: pallen.nsf\\n\\n1. login:  pallen pw: ke9davis\\n\\n I don\\'t think these are required by the ISP \\n\\n  2.  static IP address\\n\\n IP: 64.216.90.105\\n Sub: 255.255.255.248\\n gate: 64.216.90.110\\n DNS: 151.164.1.8\\n\\n  3.  Company: 0413\\n        RC:  105891\"\\n\"allen-p/_sent_mail/102.\",\"Message-ID: <30795301.1075855687494.JavaMail.evans@thyme>\\nDate: Mon, 16 Oct 2000 06:44:00 -0700 (PDT)\\nFrom: phillip.allen@enron.com\\nTo: zimam@enron.com\\nSubject: FW: fixed forward or other Collar floor gas price terms\\nMime-Version: 1.0\\nContent-Type: text/plain; charset=us-ascii\\nContent-Transfer-Encoding: 7bit\\nX-From: Phillip K Allen\\nX-To: zimam@enron.com\\nX-cc: \\nX-bcc: \\nX-Folder: \\\\Phillip_Allen_Dec2000\\\\Notes Folders\\\\\\'sent mail\\nX-Origin: Allen-P\\nX-FileName: pallen.nsf\\n\\n---------------------- Forwarded by Phillip K Allen/HOU/ECT on 10/16/2000 \\n01:42 PM ---------------------------\\n\\n\\n\"\"Buckner, Buck\"\" <buck.buckner@honeywell.com> on 10/12/2000 01:12:21 PM\\nTo: \"\"\\'Pallen@Enron.com\\'\"\" <Pallen@Enron.com>\\ncc:  \\nSubject: FW: fixed forward or other Collar floor gas price terms\\n\\n\\nPhillip,\\n\\n> As discussed  during our phone conversation, In a Parallon 75 microturbine\\n> power generation deal for a national accounts customer, I am developing a\\n> proposal to sell power to customer at fixed or collar/floor price. To do\\n> so I need a corresponding term gas price for same. Microturbine is an\\n> onsite generation product developed by Honeywell to generate electricity\\n> on customer site (degen). using natural gas. In doing so,  I need your\\n> best fixed price forward gas price deal for 1, 3, 5, 7 and 10 years for\\n> annual/seasonal supply to microturbines to generate fixed kWh for\\n> customer. We have the opportunity to sell customer kWh \\'s using\\n> microturbine or sell them turbines themselves. kWh deal must have limited/\\n> no risk forward gas price to make deal work. Therein comes Sempra energy\\n> gas trading, truly you.\\n>\\n> We are proposing installing 180 - 240 units across a large number of\\n> stores (60-100) in San Diego.\\n> Store number varies because of installation hurdles face at small percent.\\n>\\n> For 6-8 hours a day  Microturbine run time:\\n> Gas requirement for 180 microturbines 227 - 302 MMcf per year\\n> Gas requirement for 240 microturbines 302 - 403 MMcf per year\\n>\\n> Gas will likely be consumed from May through September, during peak\\n> electric period.\\n> Gas price required: Burnertip price behind (LDC) San Diego Gas & Electric\\n> Need detail breakout of commodity and transport cost (firm or\\n> interruptible).\\n>\\n> Should you have additional questions, give me a call.\\n> Let me assure you, this is real deal!!\\n>\\n> Buck Buckner, P.E., MBA\\n> Manager, Business Development and Planning\\n> Big Box Retail Sales\\n> Honeywell Power Systems, Inc.\\n> 8725 Pan American Frwy\\n> Albuquerque, NM 87113\\n> 505-798-6424\\n> 505-798-6050x\\n> 505-220-4129\\n> 888/501-3145\\n> \\n\"\\n\"allen-p/_sent_mail/103.\",\"Message-ID: <33076797.1075855687515.JavaMail.evans@thyme>\\nDate: Mon, 16 Oct 2000 06:42:00 -0700 (PDT)\\nFrom: phillip.allen@enron.com\\nTo: buck.buckner@honeywell.com\\nSubject: Re: FW: fixed forward or other Collar floor gas price terms\\nMime-Version: 1.0\\nContent-Type: text/plain; charset=us-ascii\\nContent-Transfer-Encoding: 7bit\\nX-From: Phillip K Allen\\nX-To: \"\"Buckner, Buck\"\" <buck.buckner@honeywell.com> @ ENRON\\nX-cc: \\nX-bcc: \\nX-Folder: \\\\Phillip_Allen_Dec2000\\\\Notes Folders\\\\\\'sent mail\\nX-Origin: Allen-P\\nX-FileName: pallen.nsf\\n\\nMr. Buckner,\\n\\n For delivered gas behind San Diego, Enron Energy Services is the appropriate \\nEnron entity.  I have forwarded your request to Zarin Imam at EES.  Her phone \\nnumber is 713-853-7107.  \\n\\nPhillip Allen\"\\n\"allen-p/_sent_mail/104.\",\"Message-ID: <25459584.1075855687536.JavaMail.evans@thyme>\\nDate: Fri, 13 Oct 2000 06:45:00 -0700 (PDT)\\nFrom: phillip.allen@enron.com\\nTo: stagecoachmama@hotmail.com\\nSubject: \\nMime-Version: 1.0\\nContent-Type: text/plain; charset=us-ascii\\nContent-Transfer-Encoding: 7bit\\nX-From: Phillip K Allen\\nX-To: stagecoachmama@hotmail.com\\nX-cc: \\nX-bcc: \\nX-Folder: \\\\Phillip_Allen_Dec2000\\\\Notes Folders\\\\\\'sent mail\\nX-Origin: Allen-P\\nX-FileName: pallen.nsf\\n\\nLucy,\\n\\n Here are the rentrolls:\\n\\n\\n\\n Open them and save in the rentroll folder.  Follow these steps so you don\\'t \\nmisplace these files.\\n\\n 1.  Click on Save As\\n 2.  Click on the drop down triangle under Save in:\\n 3.  Click on the  (C): drive\\n 4.  Click on the appropriate folder\\n 5.  Click on Save:\\n\\nPhillip\"\\n\"allen-p/_sent_mail/105.\",\"Message-ID: <13116875.1075855687561.JavaMail.evans@thyme>\\nDate: Mon, 9 Oct 2000 07:16:00 -0700 (PDT)\\nFrom: phillip.allen@enron.com\\nTo: keith.holst@enron.com\\nSubject: Consolidated positions: Issues & To Do list\\nMime-Version: 1.0\\nContent-Type: text/plain; charset=us-ascii\\nContent-Transfer-Encoding: 7bit\\nX-From: Phillip K Allen\\nX-To: Keith Holst\\nX-cc: \\nX-bcc: \\nX-Folder: \\\\Phillip_Allen_Dec2000\\\\Notes Folders\\\\\\'sent mail\\nX-Origin: Allen-P\\nX-FileName: pallen.nsf\\n\\n---------------------- Forwarded by Phillip K Allen/HOU/ECT on 10/09/2000 \\n02:16 PM ---------------------------\\n\\n\\nRichard Burchfield\\n10/06/2000 06:59 AM\\nTo: Phillip K Allen/HOU/ECT@ECT\\ncc: Beth Perlman/HOU/ECT@ECT \\nSubject: Consolidated positions: Issues & To Do list\\n\\nPhillip,\\n Below is the issues & to do list as we go forward with documenting the \\nrequirements for consolidated physical/financial positions and transport \\ntrade capture. What we need to focus on is the first bullet in Allan\\'s list; \\nthe need for a single set of requirements. Although the meeting with Keith, \\non Wednesday,  was informative the solution of creating a infinitely dynamic \\nconsolidated position screen, will be extremely difficult and time \\nconsuming.  Throughout the meeting on Wednesday, Keith alluded to the \\ninability to get consensus amongst the traders on the presentation of the \\nconsolidated position, so the solution was to make it so that a trader can \\narrange the position screen to their liking (much like Excel). What needs to \\nhappen on Monday from 3 - 5 is a effort to design a desired layout for the \\nconsolidated position screen, this is critical. This does not exclude \\nbuilding a capability to create a more flexible position presentation for the \\nfuture, but in order to create a plan that can be measured we need firm \\nrequirements. Also, to reiterate that the goals of this project is a project \\nplan on consolidate physical/financial positions and transport trade capture. \\nThe other issues that have been raised will be capture as projects on to \\nthemselves, and will need to be prioritised as efforts outside of this \\nproject.\\n\\nI have been involved in most of the meetings and the discussions have been \\ngood. I believe there has been good communication between the teams, but now \\nwe need to have focus on the objectives we set out to solve.\\n\\nRichard  \\n---------------------- Forwarded by Richard Burchfield/HOU/ECT on 10/06/2000 \\n08:34 AM ---------------------------\\n\\n\\nAllan Severude\\n10/05/2000 06:03 PM\\nTo: Richard Burchfield/HOU/ECT@ECT\\ncc: Peggy Alix/HOU/ECT@ECT, Russ Severson/HOU/ECT@ECT, Scott \\nMills/HOU/ECT@ECT, Kenny Ha/HOU/ECT@ECT \\nSubject: Consolidated positions: Issues & To Do list\\n\\n\\nFrom our initial set of meetings with the traders regarding consolidated \\npositions, I think we still have the following issues:\\nWe don\\'t have a single point of contact from the trading group.  We\\'ve had \\nthree meetings which brought out very different issues from different \\ntraders.  We really need a single point of contact to help drive the trader \\nrequirements and help come to a consensus regarding the requirements.\\nWe\\'re getting hit with a lot of different requests, many of which appear to \\nbe outside the scope of position consolidation.\\n\\nThings left to do:\\nI think it may be useful to try to formulate a high level project goal to \\nmake it as clear as possible what we\\'re trying to accomplish with this \\nproject.  It\\'ll help determine which requests fall under the project scope.\\nGo through the list of requests to determine which are in scope for this \\nproject and which fall out of scope.\\nFor those in scope, work to define relative importance (priority) of each and \\nwork with traders to define the exact requirements of each.\\nDefine the desired lay out of the position manager screen: main view and all \\ndrill downs.\\nUse the above to formulate a project plan.\\n\\nThings requested thus far (no particular order):\\nInclusion of Sitara physical deals into the TDS position manager and deal \\nticker.\\nCustomized rows and columns in the position manager (ad hoc rows/columns that \\nadd up existing position manager rows/columns).\\nNew drill down in the position manager to break out positions by: physical, \\ntransport, swaps, options, ...\\nAddition of a curve tab to the position manager to show the real-time values \\nof all curves on which the desk has a position.\\nAbility to split the current position grid to allow daily positions to be \\nshown directly above monthly positions.  Each grouped column in the top grid \\nwould be tied to a grouped column in the bottom grid.\\nAbility to properly show curve shift for float-for-float deals; determine the \\nappropriate positions to show for each:\\nGas Daily for monthly index,\\nPhysical gas for Nymex,\\nPhysical gas for Inside Ferc,\\nPhysical gas for Mid market.\\nAbility for TDS to pull valuation results based on a TDS flag instead of \\nusing official valuations.\\nPosition and P&L aggregation across all gas desks.\\nAbility to include the Gas Price book into TDS:\\nInclusion of spread options in our systems.  Ability to handle volatility \\nskew and correlations.\\nAbility to revalue all options incrementally throughout the trading day.  \\nApproximate delta changes between valuations using instantaneous gamma or a \\ngamma grid.\\nValuation of Gas Daily options.\\nA new position screen for options (months x strike x delta).  TBD.\\nInclusion of positions for exotic options currently managed in spreadsheets.\\nAbility to isolate the position change due to changed deals in the position \\nmanager.\\nAbility to view change deal P&L in the TDS deal ticker.  Show new deal terms, \\nprior deal terms, and net P&L affect of the change.\\nEliminate change deals with no economic impact from the TDS deal ticker.\\nPosition drill down in the position manager to isolate the impact of \\nindividual deals on the position total in a grid cell.\\nBenchmark positions in TDS.\\nDeployment of TDS in Canada. Currency and volume uom conversions. Implicit \\nand explicit position break out issues.\\n\\n-- Allan.\\n\\nPS: Colleen is setting up a meeting tomorrow to discuss the direction for \\ntransport.  Hopefully we\\'ll know much better where that part stands at that \\npoint.\\n\\n\\n\\n\\n\"\\n\"allen-p/_sent_mail/106.\",\"Message-ID: <2707340.1075855687584.JavaMail.evans@thyme>\\nDate: Mon, 9 Oct 2000 07:00:00 -0700 (PDT)\\nFrom: phillip.allen@enron.com\\nTo: keith.holst@enron.com\\nSubject: Consolidated positions: Issues & To Do list\\nMime-Version: 1.0\\nContent-Type: text/plain; charset=us-ascii\\nContent-Transfer-Encoding: 7bit\\nX-From: Phillip K Allen\\nX-To: Keith Holst\\nX-cc: \\nX-bcc: \\nX-Folder: \\\\Phillip_Allen_Dec2000\\\\Notes Folders\\\\\\'sent mail\\nX-Origin: Allen-P\\nX-FileName: pallen.nsf\\n\\n---------------------- Forwarded by Phillip K Allen/HOU/ECT on 10/09/2000 \\n02:00 PM ---------------------------\\n\\n\\nRichard Burchfield\\n10/06/2000 06:59 AM\\nTo: Phillip K Allen/HOU/ECT@ECT\\ncc: Beth Perlman/HOU/ECT@ECT \\nSubject: Consolidated positions: Issues & To Do list\\n\\nPhillip,\\n Below is the issues & to do list as we go forward with documenting the \\nrequirements for consolidated physical/financial positions and transport \\ntrade capture. What we need to focus on is the first bullet in Allan\\'s list; \\nthe need for a single set of requirements. Although the meeting with Keith, \\non Wednesday,  was informative the solution of creating a infinitely dynamic \\nconsolidated position screen, will be extremely difficult and time \\nconsuming.  Throughout the meeting on Wednesday, Keith alluded to the \\ninability to get consensus amongst the traders on the presentation of the \\nconsolidated position, so the solution was to make it so that a trader can \\narrange the position screen to their liking (much like Excel). What needs to \\nhappen on Monday from 3 - 5 is a effort to design a desired layout for the \\nconsolidated position screen, this is critical. This does not exclude \\nbuilding a capability to create a more flexible position presentation for the \\nfuture, but in order to create a plan that can be measured we need firm \\nrequirements. Also, to reiterate that the goals of this project is a project \\nplan on consolidate physical/financial positions and transport trade capture. \\nThe other issues that have been raised will be capture as projects on to \\nthemselves, and will need to be prioritised as efforts outside of this \\nproject.\\n\\nI have been involved in most of the meetings and the discussions have been \\ngood. I believe there has been good communication between the teams, but now \\nwe need to have focus on the objectives we set out to solve.\\n\\nRichard  \\n---------------------- Forwarded by Richard Burchfield/HOU/ECT on 10/06/2000 \\n08:34 AM ---------------------------\\n\\n\\nAllan Severude\\n10/05/2000 06:03 PM\\nTo: Richard Burchfield/HOU/ECT@ECT\\ncc: Peggy Alix/HOU/ECT@ECT, Russ Severson/HOU/ECT@ECT, Scott \\nMills/HOU/ECT@ECT, Kenny Ha/HOU/ECT@ECT \\nSubject: Consolidated positions: Issues & To Do list\\n\\n\\nFrom our initial set of meetings with the traders regarding consolidated \\npositions, I think we still have the following issues:\\nWe don\\'t have a single point of contact from the trading group.  We\\'ve had \\nthree meetings which brought out very different issues from different \\ntraders.  We really need a single point of contact to help drive the trader \\nrequirements and help come to a consensus regarding the requirements.\\nWe\\'re getting hit with a lot of different requests, many of which appear to \\nbe outside the scope of position consolidation.\\n\\nThings left to do:\\nI think it may be useful to try to formulate a high level project goal to \\nmake it as clear as possible what we\\'re trying to accomplish with this \\nproject.  It\\'ll help determine which requests fall under the project scope.\\nGo through the list of requests to determine which are in scope for this \\nproject and which fall out of scope.\\nFor those in scope, work to define relative importance (priority) of each and \\nwork with traders to define the exact requirements of each.\\nDefine the desired lay out of the position manager screen: main view and all \\ndrill downs.\\nUse the above to formulate a project plan.\\n\\nThings requested thus far (no particular order):\\nInclusion of Sitara physical deals into the TDS position manager and deal \\nticker.\\nCustomized rows and columns in the position manager (ad hoc rows/columns that \\nadd up existing position manager rows/columns).\\nNew drill down in the position manager to break out positions by: physical, \\ntransport, swaps, options, ...\\nAddition of a curve tab to the position manager to show the real-time values \\nof all curves on which the desk has a position.\\nAbility to split the current position grid to allow daily positions to be \\nshown directly above monthly positions.  Each grouped column in the top grid \\nwould be tied to a grouped column in the bottom grid.\\nAbility to properly show curve shift for float-for-float deals; determine the \\nappropriate positions to show for each:\\nGas Daily for monthly index,\\nPhysical gas for Nymex,\\nPhysical gas for Inside Ferc,\\nPhysical gas for Mid market.\\nAbility for TDS to pull valuation results based on a TDS flag instead of \\nusing official valuations.\\nPosition and P&L aggregation across all gas desks.\\nAbility to include the Gas Price book into TDS:\\nInclusion of spread options in our systems.  Ability to handle volatility \\nskew and correlations.\\nAbility to revalue all options incrementally throughout the trading day.  \\nApproximate delta changes between valuations using instantaneous gamma or a \\ngamma grid.\\nValuation of Gas Daily options.\\nA new position screen for options (months x strike x delta).  TBD.\\nInclusion of positions for exotic options currently managed in spreadsheets.\\nAbility to isolate the position change due to changed deals in the position \\nmanager.\\nAbility to view change deal P&L in the TDS deal ticker.  Show new deal terms, \\nprior deal terms, and net P&L affect of the change.\\nEliminate change deals with no economic impact from the TDS deal ticker.\\nPosition drill down in the position manager to isolate the impact of \\nindividual deals on the position total in a grid cell.\\nBenchmark positions in TDS.\\nDeployment of TDS in Canada. Currency and volume uom conversions. Implicit \\nand explicit position break out issues.\\n\\n-- Allan.\\n\\nPS: Colleen is setting up a meeting tomorrow to discuss the direction for \\ntransport.  Hopefully we\\'ll know much better where that part stands at that \\npoint.\\n\\n\\n\\n\\n\"\\n\"allen-p/_sent_mail/107.\",\"Message-ID: <2465689.1075855687605.JavaMail.evans@thyme>\\nDate: Thu, 5 Oct 2000 06:26:00 -0700 (PDT)\\nFrom: phillip.allen@enron.com\\nTo: david.delainey@enron.com\\nSubject: \\nMime-Version: 1.0\\nContent-Type: text/plain; charset=us-ascii\\nContent-Transfer-Encoding: 7bit\\nX-From: Phillip K Allen\\nX-To: David W Delainey\\nX-cc: \\nX-bcc: \\nX-Folder: \\\\Phillip_Allen_Dec2000\\\\Notes Folders\\\\\\'sent mail\\nX-Origin: Allen-P\\nX-FileName: pallen.nsf\\n\\nDave, \\n\\n Here are the names of the west desk members by category.  The origination \\nside is very sparse.  \\n\\n\\n\\n\\n\\nPhillip\\n\"\\n\"allen-p/_sent_mail/108.\",\"Message-ID: <1115198.1075855687626.JavaMail.evans@thyme>\\nDate: Thu, 5 Oct 2000 05:55:00 -0700 (PDT)\\nFrom: phillip.allen@enron.com\\nTo: paula.harris@enron.com\\nSubject: Re: 2001 Margin Plan\\nMime-Version: 1.0\\nContent-Type: text/plain; charset=us-ascii\\nContent-Transfer-Encoding: 7bit\\nX-From: Phillip K Allen\\nX-To: Paula Harris\\nX-cc: \\nX-bcc: \\nX-Folder: \\\\Phillip_Allen_Dec2000\\\\Notes Folders\\\\\\'sent mail\\nX-Origin: Allen-P\\nX-FileName: pallen.nsf\\n\\nPaula,\\n\\n 35 million is fine\\n\\nPhillip\"\\n\"allen-p/_sent_mail/109.\",\"Message-ID: <19773657.1075855687649.JavaMail.evans@thyme>\\nDate: Wed, 4 Oct 2000 09:23:00 -0700 (PDT)\\nFrom: phillip.allen@enron.com\\nTo: ina.rangel@enron.com\\nSubject: Var, Reporting and Resources Meeting\\nMime-Version: 1.0\\nContent-Type: text/plain; charset=us-ascii\\nContent-Transfer-Encoding: 7bit\\nX-From: Phillip K Allen\\nX-To: Ina Rangel\\nX-cc: \\nX-bcc: \\nX-Folder: \\\\Phillip_Allen_Dec2000\\\\Notes Folders\\\\\\'sent mail\\nX-Origin: Allen-P\\nX-FileName: pallen.nsf\\n\\n---------------------- Forwarded by Phillip K Allen/HOU/ECT on 10/04/2000 \\n04:23 PM ---------------------------\\n   \\n\\tEnron North America Corp.\\n\\t\\n\\tFrom:  Airam Arteaga                           10/04/2000 12:23 PM\\n\\t\\n\\nTo: Phillip \n\n*** WARNING: max output size exceeded, skipping output. ***\n\ne, which I would\\nestimate as $10,000 per lot for a loan value of $7,000 per lot.  Then the\\nloan value for each improved lot would be $15,000 per lot.  This would give\\nyou a total loan of $992,000, total cost of $1,232,645 for equity required\\nof $241,000.  This was not presented in the initial analysis as the phasing\\nis depended on a more careful assessment by the Civil Engineer as the\\nseparate phases must each be able to stand on its own from a utility\\nstandpoint.\\n\\nCONSTRUCTION LOANS\\nThere are three types of  construction loans.  First, is a speculative\\n(spec) loan that is taken out prior to any pre-sales activity.  Second,  is\\na construction loan for a pre-sold unit, but the loan remains in the\\nbuilder/developers name.  Third, is a pre-sold unit with the construction\\nloan in the name of the buyer.  We expect to have up to 8 spec loans to\\nstart the project and expect all other loans to be pre-sold units with loans\\nin the name of the builder/developer.  We do not expect to have any\\nconstruction loans in the name of the buyers, as such loans are too\\ndifficult to manage and please new buyers unfamiliar with the process.\\n\\nSpec loans will be for 70% to 75% of value and construction loans for\\npre-sold units, if the construction loan is from the mortgage lender,  will\\nbe from 80% to 95% of value.\\n\\nDISBURSEMENTS\\nDisbursements will be handled by the General Partner to cover current and\\nnear term third party costs, then to necessary reserves, then to priority\\npayments and then to the partners per the agreement.  The General Partner\\nwill contract with Creekside Builders, LLC to construct the units and the\\nfee to CB will include a construction management and overhead fee equal to\\n15% of the direct hard cost excluding land, financing and sales costs.\\nThese fees are the only monies to Creekside, Larry Lewter or myself prior to\\ncalculation of profit, except for a) direct reimbursement for partnership\\nexpenses and b) direct payment to CB for any subcontractor costs that it has\\nto perform.  For example, if CB cannot find a good trim carpenter sub, or\\ncannot find enough trim carpenters, etc., and it decides to undertake this\\nfunction, it will charge the partnership the same fee it was able to obtain\\nfrom third parties and will disclose those cases to the partnership.\\nFinally, CB will receive a fee for the use of any of its equipment if it is\\nused in lieu of leasing equipment from others.  At present CB does not own\\nany significant equipment, but it is considering the purchase of a sky track\\nto facilitate and speed up framing, cornice, roofing and drywall spreading.\\n\\nREPORTING\\nWe are more than willing to provide reports to track expenses vs. plan.\\nWhat did you have in mind?  I would like to use some form of internet based\\nreporting.\\n\\nBOOKKEEPING\\nI am not sure what you are referring to by the question, \"\"Bookkeeping\\nprocedures to record actual expenses?\"\"  Please expand.\\n\\nINVESTOR INPUT\\nWe are glad to have the investor\\'s input on design and materials.  As always\\nthe question will be who has final say if there is disagreement, but in my\\nexperience I have always been able to reach consensus. As you, and I presume\\nKeith, want to be involved to learn as much as possible we would make every\\neffort to be accommodating.\\n\\nCREEKSIDE PROCEEDURES\\nCB procedures for dealing with subs, vendors and professionals is not as\\nformal as your question indicates.  In the EXTREMELY tight labor market\\nobtaining 3 bids for each labor trade is not feasible.  For the professional\\nsubs we use those with whom we have developed a previous rapport.  Finally,\\nfor vendors they are constantly shopped.\\n\\nPRE-SELECTED PROFESSIONALS, SUBS AND VENDORS\\nYes there are many different subs that have been identified and I can\\nprovide these if you are interested.\\n\\nI know I have not answered everything, but this is a starting point.  Call\\nwhen you have reviewed and we can discuss further.\\n\\nSincerely,\\n\\nGeorge Richards\\nPresident, Creekside Builders, LLC\\n\\n\\n\\n\\n - winmail.dat\\n\"\\n\"allen-p/_sent_mail/118.\",\"Message-ID: <719350.1075855687850.JavaMail.evans@thyme>\\nDate: Tue, 26 Sep 2000 09:26:00 -0700 (PDT)\\nFrom: phillip.allen@enron.com\\nTo: pallen70@hotmail.com\\nSubject: Investment Structure\\nMime-Version: 1.0\\nContent-Type: text/plain; charset=us-ascii\\nContent-Transfer-Encoding: 7bit\\nX-From: Phillip K Allen\\nX-To: pallen70@hotmail.com\\nX-cc: \\nX-bcc: \\nX-Folder: \\\\Phillip_Allen_Dec2000\\\\Notes Folders\\\\\\'sent mail\\nX-Origin: Allen-P\\nX-FileName: pallen.nsf\\n\\n---------------------- Forwarded by Phillip K Allen/HOU/ECT on 09/26/2000 \\n04:26 PM ---------------------------\\n\\n\\n\"\"George Richards\"\" <cbpres@austin.rr.com> on 09/26/2000 01:18:45 PM\\nPlease respond to <cbpres@austin.rr.com>\\nTo: \"\"Phillip Allen\"\" <pallen@enron.com>\\ncc: \"\"Larry Lewter\"\" <retwell@mail.sanmarcos.net>, \"\"Claudia L. Crocker\"\" \\n<clclegal2@aol.com> \\nSubject: Investment Structure\\n\\n\\nSTRUCTURE:\\nTypically the structure is a limited partnership with a corporate (or LLC)\\ngeneral partner.  The General Partner owns 1% of the project and carries the\\nliability of construction.\\n\\nLAND OWNERSHIP & LOANS\\nThe property would be purchased in the name of the limited partnership and\\nany land loans, land improvements loans and construction loans would be in\\nthe name of the limited partnership.  Each of the individual investors and\\nall of the principals in Creekside would also personally guarantee the\\nloans.  If the investor(s) do not sign on the loans, this generally means\\nthat a larger amount of cash is required and the investor\\'s share of profits\\nis reduced.\\n\\nAll loans for residential construction, that are intended for re-sale, are\\nfull recourse loans.  If we are pursuing multifamily rental developments,\\nthe construction loans are still full recourse but the mortgage can often be\\nnon-recourse.\\n\\nUSE OF INITIAL INVESTMENT\\nThe initial investment is used for land deposit, engineering &\\narchitectural design, soils tests, surveys, filing fees, legal fees for\\norganization and condominium association formation,  and appraisals.  Unlike\\nmany real estate investment programs, none of the funds are used for fees to\\nCreekside Builders, LLC.  These professional expenses will be incurred over\\nthe estimated 6 month design and approval period.\\n\\nEARLY LAND COSTS\\nThe $4,000 per month costs listed in the cash flow as part of land cost\\nrepresent the extension fees due to the seller for up to 4 months of\\nextensions on closing.  As an alternative, we can close into a land loan at\\nprobably 70% of appraised value.  With a land value equal to the purchase\\nprice of $680,000 this would mean a land loan of $476,000 with estimated\\nmonthly interest payments of $3,966, given a 10% annual interest rate, plus\\napproximately 1.25% of the loan amount for closing costs and loan fees.\\n\\nEQUITY AT IMPROVEMENT LOAN\\nOnce the site plan is approved by the City of Austin, the City will require\\nthe development entity to post funds for fiscal improvements, referred to as\\nthe \"\"fiscals\"\".  This cost represents a bond for the completion of\\nimprovements that COA considers vital and these funds are released once the\\nimprovements have been completed and accepted by COA.  This release will be\\nfor 90% of the cost with the remaining 10% released one year after\\ncompletion.  Releases can be granted once every 90 days and you should\\nexpect that the release would occur 6 months after the start of lot\\nimprovement construction.  These fiscals are usually posted in cash or an\\nirrevocable letter of credit.  As such, they have to be counted as a\\ndevelopment cost, even though they are not spent.  Because they are not\\nspent no interest is charged on these funds.\\n\\nThe lot improvement loan is typically 75% of the appraised value of a\\nfinished lot, which I suspect will be at least $20,000 and potentially as\\nhigh as $25,000.  This would produce a loan amount of  $15,000 on $20,000\\nper lot.  With estimated per lot improvement costs of $9,000, \\'fiscals\\' at\\n$2,000 and the land cost at $8,000 , total improved lot cost is $19,000\\nwhich means $0 to $4,000 per lot in total equity.  The investment prior to\\nobtaining the improvement loan would count towards any equity requirement\\nprovided it was for direct costs.  Thus, the additional equity for the\\nimprovement loan would be $0-$184,000.   Even if the maximum loan would\\ncover all costs, it is unlikely the bank would allow reimbursement of funds\\nspent. The higher estimates of equity investments are shown in the\\npreliminary proforma to be on the safe side.  The engineer is preparing a\\ntentative site layout with an initial evaluation of the phasing, which can\\nsignificantly reduce the cash equity requirement.\\n\\nPhasing works as follows.  If the first phase was say 40 units, the total\\nlot improvement cost might average $31,000 per lot.   Of this, probably\\n$13,000 would be for improvements and $19,000 for the land cost.  The\\nimprovements are higher to cover large one time up front costs for design\\ncosts, the entry road, water treatment costs, perimeter fencing and\\nlandscaping, and so on, as well as for 100% of the land.  The land loan for\\nundeveloped lots would be 70% of the appraised raw lot value, which I would\\nestimate as $10,000 per lot for a loan value of $7,000 per lot.  Then the\\nloan value for each improved lot would be $15,000 per lot.  This would give\\nyou a total loan of $992,000, total cost of $1,232,645 for equity required\\nof $241,000.  This was not presented in the initial analysis as the phasing\\nis depended on a more careful assessment by the Civil Engineer as the\\nseparate phases must each be able to stand on its own from a utility\\nstandpoint.\\n\\nCONSTRUCTION LOANS\\nThere are three types of  construction loans.  First, is a speculative\\n(spec) loan that is taken out prior to any pre-sales activity.  Second,  is\\na construction loan for a pre-sold unit, but the loan remains in the\\nbuilder/developers name.  Third, is a pre-sold unit with the construction\\nloan in the name of the buyer.  We expect to have up to 8 spec loans to\\nstart the project and expect all other loans to be pre-sold units with loans\\nin the name of the builder/developer.  We do not expect to have any\\nconstruction loans in the name of the buyers, as such loans are too\\ndifficult to manage and please new buyers unfamiliar with the process.\\n\\nSpec loans will be for 70% to 75% of value and construction loans for\\npre-sold units, if the construction loan is from the mortgage lender,  will\\nbe from 80% to 95% of value.\\n\\nDISBURSEMENTS\\nDisbursements will be handled by the General Partner to cover current and\\nnear term third party costs, then to necessary reserves, then to priority\\npayments and then to the partners per the agreement.  The General Partner\\nwill contract with Creekside Builders, LLC to construct the units and the\\nfee to CB will include a construction management and overhead fee equal to\\n15% of the direct hard cost excluding land, financing and sales costs.\\nThese fees are the only monies to Creekside, Larry Lewter or myself prior to\\ncalculation of profit, except for a) direct reimbursement for partnership\\nexpenses and b) direct payment to CB for any subcontractor costs that it has\\nto perform.  For example, if CB cannot find a good trim carpenter sub, or\\ncannot find enough trim carpenters, etc., and it decides to undertake this\\nfunction, it will charge the partnership the same fee it was able to obtain\\nfrom third parties and will disclose those cases to the partnership.\\nFinally, CB will receive a fee for the use of any of its equipment if it is\\nused in lieu of leasing equipment from others.  At present CB does not own\\nany significant equipment, but it is considering the purchase of a sky track\\nto facilitate and speed up framing, cornice, roofing and drywall spreading.\\n\\nREPORTING\\nWe are more than willing to provide reports to track expenses vs. plan.\\nWhat did you have in mind?  I would like to use some form of internet based\\nreporting.\\n\\nBOOKKEEPING\\nI am not sure what you are referring to by the question, \"\"Bookkeeping\\nprocedures to record actual expenses?\"\"  Please expand.\\n\\nINVESTOR INPUT\\nWe are glad to have the investor\\'s input on design and materials.  As always\\nthe question will be who has final say if there is disagreement, but in my\\nexperience I have always been able to reach consensus. As you, and I presume\\nKeith, want to be involved to learn as much as possible we would make every\\neffort to be accommodating.\\n\\nCREEKSIDE PROCEEDURES\\nCB procedures for dealing with subs, vendors and professionals is not as\\nformal as your question indicates.  In the EXTREMELY tight labor market\\nobtaining 3 bids for each labor trade is not feasible.  For the professional\\nsubs we use those with whom we have developed a previous rapport.  Finally,\\nfor vendors they are constantly shopped.\\n\\nPRE-SELECTED PROFESSIONALS, SUBS AND VENDORS\\nYes there are many different subs that have been identified and I can\\nprovide these if you are interested.\\n\\nI know I have not answered everything, but this is a starting point.  Call\\nwhen you have reviewed and we can discuss further.\\n\\nSincerely,\\n\\nGeorge Richards\\nPresident, Creekside Builders, LLC\\n\\n\\n\\n\\n - winmail.dat\\n\"\\n\"allen-p/_sent_mail/119.\",\"Message-ID: <10523086.1075855687873.JavaMail.evans@thyme>\\nDate: Tue, 26 Sep 2000 07:01:00 -0700 (PDT)\\nFrom: phillip.allen@enron.com\\nTo: ina.rangel@enron.com\\nSubject: \\nMime-Version: 1.0\\nContent-Type: text/plain; charset=us-ascii\\nContent-Transfer-Encoding: 7bit\\nX-From: Phillip K Allen\\nX-To: Ina Rangel\\nX-cc: \\nX-bcc: \\nX-Folder: \\\\Phillip_Allen_Dec2000\\\\Notes Folders\\\\\\'sent mail\\nX-Origin: Allen-P\\nX-FileName: pallen.nsf\\n\\n---------------------- Forwarded by Phillip K Allen/HOU/ECT on 09/26/2000 \\n02:00 PM ---------------------------\\n\\n\\n\\tReschedule\\nChairperson: Richard Burchfield\\nSent by: Cindy Cicchetti\\n\\nStart: 10/03/2000 02:30 PM\\nEnd: 10/03/2000 03:30 PM\\n\\nDescription: Gas Physical/Financail Positions - Room 2537\\n\\n\\n\\nThis meeting repeats   starting on    (if the date occurs on a weekend the \\nmeeting ).\\nMeeting Dates: \\n\\n\\n\\nFletcher J Sturm/HOU/ECT\\nScott Neal/HOU/ECT\\nHunter S Shively/HOU/ECT\\nPhillip K Allen/HOU/ECT\\nAllan Severude/HOU/ECT\\nScott Mills/HOU/ECT\\nRuss Severson/HOU/ECT\\n\\nDetailed description:\\n\\n\\n\\n---------------------- Forwarded by Phillip K Allen/HOU/ECT on 09/26/2000 \\n02:00 PM ---------------------------\\n\\n\\n\\tConfirmation\\nChairperson: Richard Burchfield\\nSent by: Cindy Cicchetti\\n\\nStart: 10/03/2000 02:30 PM\\nEnd: 10/03/2000 03:30 PM\\n\\nDescription: Gas Physical/Financail Positions - Room 2537\\n\\n\\n\\nThis meeting repeats   starting on    (if the date occurs on a weekend the \\nmeeting ).\\nMeeting Dates: \\n\\n\\n\\nFletcher J Sturm/HOU/ECT\\nScott Neal/HOU/ECT\\nHunter S Shively/HOU/ECT\\nPhillip K Allen/HOU/ECT\\nAllan Severude/HOU/ECT\\nScott Mills/HOU/ECT\\nRuss Severson/HOU/ECT\\n\\nDetailed description:\\n\\n\\nStatus update:\\nFletcher J Sturm -> No Response\\nScott Neal -> No Response\\nHunter S Shively -> No Response\\nPhillip K Allen -> No Response\\nAllan Severude -> Accepted\\nScott Mills -> Accepted\\nRuss Severson -> No Response\\n\\n\\n---------------------- Forwarded by Phillip K Allen/HOU/ECT on 09/26/2000 \\n02:00 PM ---------------------------\\n\\n\\n\\tReschedule\\nChairperson: Richard Burchfield\\nSent by: Cindy Cicchetti\\n\\nStart: 09/27/2000 02:00 PM\\nEnd: 09/27/2000 03:00 PM\\n\\nDescription: Gas Trading Vision Meeting - Room EB2601\\n\\n\\n\\nThis meeting repeats   starting on    (if the date occurs on a weekend the \\nmeeting ).\\nMeeting Dates: \\n\\n\\n\\nPhillip K Allen/HOU/ECT@ECT\\nHunter S Shively/HOU/ECT@ECT\\nScott Mills/HOU/ECT@ECT\\nAllan Severude/HOU/ECT@ECT\\nJeffrey C Gossett/HOU/ECT@ECT\\nColleen Sullivan/HOU/ECT@ECT\\nRuss Severson/HOU/ECT@ECT\\nJayant Krishnaswamy/HOU/ECT@ECT\\nRussell Long/HOU/ECT@ECT\\n\\nDetailed description:\\n\\n\\n\\n---------------------- Forwarded by Phillip K Allen/HOU/ECT on 09/26/2000 \\n02:00 PM ---------------------------\\n\\n\\n\\tConfirmation\\nChairperson: Richard Burchfield\\nSent by: Cindy Cicchetti\\n\\nStart: 09/27/2000 02:00 PM\\nEnd: 09/27/2000 03:00 PM\\n\\nDescription: Gas Trading Vision Meeting - Room EB2601\\n\\n\\n\\nThis meeting repeats   starting on    (if the date occurs on a weekend the \\nmeeting ).\\nMeeting Dates: \\n\\n\\n\\nPhillip K Allen/HOU/ECT@ECT\\nHunter S Shively/HOU/ECT@ECT\\nScott Mills/HOU/ECT@ECT\\nAllan Severude/HOU/ECT@ECT\\nJeffrey C Gossett/HOU/ECT@ECT\\nColleen Sullivan/HOU/ECT@ECT\\nRuss Severson/HOU/ECT@ECT\\nJayant Krishnaswamy/HOU/ECT@ECT\\nRussell Long/HOU/ECT@ECT\\n\\nDetailed description:\\n\\n\\nStatus update:\\nPhillip K Allen -> No Response\\nHunter S Shively -> No Response\\nScott Mills -> No Response\\nAllan Severude -> Accepted\\nJeffrey C Gossett -> Accepted\\nColleen Sullivan -> No Response\\nRuss Severson -> No Response\\nJayant Krishnaswamy -> Accepted\\nRussell Long -> Accepted\\n\\n\\n---------------------- Forwarded by Phillip K Allen/HOU/ECT on 09/26/2000 \\n02:00 PM ---------------------------\\n\\n\\n\\tReschedule\\nChairperson: Richard Burchfield\\nSent by: Cindy Cicchetti\\n\\nStart: 09/28/2000 01:00 PM\\nEnd: 09/28/2000 02:00 PM\\n\\nDescription: Gas Physical/Financail Positions - Room 2537\\n\\n\\n\\nThis meeting repeats   starting on    (if the date occurs on a weekend the \\nmeeting ).\\nMeeting Dates: \\n\\n\\n\\nFletcher J Sturm/HOU/ECT\\nScott Neal/HOU/ECT\\nHunter S Shively/HOU/ECT\\nPhillip K Allen/HOU/ECT\\nAllan Severude/HOU/ECT\\nScott Mills/HOU/ECT\\nRuss Severson/HOU/ECT\\n\\nDetailed description:\\n\\n\\n\\n---------------------- Forwarded by Phillip K Allen/HOU/ECT on 09/26/2000 \\n02:00 PM ---------------------------\\n\\n\\n\\tConfirmation\\nChairperson: Richard Burchfield\\nSent by: Cindy Cicchetti\\n\\nStart: 09/28/2000 01:00 PM\\nEnd: 09/28/2000 02:00 PM\\n\\nDescription: Gas Physical/Financail Positions - Room 2537\\n\\n\\n\\nThis meeting repeats   starting on    (if the date occurs on a weekend the \\nmeeting ).\\nMeeting Dates: \\n\\n\\n\\nFletcher J Sturm/HOU/ECT\\nScott Neal/HOU/ECT\\nHunter S Shively/HOU/ECT\\nPhillip K Allen/HOU/ECT\\nAllan Severude/HOU/ECT\\nScott Mills/HOU/ECT\\nRuss Severson/HOU/ECT\\n\\nDetailed description:\\n\\n\\nStatus update:\\nFletcher J Sturm -> No Response\\nScott Neal -> No Response\\nHunter S Shively -> No Response\\nPhillip K Allen -> No Response\\nAllan Severude -> Accepted\\nScott Mills -> Accepted\\nRuss Severson -> Accepted\\n\\n\\n---------------------- Forwarded by Phillip K Allen/HOU/ECT on 09/26/2000 \\n02:00 PM ---------------------------\\n   \\n\\t\\n\\t\\n\\tFrom:  Cindy Cicchetti                           09/26/2000 10:38 AM\\n\\t\\n\\nTo: Phillip K Allen/HOU/ECT@ECT, Hunter S Shively/HOU/ECT@ECT, Scott \\nMills/HOU/ECT@ECT, Allan Severude/HOU/ECT@ECT, Jeffrey C Gossett/HOU/ECT@ECT, \\nColleen Sullivan/HOU/ECT@ECT, Russ Severson/HOU/ECT@ECT, Jayant \\nKrishnaswamy/HOU/ECT@ECT, Russell Long/HOU/ECT@ECT\\ncc:  \\nSubject: Gas Trading Vision mtg.\\n\\nThis meeting has been moved to 4:00 on Wed. in room 2601.  I have sent a \\nconfirmation to each of you via Lotus Notes.  Sorry for all of the changes \\nbut there was a scheduling problem with a couple of people for the original \\ntime slot. \\n\"\\n\"allen-p/_sent_mail/12.\",\"Message-ID: <8572706.1075855378498.JavaMail.evans@thyme>\\nDate: Thu, 3 May 2001 15:57:00 -0700 (PDT)\\nFrom: phillip.allen@enron.com\\nTo: rlehmann@yahoo.com\\nSubject: \\nMime-Version: 1.0\\nContent-Type: text/plain; charset=us-ascii\\nContent-Transfer-Encoding: 7bit\\nX-From: Phillip K Allen\\nX-To: rlehmann <rlehmann@yahoo.com>\\nX-cc: \\nX-bcc: \\nX-Folder: \\\\Phillip_Allen_Jan2002_1\\\\Allen, Phillip K.\\\\\\'Sent Mail\\nX-Origin: Allen-P\\nX-FileName: pallen (Non-Privileged).pst\\n\\nReagan,\\n\\nJust wanted to give you an update.  I have changed the unit mix to include some 1 bedrooms and reduced the number of buildings to 12.  Kipp Flores is working on the construction drawings.  At the same time I am pursuing FHA financing.  Once the construction drawings are complete I will send them to you for a revised bid.  Your original bid was competitive and I am still attracted to your firm because of your strong local presence and contacts.\\n\\nPhillip\"\\n\"allen-p/_sent_mail/120.\",\"Message-ID: <29665600.1075855687895.JavaMail.evans@thyme>\\nDate: Tue, 26 Sep 2000 05:11:00 -0700 (PDT)\\nFrom: phillip.allen@enron.com\\nTo: cindy.cicchetti@enron.com\\nSubject: Re: Gas Trading Vision meeting\\nMime-Version: 1.0\\nContent-Type: text/plain; charset=us-ascii\\nContent-Transfer-Encoding: 7bit\\nX-From: Phillip K Allen\\nX-To: Cindy Cicchetti\\nX-cc: \\nX-bcc: \\nX-Folder: \\\\Phillip_Allen_Dec2000\\\\Notes Folders\\\\\\'sent mail\\nX-Origin: Allen-P\\nX-FileName: pallen.nsf\\n\\nNymex expiration is during this time frame.  Please reschedule.\"\\n\"allen-p/_sent_mail/121.\",\"Message-ID: <4449575.1075855687916.JavaMail.evans@thyme>\\nDate: Tue, 26 Sep 2000 05:08:00 -0700 (PDT)\\nFrom: phillip.allen@enron.com\\nTo: ina.rangel@enron.com\\nSubject: \\nMime-Version: 1.0\\nContent-Type: text/plain; charset=us-ascii\\nContent-Transfer-Encoding: 7bit\\nX-From: Phillip K Allen\\nX-To: Ina Rangel\\nX-cc: \\nX-bcc: \\nX-Folder: \\\\Phillip_Allen_Dec2000\\\\Notes Folders\\\\\\'sent mail\\nX-Origin: Allen-P\\nX-FileName: pallen.nsf\\n\\n---------------------- Forwarded by Phillip K Allen/HOU/ECT on 09/26/2000 \\n12:08 PM ---------------------------\\n\\n\\n\\tInvitation\\nChairperson: Richard Burchfield\\nSent by: Cindy Cicchetti\\n\\nStart: 09/27/2000 11:30 AM\\nEnd: 09/27/2000 12:30 PM\\n\\nDescription: Gas Trading Vision Meeting - Room EB2556\\n\\n\\n\\nThis meeting repeats   starting on    (if the date occurs on a weekend the \\nmeeting ).\\nMeeting Dates: \\n\\n\\n\\nPhillip K Allen/HOU/ECT\\nHunter S Shively/HOU/ECT\\nScott Mills/HOU/ECT\\nAllan Severude/HOU/ECT\\nJeffrey C Gossett/HOU/ECT\\nColleen Sullivan/HOU/ECT\\nRuss Severson/HOU/ECT\\nJayant Krishnaswamy/HOU/ECT\\nRussell Long/HOU/ECT\\n\\nDetailed description:\\n\\n\\n\"\\n\"allen-p/_sent_mail/122.\",\"Message-ID: <24741229.1075855687937.JavaMail.evans@thyme>\\nDate: Tue, 26 Sep 2000 05:07:00 -0700 (PDT)\\nFrom: phillip.allen@enron.com\\nTo: ina.rangel@enron.com\\nSubject: Gas Physical/Financial Position\\nMime-Version: 1.0\\nContent-Type: text/plain; charset=us-ascii\\nContent-Transfer-Encoding: 7bit\\nX-From: Phillip K Allen\\nX-To: Ina Rangel\\nX-cc: \\nX-bcc: \\nX-Folder: \\\\Phillip_Allen_Dec2000\\\\Notes Folders\\\\\\'sent mail\\nX-Origin: Allen-P\\nX-FileName: pallen.nsf\\n\\n---------------------- Forwarded by Phillip K Allen/HOU/ECT on 09/26/2000 \\n12:07 PM ---------------------------\\n   \\n\\t\\n\\t\\n\\tFrom:  Cindy Cicchetti                           09/26/2000 09:23 AM\\n\\t\\n\\nTo: Phillip K Allen/HOU/ECT@ECT, Hunter S Shively/HOU/ECT@ECT, Scott \\nMills/HOU/ECT@ECT, Allan Severude/HOU/ECT@ECT, Russ Severson/HOU/ECT@ECT, \\nFletcher J Sturm/HOU/ECT@ECT, Scott Neal/HOU/ECT@ECT\\ncc:  \\nSubject: Gas Physical/Financial Position\\n\\nI have scheduled and entered on each of your calendars a meeting for the \\nabove referenced topic.  It will take place on Thursday, 9/28 from 3:00 - \\n4:00 in Room EB2537.  \\n\"\\n\"allen-p/_sent_mail/123.\",\"Message-ID: <19330146.1075855687961.JavaMail.evans@thyme>\\nDate: Tue, 26 Sep 2000 04:57:00 -0700 (PDT)\\nFrom: phillip.allen@enron.com\\nTo: jsmith@austintx.com\\nSubject: closing\\nMime-Version: 1.0\\nContent-Type: text/plain; charset=ANSI_X3.4-1968\\nContent-Transfer-Encoding: 7bit\\nX-From: Phillip K Allen\\nX-To: jsmith@austintx.com\\nX-cc: \\nX-bcc: \\nX-Folder: \\\\Phillip_Allen_Dec2000\\\\Notes Folders\\\\\\'sent mail\\nX-Origin: Allen-P\\nX-FileName: pallen.nsf\\n\\n---------------------- Forwarded by Phillip K Allen/HOU/ECT on 09/26/2000 \\n11:57 AM ---------------------------\\n\\n\\n\"\"BS Stone\"\" <bs_stone@yahoo.com> on 09/26/2000 04:47:40 AM\\nTo: \"\"jeff\"\" <jeff@freeyellow.com>\\ncc: \"\"Phillip K Allen\"\" <Phillip.K.Allen@enron.com> \\nSubject: closing\\n\\n\\n\\nJeff, \\n?\\nIs the closing today?? After reviewing the  agreement?I find it isn\\'t binding \\nas far as I can determine.? It is  too vague and it doesn\\'t sound like \\nanything an attorney or title company  would?draft for a real estate \\nclosing--but, of course, I could be  wrong.? \\n?\\nIf this?closing is going to take place without  this agreement then there is \\nno point in me  following up on this?document\\'s validity.? \\n?\\nI will just need to go back to my closing documents  and see what\\'s there and \\nfind out where I am with that and deal with this as  best I can.\\n?\\nI guess I was expecting something that would be an  exhibit to a recordable \\ndocument or something a little more exact, or  rather?sort of a contract.? \\nThis isn\\'t either.? I tried to get a  real estate atty on the phone last \\nnight but he was out of pocket.? I  talked to a crim. atty friend and he said \\nthis is out of his area but doesn\\'t  sound binding to him.? \\n?\\nI will go back to mine and Phillip Allen\\'s  transaction?and take a look at \\nthat but as vague and general as this is I  doubt that my signature? is even \\nneeded to complete this transaction.?  I am in after 12 noon if ther'"
     ]
    }
   ],
   "source": [
    "# read the content of the directory\n",
    "dbutils.fs.head('/FileStore/tables/emails/emails.csv')"
   ]
  },
  {
   "cell_type": "code",
   "execution_count": 0,
   "metadata": {
    "application/vnd.databricks.v1+cell": {
     "cellMetadata": {
      "byteLimit": 2048000,
      "rowLimit": 10000
     },
     "inputWidgets": {},
     "nuid": "c58414ad-f009-4f75-8fc1-1b86edefff1f",
     "showTitle": false,
     "tableResultSettingsMap": {},
     "title": ""
    }
   },
   "outputs": [],
   "source": [
    "# his loads the CSV file into an RDD, where each line of the file becomes an element in the RDD.\n",
    "emails_rdd = sc.textFile('FileStore/tables/emails/emails.csv')"
   ]
  },
  {
   "cell_type": "code",
   "execution_count": 0,
   "metadata": {
    "application/vnd.databricks.v1+cell": {
     "cellMetadata": {
      "byteLimit": 2048000,
      "rowLimit": 10000
     },
     "inputWidgets": {},
     "nuid": "84d28634-9ded-4568-adce-fdc67bf3d25c",
     "showTitle": false,
     "tableResultSettingsMap": {},
     "title": ""
    }
   },
   "outputs": [
    {
     "output_type": "stream",
     "name": "stdout",
     "output_type": "stream",
     "text": [
      "Out[5]: ['\"file\",\"message\"',\n '\"allen-p/_sent_mail/1.\",\"Message-ID: <18782981.1075855378110.JavaMail.evans@thyme>',\n 'Date: Mon, 14 May 2001 16:39:00 -0700 (PDT)',\n 'From: phillip.allen@enron.com',\n 'To: tim.belden@enron.com',\n 'Subject: ',\n 'Mime-Version: 1.0',\n 'Content-Type: text/plain; charset=us-ascii',\n 'Content-Transfer-Encoding: 7bit',\n 'X-From: Phillip K Allen',\n 'X-To: Tim Belden <Tim Belden/Enron@EnronXGate>',\n 'X-cc: ',\n 'X-bcc: ',\n \"X-Folder: \\\\Phillip_Allen_Jan2002_1\\\\Allen, Phillip K.\\\\'Sent Mail\",\n 'X-Origin: Allen-P',\n 'X-FileName: pallen (Non-Privileged).pst',\n '',\n 'Here is our forecast',\n '',\n ' \"',\n '\"allen-p/_sent_mail/10.\",\"Message-ID: <15464986.1075855378456.JavaMail.evans@thyme>',\n 'Date: Fri, 4 May 2001 13:51:00 -0700 (PDT)',\n 'From: phillip.allen@enron.com',\n 'To: john.lavorato@enron.com',\n 'Subject: Re:',\n 'Mime-Version: 1.0',\n 'Content-Type: text/plain; charset=us-ascii',\n 'Content-Transfer-Encoding: 7bit',\n 'X-From: Phillip K Allen',\n 'X-To: John J Lavorato <John J Lavorato/ENRON@enronXgate@ENRON>',\n 'X-cc: ',\n 'X-bcc: ',\n \"X-Folder: \\\\Phillip_Allen_Jan2002_1\\\\Allen, Phillip K.\\\\'Sent Mail\",\n 'X-Origin: Allen-P',\n 'X-FileName: pallen (Non-Privileged).pst',\n '',\n 'Traveling to have a business meeting takes the fun out of the trip.  Especially if you have to prepare a presentation.  I would suggest holding the business plan meetings here then take a trip without any formal business meetings.  I would even try and get some honest opinions on whether a trip is even desired or necessary.',\n '',\n 'As far as the business meetings, I think it would be more productive to try and stimulate discussions across the different groups about what is working and what is not.  Too often the presenter speaks and the others are quiet just waiting for their turn.   The meetings might be better if held in a round table discussion format.  ',\n '',\n \"My suggestion for where to go is Austin.  Play golf and rent a ski boat and jet ski's.  Flying somewhere takes too much time.\",\n '\"',\n '\"allen-p/_sent_mail/100.\",\"Message-ID: <24216240.1075855687451.JavaMail.evans@thyme>',\n 'Date: Wed, 18 Oct 2000 03:00:00 -0700 (PDT)',\n 'From: phillip.allen@enron.com',\n 'To: leah.arsdall@enron.com',\n 'Subject: Re: test',\n 'Mime-Version: 1.0',\n 'Content-Type: text/plain; charset=us-ascii',\n 'Content-Transfer-Encoding: 7bit']"
     ]
    }
   ],
   "source": [
    "emails_rdd.take(50)"
   ]
  },
  {
   "cell_type": "code",
   "execution_count": 0,
   "metadata": {
    "application/vnd.databricks.v1+cell": {
     "cellMetadata": {
      "byteLimit": 2048000,
      "rowLimit": 10000
     },
     "inputWidgets": {},
     "nuid": "3a27d8eb-8c5c-454f-8c2c-8983a505747a",
     "showTitle": false,
     "tableResultSettingsMap": {},
     "title": ""
    }
   },
   "outputs": [
    {
     "output_type": "stream",
     "name": "stdout",
     "output_type": "stream",
     "text": [
      "Out[6]: ['\"allen-p/_sent_mail/1.\",\"Message-ID: <18782981.1075855378110.JavaMail.evans@thyme>',\n 'Date: Mon, 14 May 2001 16:39:00 -0700 (PDT)',\n 'From: phillip.allen@enron.com',\n 'To: tim.belden@enron.com',\n 'Subject: ',\n 'Mime-Version: 1.0',\n 'Content-Type: text/plain; charset=us-ascii',\n 'Content-Transfer-Encoding: 7bit',\n 'X-From: Phillip K Allen',\n 'X-To: Tim Belden <Tim Belden/Enron@EnronXGate>',\n 'X-cc: ',\n 'X-bcc: ',\n \"X-Folder: \\\\Phillip_Allen_Jan2002_1\\\\Allen, Phillip K.\\\\'Sent Mail\",\n 'X-Origin: Allen-P',\n 'X-FileName: pallen (Non-Privileged).pst',\n '',\n 'Here is our forecast',\n '',\n ' \"',\n '\"allen-p/_sent_mail/10.\",\"Message-ID: <15464986.1075855378456.JavaMail.evans@thyme>',\n 'Date: Fri, 4 May 2001 13:51:00 -0700 (PDT)',\n 'From: phillip.allen@enron.com',\n 'To: john.lavorato@enron.com',\n 'Subject: Re:',\n 'Mime-Version: 1.0',\n 'Content-Type: text/plain; charset=us-ascii',\n 'Content-Transfer-Encoding: 7bit',\n 'X-From: Phillip K Allen',\n 'X-To: John J Lavorato <John J Lavorato/ENRON@enronXgate@ENRON>',\n 'X-cc: ',\n 'X-bcc: ',\n \"X-Folder: \\\\Phillip_Allen_Jan2002_1\\\\Allen, Phillip K.\\\\'Sent Mail\",\n 'X-Origin: Allen-P',\n 'X-FileName: pallen (Non-Privileged).pst',\n '',\n 'Traveling to have a business meeting takes the fun out of the trip.  Especially if you have to prepare a presentation.  I would suggest holding the business plan meetings here then take a trip without any formal business meetings.  I would even try and get some honest opinions on whether a trip is even desired or necessary.',\n '',\n 'As far as the business meetings, I think it would be more productive to try and stimulate discussions across the different groups about what is working and what is not.  Too often the presenter speaks and the others are quiet just waiting for their turn.   The meetings might be better if held in a round table discussion format.  ',\n '',\n \"My suggestion for where to go is Austin.  Play golf and rent a ski boat and jet ski's.  Flying somewhere takes too much time.\",\n '\"',\n '\"allen-p/_sent_mail/100.\",\"Message-ID: <24216240.1075855687451.JavaMail.evans@thyme>',\n 'Date: Wed, 18 Oct 2000 03:00:00 -0700 (PDT)',\n 'From: phillip.allen@enron.com',\n 'To: leah.arsdall@enron.com',\n 'Subject: Re: test',\n 'Mime-Version: 1.0',\n 'Content-Type: text/plain; charset=us-ascii',\n 'Content-Transfer-Encoding: 7bit',\n 'X-From: Phillip K Allen']"
     ]
    }
   ],
   "source": [
    "header = emails_rdd.first()  # Get the header row\n",
    "emails_rdd_no_header = emails_rdd.filter(lambda row: row != header)  # Remove the header\n",
    "\n",
    "# Take a look again\n",
    "emails_rdd_no_header.take(50)"
   ]
  },
  {
   "cell_type": "code",
   "execution_count": 0,
   "metadata": {
    "application/vnd.databricks.v1+cell": {
     "cellMetadata": {
      "byteLimit": 2048000,
      "rowLimit": 10000
     },
     "inputWidgets": {},
     "nuid": "547d4492-0804-40de-bed7-c3f4d3133fc0",
     "showTitle": false,
     "tableResultSettingsMap": {},
     "title": ""
    }
   },
   "outputs": [],
   "source": [
    "import re\n",
    "\n",
    "def extract_email(message):\n",
    "    # Define regular expressions for extracting headers\n",
    "    from_regex = r\"From:\\s*([^\\n]+)\"\n",
    "    to_regex = r\"To:\\s*([^\\n]+)\"\n",
    "    subject_regex = r\"Subject:\\s*([^\\n]+)\"\n",
    "    date_regex = r\"Date:\\s*([^\\n]+)\"\n",
    "\n",
    "    # Extract headers using regular expressions\n",
    "    from_match = re.search(from_regex, message)\n",
    "    to_match = re.search(to_regex, message)\n",
    "    subject_match = re.search(subject_regex, message)\n",
    "    date_match = re.search(date_regex, message)\n",
    "\n",
    "    # Extract the actual values if matches were found\n",
    "    from_email = from_match.group(1).strip() if from_match else None\n",
    "    to_email = to_match.group(1).strip() if to_match else None\n",
    "    subject = subject_match.group(1).strip() if subject_match else None\n",
    "    date = date_match.group(1).strip() if date_match else None\n",
    "\n",
    "    return (from_email, to_email, subject, date)"
   ]
  },
  {
   "cell_type": "code",
   "execution_count": 0,
   "metadata": {
    "application/vnd.databricks.v1+cell": {
     "cellMetadata": {
      "byteLimit": 2048000,
      "rowLimit": 10000
     },
     "inputWidgets": {},
     "nuid": "2fbcc73d-0cdf-44b6-980d-ba51b5398fec",
     "showTitle": false,
     "tableResultSettingsMap": {},
     "title": ""
    }
   },
   "outputs": [
    {
     "output_type": "stream",
     "name": "stdout",
     "output_type": "stream",
     "text": [
      "Total number of emails: 33834245\nNumber of unique senders: 81221\nMean number of emails per sender: 416.5701604264907\n"
     ]
    }
   ],
   "source": [
    "extracted_emails = emails_rdd_no_header.map(extract_email)\n",
    "\n",
    "# Extract only From emails from extractEmail function\n",
    "from pyspark.sql.functions import count\n",
    "from pyspark.sql.types import DoubleType\n",
    "from pyspark.sql.functions import lit\n",
    "\n",
    "from_rdd = extracted_emails.map(lambda x: x[0]).filter(lambda x: x is not None)\n",
    "\n",
    "num_from = from_rdd.count()\n",
    "unique_senders = from_rdd.distinct().count()\n",
    "\n",
    "total_emails = emails_rdd.count() #No header here, it has already been removed!\n",
    "mean_emails_per_sender = total_emails / unique_senders\n",
    "\n",
    "print(f\"Total number of emails: {total_emails}\")\n",
    "print(f\"Number of unique senders: {unique_senders}\")\n",
    "print(f\"Mean number of emails per sender: {mean_emails_per_sender}\")"
   ]
  },
  {
   "cell_type": "code",
   "execution_count": 0,
   "metadata": {
    "application/vnd.databricks.v1+cell": {
     "cellMetadata": {
      "byteLimit": 2048000,
      "rowLimit": 10000
     },
     "inputWidgets": {},
     "nuid": "c29b4396-c221-4c85-9065-20bd7c39b88b",
     "showTitle": false,
     "tableResultSettingsMap": {},
     "title": ""
    }
   },
   "outputs": [
    {
     "output_type": "stream",
     "name": "stdout",
     "output_type": "stream",
     "text": [
      "The number of distinct to counts are 174476\n"
     ]
    }
   ],
   "source": [
    "to_rdd = extracted_emails.map(lambda x: x[1]).filter(lambda x: x is not None)\n",
    "distinct_to_count = to_rdd.distinct().count()\n",
    "print(f\"The number of distinct to counts are {distinct_to_count}\")"
   ]
  },
  {
   "cell_type": "code",
   "execution_count": 0,
   "metadata": {
    "application/vnd.databricks.v1+cell": {
     "cellMetadata": {
      "byteLimit": 2048000,
      "rowLimit": 10000
     },
     "inputWidgets": {},
     "nuid": "dbd4d0b5-7f31-4174-a8d8-d1a9e1365ec5",
     "showTitle": false,
     "tableResultSettingsMap": {},
     "title": ""
    }
   },
   "outputs": [
    {
     "output_type": "stream",
     "name": "stdout",
     "output_type": "stream",
     "text": [
      "Mon, 14 May 2001 16:39:00 -0700 (PDT)\nFri, 4 May 2001 13:51:00 -0700 (PDT)\nWed, 18 Oct 2000 03:00:00 -0700 (PDT)\nMon, 23 Oct 2000 06:13:00 -0700 (PDT)\nThu, 31 Aug 2000 05:07:00 -0700 (PDT)\n"
     ]
    }
   ],
   "source": [
    "dates_rdd = extracted_emails.map(lambda x: x[3]).filter(lambda x: x is not None)\n",
    "#Show a sample\n",
    "for i in dates_rdd.take(5):\n",
    "    print(i)"
   ]
  },
  {
   "cell_type": "code",
   "execution_count": 0,
   "metadata": {
    "application/vnd.databricks.v1+cell": {
     "cellMetadata": {
      "byteLimit": 2048000,
      "rowLimit": 10000
     },
     "inputWidgets": {},
     "nuid": "801c251b-ae5e-414f-9fb1-3758d224e8cf",
     "showTitle": false,
     "tableResultSettingsMap": {},
     "title": ""
    }
   },
   "outputs": [],
   "source": []
  },
  {
   "cell_type": "code",
   "execution_count": 0,
   "metadata": {
    "application/vnd.databricks.v1+cell": {
     "cellMetadata": {
      "byteLimit": 2048000,
      "rowLimit": 10000
     },
     "inputWidgets": {},
     "nuid": "01948892-af2b-4378-8560-eee5c6e4d172",
     "showTitle": false,
     "tableResultSettingsMap": {},
     "title": ""
    }
   },
   "outputs": [],
   "source": []
  },
  {
   "cell_type": "code",
   "execution_count": 0,
   "metadata": {
    "application/vnd.databricks.v1+cell": {
     "cellMetadata": {
      "byteLimit": 2048000,
      "rowLimit": 10000
     },
     "inputWidgets": {},
     "nuid": "8e7632c3-6539-4866-ada0-6ce7ccabf343",
     "showTitle": false,
     "tableResultSettingsMap": {},
     "title": ""
    }
   },
   "outputs": [],
   "source": []
  },
  {
   "cell_type": "code",
   "execution_count": 0,
   "metadata": {
    "application/vnd.databricks.v1+cell": {
     "cellMetadata": {
      "byteLimit": 2048000,
      "rowLimit": 10000
     },
     "inputWidgets": {},
     "nuid": "83a523fb-a2f4-4b09-8b4b-7a67d0772671",
     "showTitle": false,
     "tableResultSettingsMap": {},
     "title": ""
    }
   },
   "outputs": [],
   "source": []
  },
  {
   "cell_type": "code",
   "execution_count": 0,
   "metadata": {
    "application/vnd.databricks.v1+cell": {
     "cellMetadata": {
      "byteLimit": 2048000,
      "rowLimit": 10000
     },
     "inputWidgets": {},
     "nuid": "504dff56-268d-4eaf-8952-0a141e9a3b98",
     "showTitle": false,
     "tableResultSettingsMap": {},
     "title": ""
    }
   },
   "outputs": [],
   "source": []
  },
  {
   "cell_type": "code",
   "execution_count": 0,
   "metadata": {
    "application/vnd.databricks.v1+cell": {
     "cellMetadata": {
      "byteLimit": 2048000,
      "rowLimit": 10000
     },
     "inputWidgets": {},
     "nuid": "473eebc2-3c13-4310-b665-93b60fe2d688",
     "showTitle": false,
     "tableResultSettingsMap": {},
     "title": ""
    }
   },
   "outputs": [],
   "source": []
  },
  {
   "cell_type": "code",
   "execution_count": 0,
   "metadata": {
    "application/vnd.databricks.v1+cell": {
     "cellMetadata": {
      "byteLimit": 2048000,
      "rowLimit": 10000
     },
     "inputWidgets": {},
     "nuid": "34f2710d-d55b-4bd0-8f33-43eb296785a3",
     "showTitle": false,
     "tableResultSettingsMap": {},
     "title": ""
    }
   },
   "outputs": [],
   "source": []
  },
  {
   "cell_type": "code",
   "execution_count": 0,
   "metadata": {
    "application/vnd.databricks.v1+cell": {
     "cellMetadata": {
      "byteLimit": 2048000,
      "rowLimit": 10000
     },
     "inputWidgets": {},
     "nuid": "0a0ffdbe-3265-4a4c-848c-7716be2e1dce",
     "showTitle": false,
     "tableResultSettingsMap": {},
     "title": ""
    }
   },
   "outputs": [],
   "source": []
  },
  {
   "cell_type": "code",
   "execution_count": 0,
   "metadata": {
    "application/vnd.databricks.v1+cell": {
     "cellMetadata": {
      "byteLimit": 2048000,
      "rowLimit": 10000
     },
     "inputWidgets": {},
     "nuid": "f421c600-5655-4674-82b1-3de735311177",
     "showTitle": false,
     "tableResultSettingsMap": {},
     "title": ""
    }
   },
   "outputs": [
    {
     "output_type": "stream",
     "name": "stdout",
     "output_type": "stream",
     "text": [
      "Total emails: 518182\n"
     ]
    },
    {
     "output_type": "execute_result",
     "data": {
      "text/plain": [
       "[('\"allen-p/_sent_mail/1.\"',\n",
       "  {'Message-ID': '<18782981.1075855378110.JavaMail.evans@thyme>',\n",
       "   'Date': 'Mon, 14 May 2001 16:39:00 -0700 (PDT)',\n",
       "   'From': 'phillip.allen@enron.com',\n",
       "   'To': 'tim.belden@enron.com',\n",
       "   'Subject': '',\n",
       "   'Content': 'Here is our forecast'}),\n",
       " ('allen-p/_sent_mail/10.\"',\n",
       "  {'Message-ID': '<15464986.1075855378456.JavaMail.evans@thyme>',\n",
       "   'Date': 'Fri, 4 May 2001 13:51:00 -0700 (PDT)',\n",
       "   'From': 'phillip.allen@enron.com',\n",
       "   'To': 'john.lavorato@enron.com',\n",
       "   'Subject': 'Re:',\n",
       "   'Content': \"Traveling to have a business meeting takes the fun out of the trip.  Especially if you have to prepare a presentation.  I would suggest holding the business plan meetings here then take a trip without any formal business meetings.  I would even try and get some honest opinions on whether a trip is even desired or necessary. As far as the business meetings, I think it would be more productive to try and stimulate discussions across the different groups about what is working and what is not.  Too often the presenter speaks and the others are quiet just waiting for their turn.   The meetings might be better if held in a round table discussion format. My suggestion for where to go is Austin.  Play golf and rent a ski boat and jet ski's.  Flying somewhere takes too much time.\"})]"
      ]
     },
     "execution_count": 6,
     "metadata": {},
     "output_type": "execute_result"
    }
   ],
   "source": [
    "# 1. Read the CSV file\n",
    "emails_rdd = sc.textFile('FileStore/tables/emails/emails.csv')\n",
    "\n",
    "# 2. Remove header\n",
    "header = emails_rdd.first()\n",
    "emails_rdd_no_header = emails_rdd.filter(lambda line: line != header)\n",
    "\n",
    "# 3. Group lines into individual email records\n",
    "grouped_emails_rdd = (\n",
    "    emails_rdd_no_header\n",
    "    .glom()\n",
    "    .map(lambda lines: '\\n'.join(lines))\n",
    "    .flatMap(lambda email: email.split('\"\\n\"'))  # Split emails correctly\n",
    ")\n",
    "\n",
    "# 4. Split into (file, message) SAFELY\n",
    "def safe_split(email):\n",
    "    parts = email.split(',', 1)  # Split at the first comma\n",
    "    if len(parts) == 2:\n",
    "        return (parts[0], parts[1].strip('\"'))  # Strip quotes from message\n",
    "    else:\n",
    "        return (email, \"\")  # Handle malformed entries\n",
    "\n",
    "parsed_emails_rdd = grouped_emails_rdd.map(safe_split)  # Use safe split\n",
    "\n",
    "# 5. Parse email fields (with error handling)\n",
    "def parse_email(message):\n",
    "    try:\n",
    "        email_fields = {}\n",
    "        lines = message.split('\\n')\n",
    "        in_body = False\n",
    "        body = []\n",
    "        for line in lines:\n",
    "            stripped_line = line.strip()\n",
    "            if stripped_line.startswith('Message-ID:'):\n",
    "                email_fields['Message-ID'] = stripped_line.split('Message-ID:', 1)[1].strip()\n",
    "            elif stripped_line.startswith('From:'):\n",
    "                email_fields['From'] = stripped_line.split('From:', 1)[1].strip()\n",
    "            elif stripped_line.startswith('To:'):\n",
    "                email_fields['To'] = stripped_line.split('To:', 1)[1].strip()\n",
    "            elif stripped_line.startswith('Subject:'):\n",
    "                email_fields['Subject'] = stripped_line.split('Subject:', 1)[1].strip()\n",
    "            elif stripped_line.startswith('Date:'):\n",
    "                email_fields['Date'] = stripped_line.split('Date:', 1)[1].strip()\n",
    "            elif not stripped_line:\n",
    "                in_body = True\n",
    "            elif in_body:\n",
    "                body.append(stripped_line)\n",
    "        email_fields['Content'] = ' '.join(body).strip()\n",
    "        return email_fields\n",
    "    except:\n",
    "        return {}  # Return empty dict on failure\n",
    "\n",
    "# 6. Apply parsing\n",
    "parsed_emails_rdd = parsed_emails_rdd.map(lambda x: (x[0], parse_email(x[1])))\n",
    "\n",
    "# 7. COUNT (now works)\n",
    "print(\"Total emails:\", parsed_emails_rdd.count())\n",
    "\n",
    "# 8. View sample\n",
    "parsed_emails_rdd.take(2)"
   ]
  },
  {
   "cell_type": "code",
   "execution_count": 0,
   "metadata": {
    "application/vnd.databricks.v1+cell": {
     "cellMetadata": {},
     "inputWidgets": {},
     "nuid": "20cf0da2-e115-4365-90b0-09a7725709af",
     "showTitle": false,
     "tableResultSettingsMap": {},
     "title": ""
    }
   },
   "outputs": [],
   "source": []
  }
 ],
 "metadata": {
  "application/vnd.databricks.v1+notebook": {
   "computePreferences": null,
   "dashboards": [],
   "environmentMetadata": {
    "base_environment": "",
    "client": "1"
   },
   "language": "python",
   "notebookMetadata": {
    "mostRecentlyExecutedCommandWithImplicitDF": {
     "commandId": 1580308828309809,
     "dataframes": [
      "_sqldf"
     ]
    },
    "pythonIndentUnit": 4
   },
   "notebookName": "Assessment RDD main Draft",
   "widgets": {}
  }
 },
 "nbformat": 4,
 "nbformat_minor": 0
}
