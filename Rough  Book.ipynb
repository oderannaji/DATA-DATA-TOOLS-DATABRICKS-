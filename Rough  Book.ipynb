{
 "cells": [
  {
   "cell_type": "code",
   "execution_count": 0,
   "metadata": {
    "application/vnd.databricks.v1+cell": {
     "cellMetadata": {
      "byteLimit": 2048000,
      "rowLimit": 10000
     },
     "inputWidgets": {},
     "nuid": "1bd0d68b-63b3-487e-bbb4-7b9f684fc91f",
     "showTitle": false,
     "tableResultSettingsMap": {},
     "title": ""
    }
   },
   "outputs": [
    {
     "output_type": "stream",
     "name": "stdout",
     "output_type": "stream",
     "text": [
      "/databricks/driver\n"
     ]
    }
   ],
   "source": [
    "%sh\n",
    "pwd\n",
    "##check/print working directory"
   ]
  },
  {
   "cell_type": "code",
   "execution_count": 0,
   "metadata": {
    "application/vnd.databricks.v1+cell": {
     "cellMetadata": {
      "byteLimit": 2048000,
      "rowLimit": 10000
     },
     "inputWidgets": {},
     "nuid": "d2a8dbd6-093f-458f-b9ac-06318cf57fe4",
     "showTitle": false,
     "tableResultSettingsMap": {},
     "title": ""
    }
   },
   "outputs": [
    {
     "output_type": "stream",
     "name": "stdout",
     "output_type": "stream",
     "text": [
      "Out[48]: [FileInfo(path='file:/BUILD', name='BUILD', size=271, modificationTime=1739884314547),\n FileInfo(path='file:/media/', name='media/', size=4096, modificationTime=1739884503254),\n FileInfo(path='file:/lib32/', name='lib32/', size=4096, modificationTime=1739884507766),\n FileInfo(path='file:/usr/', name='usr/', size=4096, modificationTime=1739884507766),\n FileInfo(path='file:/sbin/', name='sbin/', size=12288, modificationTime=1739884507790),\n FileInfo(path='file:/dev/', name='dev/', size=560, modificationTime=1739911441337),\n FileInfo(path='file:/proc/', name='proc/', size=0, modificationTime=1739911436125),\n FileInfo(path='file:/lib/', name='lib/', size=4096, modificationTime=1739884507718),\n FileInfo(path='file:/opt/', name='opt/', size=4096, modificationTime=1739884488730),\n FileInfo(path='file:/etc/', name='etc/', size=4096, modificationTime=1739911436457),\n FileInfo(path='file:/home/', name='home/', size=4096, modificationTime=1739884488438),\n FileInfo(path='file:/libx32/', name='libx32/', size=4096, modificationTime=1739884507766),\n FileInfo(path='file:/srv/', name='srv/', size=4096, modificationTime=1739884503258),\n FileInfo(path='file:/run/', name='run/', size=500, modificationTime=1739911501181),\n FileInfo(path='file:/bin/', name='bin/', size=36864, modificationTime=1739884507722),\n FileInfo(path='file:/boot/', name='boot/', size=4096, modificationTime=1739884503254),\n FileInfo(path='file:/sys/', name='sys/', size=0, modificationTime=1739911436125),\n FileInfo(path='file:/lib64/', name='lib64/', size=4096, modificationTime=1739884387379),\n FileInfo(path='file:/root/', name='root/', size=4096, modificationTime=1739911804583),\n FileInfo(path='file:/tmp/', name='tmp/', size=4096, modificationTime=1739915817670),\n FileInfo(path='file:/var/', name='var/', size=4096, modificationTime=1739884508422),\n FileInfo(path='file:/mnt/', name='mnt/', size=4096, modificationTime=1739911438541),\n FileInfo(path='file:/databricks/', name='databricks/', size=4096, modificationTime=1739911800419),\n FileInfo(path='file:/Workspace/', name='Workspace/', size=4096, modificationTime=1739911441389),\n FileInfo(path='file:/dbfs/', name='dbfs/', size=4096, modificationTime=1739911441365),\n FileInfo(path='file:/local_disk0/', name='local_disk0/', size=4096, modificationTime=1739911496057),\n FileInfo(path='file:/Volumes/', name='Volumes/', size=4096, modificationTime=1739911441432)]"
     ]
    }
   ],
   "source": [
    "## Using Databricks utilities to list the contents of the local file system on the driver node, starting from the root directory (/).\n",
    "dbutils.fs.ls('file:/')"
   ]
  },
  {
   "cell_type": "code",
   "execution_count": 0,
   "metadata": {
    "application/vnd.databricks.v1+cell": {
     "cellMetadata": {
      "byteLimit": 2048000,
      "rowLimit": 10000
     },
     "inputWidgets": {},
     "nuid": "4ff9d1a4-e94a-4d7f-b48e-293c2feb5273",
     "showTitle": false,
     "tableResultSettingsMap": {},
     "title": ""
    }
   },
   "outputs": [],
   "source": [
    "##() dbutils.fs.rm(\"/FileStore/tables/emails/\", recurse=True)"
   ]
  },
  {
   "cell_type": "code",
   "execution_count": 0,
   "metadata": {
    "application/vnd.databricks.v1+cell": {
     "cellMetadata": {
      "byteLimit": 2048000,
      "rowLimit": 10000
     },
     "inputWidgets": {},
     "nuid": "6d6b27a8-06c9-44bd-a5b9-05878c1902c0",
     "showTitle": false,
     "tableResultSettingsMap": {},
     "title": ""
    }
   },
   "outputs": [
    {
     "output_type": "stream",
     "name": "stdout",
     "output_type": "stream",
     "text": [
      "Out[50]: [FileInfo(path='dbfs:/FileStore/tables/Enron.zip', name='Enron.zip', size=375294957, modificationTime=1739651001000),\n FileInfo(path='dbfs:/FileStore/tables/account-models/', name='account-models/', size=0, modificationTime=0),\n FileInfo(path='dbfs:/FileStore/tables/accounts/', name='accounts/', size=0, modificationTime=0),\n FileInfo(path='dbfs:/FileStore/tables/accounts.zip', name='accounts.zip', size=5297592, modificationTime=1739555633000),\n FileInfo(path='dbfs:/FileStore/tables/activation-models/', name='activation-models/', size=0, modificationTime=0),\n FileInfo(path='dbfs:/FileStore/tables/activations/', name='activations/', size=0, modificationTime=0),\n FileInfo(path='dbfs:/FileStore/tables/activations-1.zip', name='activations-1.zip', size=8411369, modificationTime=1738170810000),\n FileInfo(path='dbfs:/FileStore/tables/activations-2.zip', name='activations-2.zip', size=8411369, modificationTime=1739548977000),\n FileInfo(path='dbfs:/FileStore/tables/activations.zip', name='activations.zip', size=8411369, modificationTime=1738170694000),\n FileInfo(path='dbfs:/FileStore/tables/emails/', name='emails/', size=0, modificationTime=0),\n FileInfo(path='dbfs:/FileStore/tables/flood.csv', name='flood.csv', size=128984, modificationTime=1739383593000),\n FileInfo(path='dbfs:/FileStore/tables/flood.zip', name='flood.zip', size=52053, modificationTime=1739383337000),\n FileInfo(path='dbfs:/FileStore/tables/logs/', name='logs/', size=0, modificationTime=0),\n FileInfo(path='dbfs:/FileStore/tables/logs.zip', name='logs.zip', size=18168065, modificationTime=1738173004000),\n FileInfo(path='dbfs:/FileStore/tables/test.json', name='test.json', size=17958, modificationTime=1737563569000),\n FileInfo(path='dbfs:/FileStore/tables/webpage/', name='webpage/', size=0, modificationTime=0),\n FileInfo(path='dbfs:/FileStore/tables/webpage_files_all/', name='webpage_files_all/', size=0, modificationTime=0),\n FileInfo(path='dbfs:/FileStore/tables/webpage_files_jpg/', name='webpage_files_jpg/', size=0, modificationTime=0)]"
     ]
    }
   ],
   "source": [
    "## uses Databricks utilities (dbutils.fs) to list the contents of a directory(Folder) in Databricks filesystem.\n",
    "dbutils.fs.ls('/FileStore/tables/')"
   ]
  },
  {
   "cell_type": "code",
   "execution_count": 0,
   "metadata": {
    "application/vnd.databricks.v1+cell": {
     "cellMetadata": {
      "byteLimit": 2048000,
      "rowLimit": 10000
     },
     "inputWidgets": {},
     "nuid": "dfa8589b-ce0d-4f67-baca-849c75593410",
     "showTitle": false,
     "tableResultSettingsMap": {},
     "title": ""
    }
   },
   "outputs": [
    {
     "output_type": "stream",
     "name": "stdout",
     "output_type": "stream",
     "text": [
      "Out[51]: True"
     ]
    }
   ],
   "source": [
    "## copy from source(FileStore/tables/Enron.zip/) to destination(file:/tmp/)- Here we move the file to the local directory \n",
    "dbutils.fs.cp('FileStore/tables/Enron.zip/', 'file:/tmp/')"
   ]
  },
  {
   "cell_type": "code",
   "execution_count": 0,
   "metadata": {
    "application/vnd.databricks.v1+cell": {
     "cellMetadata": {
      "byteLimit": 2048000,
      "rowLimit": 10000
     },
     "inputWidgets": {},
     "nuid": "ee0a8e34-2ccf-48fb-a8e3-81dc4f0f493b",
     "showTitle": false,
     "tableResultSettingsMap": {},
     "title": ""
    }
   },
   "outputs": [
    {
     "output_type": "stream",
     "name": "stdout",
     "output_type": "stream",
     "text": [
      "Enron.zip\nRserv\nRtmpDT9q0i\nchauffeur-daemon-params\nchauffeur-daemon.pid\nchauffeur-env.sh\ncustom-spark.conf\ndriver-daemon-params\ndriver-daemon.pid\ndriver-env.sh\nhsperfdata_root\nsystemd-private-db5712d14fbe4fcebcf76cac6fa2d29c-apache2.service-VgRGMh\nsystemd-private-db5712d14fbe4fcebcf76cac6fa2d29c-ntp.service-qJ9hXi\nsystemd-private-db5712d14fbe4fcebcf76cac6fa2d29c-systemd-logind.service-d1YoKi\nsystemd-private-db5712d14fbe4fcebcf76cac6fa2d29c-systemd-resolved.service-tC8fOf\ntmp.I8I4nGAE1J\n"
     ]
    }
   ],
   "source": [
    "%sh\n",
    "ls /tmp/\n",
    "## List content of the directory"
   ]
  },
  {
   "cell_type": "code",
   "execution_count": 0,
   "metadata": {
    "application/vnd.databricks.v1+cell": {
     "cellMetadata": {
      "byteLimit": 2048000,
      "rowLimit": 10000
     },
     "inputWidgets": {},
     "nuid": "6f307bde-1637-4aad-9382-5ef77db31f3c",
     "showTitle": false,
     "tableResultSettingsMap": {},
     "title": ""
    }
   },
   "outputs": [
    {
     "output_type": "stream",
     "name": "stdout",
     "output_type": "stream",
     "text": [
      "Archive:  /tmp/Enron.zip\n  inflating: /tmp/emails.csv         \n"
     ]
    }
   ],
   "source": [
    "%sh\n",
    "unzip -d /tmp/ /tmp/Enron.zip\n",
    "## unzips the Enron.zip file, extracting its contents into the /tmp directory."
   ]
  },
  {
   "cell_type": "code",
   "execution_count": 0,
   "metadata": {
    "application/vnd.databricks.v1+cell": {
     "cellMetadata": {
      "byteLimit": 2048000,
      "rowLimit": 10000
     },
     "inputWidgets": {},
     "nuid": "48bfce6c-8413-46cb-8e97-6e29f92f6d9e",
     "showTitle": false,
     "tableResultSettingsMap": {},
     "title": ""
    }
   },
   "outputs": [
    {
     "output_type": "stream",
     "name": "stdout",
     "output_type": "stream",
     "text": [
      "\"file\",\"message\"\n\"allen-p/_sent_mail/1.\",\"Message-ID: <18782981.1075855378110.JavaMail.evans@thyme>\nDate: Mon, 14 May 2001 16:39:00 -0700 (PDT)\nFrom: phillip.allen@enron.com\nTo: tim.belden@enron.com\nSubject: \nMime-Version: 1.0\nContent-Type: text/plain; charset=us-ascii\nContent-Transfer-Encoding: 7bit\nX-From: Phillip K Allen\n"
     ]
    }
   ],
   "source": [
    "%sh\n",
    "head /tmp/emails.csv"
   ]
  },
  {
   "cell_type": "code",
   "execution_count": 0,
   "metadata": {
    "application/vnd.databricks.v1+cell": {
     "cellMetadata": {
      "byteLimit": 2048000,
      "rowLimit": 10000
     },
     "inputWidgets": {},
     "nuid": "1e02cd48-8967-4f42-a53b-e206a22750f3",
     "showTitle": false,
     "tableResultSettingsMap": {},
     "title": ""
    }
   },
   "outputs": [
    {
     "output_type": "stream",
     "name": "stdout",
     "output_type": "stream",
     "text": [
      "\"file\",\"message\"\n\"allen-p/_sent_mail/1.\",\"Message-ID: <18782981.1075855378110.JavaMail.evans@thyme>\nDate: Mon, 14 May 2001 16:39:00 -0700 (PDT)\nFrom: phillip.allen@enron.com\nTo: tim.belden@enron.com\nSubject: \nMime-Version: 1.0\nContent-Type: text/plain; charset=us-ascii\nContent-Transfer-Encoding: 7bit\nX-From: Phillip K Allen\nX-To: Tim Belden <Tim Belden/Enron@EnronXGate>\nX-cc: \nX-bcc: \nX-Folder: \\Phillip_Allen_Jan2002_1\\Allen, Phillip K.\\'Sent Mail\nX-Origin: Allen-P\nX-FileName: pallen (Non-Privileged).pst\n\nHere is our forecast\n\n \"\n\"allen-p/_sent_mail/10.\",\"Message-ID: <15464986.1075855378456.JavaMail.evans@thyme>\nDate: Fri, 4 May 2001 13:51:00 -0700 (PDT)\nFrom: phillip.allen@enron.com\nTo: john.lavorato@enron.com\nSubject: Re:\nMime-Version: 1.0\nContent-Type: text/plain; charset=us-ascii\nContent-Transfer-Encoding: 7bit\nX-From: Phillip K Allen\nX-To: John J Lavorato <John J Lavorato/ENRON@enronXgate@ENRON>\nX-cc: \nX-bcc: \nX-Folder: \\Phillip_Allen_Jan2002_1\\Allen, Phillip K.\\'Sent Mail\nX-Origin: Allen-P\nX-FileName: pallen (Non-Privileged).pst\n\nTraveling to have a business meeting takes the fun out of the trip.  Especially if you have to prepare a presentation.  I would suggest holding the business plan meetings here then take a trip without any formal business meetings.  I would even try and get some honest opinions on whether a trip is even desired or necessary.\n\nAs far as the business meetings, I think it would be more productive to try and stimulate discussions across the different groups about what is working and what is not.  Too often the presenter speaks and the others are quiet just waiting for their turn.   The meetings might be better if held in a round table discussion format.  \n\nMy suggestion for where to go is Austin.  Play golf and rent a ski boat and jet ski's.  Flying somewhere takes too much time.\n\"\n\"allen-p/_sent_mail/100.\",\"Message-ID: <24216240.1075855687451.JavaMail.evans@thyme>\nDate: Wed, 18 Oct 2000 03:00:00 -0700 (PDT)\nFrom: phillip.allen@enron.com\nTo: leah.arsdall@enron.com\nSubject: Re: test\nMime-Version: 1.0\nContent-Type: text/plain; charset=us-ascii\nContent-Transfer-Encoding: 7bit\nX-From: Phillip K Allen\nX-To: Leah Van Arsdall\nX-cc: \nX-bcc: \nX-Folder: \\Phillip_Allen_Dec2000\\Notes Folders\\'sent mail\nX-Origin: Allen-P\nX-FileName: pallen.nsf\n\ntest successful.  way to go!!!\"\n\"allen-p/_sent_mail/1000.\",\"Message-ID: <13505866.1075863688222.JavaMail.evans@thyme>\nDate: Mon, 23 Oct 2000 06:13:00 -0700 (PDT)\nFrom: phillip.allen@enron.com\nTo: randall.gay@enron.com\nSubject: \nMime-Version: 1.0\nContent-Type: text/plain; charset=us-ascii\nContent-Transfer-Encoding: 7bit\nX-From: Phillip K Allen\nX-To: Randall L Gay\nX-cc: \nX-bcc: \nX-Folder: \\Phillip_Allen_Dec2000\\Notes Folders\\'sent mail\nX-Origin: Allen-P\nX-FileName: pallen.nsf\n\nRandy,\n\n Can you send me a schedule of the salary and level of everyone in the \nscheduling group.  Plus your thoughts on any changes that need to be made.  \n(Patti S for example)\n\nPhillip\"\n\"allen-p/_sent_mail/1001.\",\"Message-ID: <30922949.1075863688243.JavaMail.evans@thyme>\nDate: Thu, 31 Aug 2000 05:07:00 -0700 (PDT)\nFrom: phillip.allen@enron.com\nTo: greg.piper@enron.com\nSubject: Re: Hello\nMime-Version: 1.0\nContent-Type: text/plain; charset=us-ascii\nContent-Transfer-Encoding: 7bit\nX-From: Phillip K Allen\nX-To: Greg Piper\nX-cc: \nX-bcc: \nX-Folder: \\Phillip_Allen_Dec2000\\Notes Folders\\'sent mail\nX-Origin: Allen-P\nX-FileName: pallen.nsf\n\nLet's shoot for Tuesday at 11:45.  \"\n\"allen-p/_sent_mail/1002.\",\"Message-ID: <30965995.1075863688265.JavaMail.evans@thyme>\nDate: Thu, 31 Aug 2000 04:17:00 -0700 (PDT)\nFrom: phillip.allen@enron.com\nTo: greg.piper@enron.com\nSubject: Re: Hello\nMime-Version: 1.0\nContent-Type: text/plain; charset=us-ascii\nContent-Transfer-Encoding: 7bit\nX-From: Phillip K Allen\nX-To: Greg Piper\nX-cc: \nX-bcc: \nX-Folder: \\Phillip_Allen_Dec2000\\Notes Folders\\'sent mail\nX-Origin: Allen-P\nX-FileName: pallen.nsf\n\nGreg,\n\n How about either next Tuesday or Thursday?\n\nPhillip\"\n\"allen-p/_sent_mail/1003.\",\"Message-ID: <16254169.1075863688286.JavaMail.evans@thyme>\nDate: Tue, 22 Aug 2000 07:44:00 -0700 (PDT)\nFrom: phillip.allen@enron.com\nTo: david.l.johnson@enron.com, john.shafer@enron.com\nSubject: \nMime-Version: 1.0\nContent-Type: text/plain; charset=us-ascii\nContent-Transfer-Encoding: 7bit\nX-From: Phillip K Allen\nX-To: david.l.johnson@enron.com, John Shafer\nX-cc: \nX-bcc: \nX-Folder: \\Phillip_Allen_Dec2000\\Notes Folders\\'sent mail\nX-Origin: Allen-P\nX-FileName: pallen.nsf\n\nPlease cc the following distribution list with updates:\n\nPhillip Allen (pallen@enron.com)\nMike Grigsby (mike.grigsby@enron.com)\nKeith Holst (kholst@enron.com)\nMonique Sanchez\nFrank Ermis\nJohn Lavorato\n\n\nThank you for your help\n\nPhillip Allen\n\"\n\"allen-p/_sent_mail/1004.\",\"Message-ID: <17189699.1075863688308.JavaMail.evans@thyme>\nDate: Fri, 14 Jul 2000 06:59:00 -0700 (PDT)\nFrom: phillip.allen@enron.com\nTo: joyce.teixeira@enron.com\nSubject: Re: PRC review - phone calls\nMime-Version: 1.0\nContent-Type: text/plain; charset=us-ascii\nContent-Transfer-Encoding: 7bit\nX-From: Phillip K Allen\nX-To: Joyce Teixeira\nX-cc: \nX-bcc: \nX-Folder: \\Phillip_Allen_Dec2000\\Notes Folders\\'sent mail\nX-Origin: Allen-P\nX-FileName: pallen.nsf\n\nany morning between 10 and 11:30\"\n\"allen-p/_sent_mail/101.\",\"Message-ID: <20641191.1075855687472.JavaMail.evans@thyme>\nDate: Tue, 17 Oct 2000 02:26:00 -0700 (PDT)\nFrom: phillip.allen@enron.com\nTo: mark.scott@enron.com\nSubject: Re: High Speed Internet Access\nMime-Version: 1.0\nContent-Type: text/plain; charset=us-ascii\nContent-Transfer-Encoding: 7bit\nX-From: Phillip K Allen\nX-To: Mark Scott\nX-cc: \nX-bcc: \nX-Folder: \\Phillip_Allen_Dec2000\\Notes Folders\\'sent mail\nX-Origin: Allen-P\nX-FileName: pallen.nsf\n\n1. login:  pallen pw: ke9davis\n\n I don't think these are required by the ISP \n\n  2.  static IP address\n\n IP: 64.216.90.105\n Sub: 255.255.255.248\n gate: 64.216.90.110\n DNS: 151.164.1.8\n\n  3.  Company: 0413\n        RC:  105891\"\n\"allen-p/_sent_mail/102.\",\"Message-ID: <30795301.1075855687494.JavaMail.evans@thyme>\nDate: Mon, 16 Oct 2000 06:44:00 -0700 (PDT)\nFrom: phillip.allen@enron.com\nTo: zimam@enron.com\nSubject: FW: fixed forward or other Collar floor gas price terms\nMime-Version: 1.0\nContent-Type: text/plain; charset=us-ascii\nContent-Transfer-Encoding: 7bit\nX-From: Phillip K Allen\nX-To: zimam@enron.com\nX-cc: \nX-bcc: \nX-Folder: \\Phillip_Allen_Dec2000\\Notes Folders\\'sent mail\nX-Origin: Allen-P\nX-FileName: pallen.nsf\n\n---------------------- Forwarded by Phillip K Allen/HOU/ECT on 10/16/2000 \n01:42 PM ---------------------------\n\n\n\"\"Buckner, Buck\"\" <buck.buckner@honeywell.com> on 10/12/2000 01:12:21 PM\nTo: \"\"'Pallen@Enron.com'\"\" <Pallen@Enron.com>\ncc:  \nSubject: FW: fixed forward or other Collar floor gas price terms\n\n\nPhillip,\n\n> As discussed  during our phone conversation, In a Parallon 75 microturbine\n> power generation deal for a national accounts customer, I am developing a\n> proposal to sell power to customer at fixed or collar/floor price. To do\n> so I need a corresponding term gas price for same. Microturbine is an\n> onsite generation product developed by Honeywell to generate electricity\n> on customer site (degen). using natural gas. In doing so,  I need your\n> best fixed price forward gas price deal for 1, 3, 5, 7 and 10 years for\n> annual/seasonal supply to microturbines to generate fixed kWh for\n> customer. We have the opportunity to sell customer kWh 's using\n> microturbine or sell them turbines themselves. kWh deal must have limited/\n> no risk forward gas price to make deal work. Therein comes Sempra energy\n> gas trading, truly you.\n>\n> We are proposing installing 180 - 240 units across a large number of\n> stores (60-100) in San Diego.\n> Store number varies because of installation hurdles face at small percent.\n>\n> For 6-8 hours a day  Microturbine run time:\n> Gas requirement for 180 microturbines 227 - 302 MMcf per year\n> Gas requirement for 240 microturbines 302 - 403 MMcf per year\n>\n> Gas will likely be consumed from May through September, during peak\n> electric period.\n> Gas price required: Burnertip price behind (LDC) San Diego Gas & Electric\n> Need detail breakout of commodity and transport cost (firm or\n> interruptible).\n>\n> Should you have additional questions, give me a call.\n> Let me assure you, this is real deal!!\n>\n> Buck Buckner, P.E., MBA\n> Manager, Business Development and Planning\n> Big Box Retail Sales\n> Honeywell Power Systems, Inc.\n> 8725 Pan American Frwy\n> Albuquerque, NM 87113\n> 505-798-6424\n> 505-798-6050x\n> 505-220-4129\n> 888/501-3145\n> \n\"\n\"allen-p/_sent_mail/103.\",\"Message-ID: <33076797.1075855687515.JavaMail.evans@thyme>\nDate: Mon, 16 Oct 2000 06:42:00 -0700 (PDT)\nFrom: phillip.allen@enron.com\nTo: buck.buckner@honeywell.com\nSubject: Re: FW: fixed forward or other Collar floor gas price terms\nMime-Version: 1.0\nContent-Type: text/plain; charset=us-ascii\nContent-Transfer-Encoding: 7bit\nX-From: Phillip K Allen\nX-To: \"\"Buckner, Buck\"\" <buck.buckner@honeywell.com> @ ENRON\nX-cc: \nX-bcc: \nX-Folder: \\Phillip_Allen_Dec2000\\Notes Folders\\'sent mail\nX-Origin: Allen-P\nX-FileName: pallen.nsf\n\nMr. Buckner,\n\n For delivered gas behind San Diego, Enron Energy Services is the appropriate \nEnron entity.  I have forwarded your request to Zarin Imam at EES.  Her phone \nnumber is 713-853-7107.  \n\nPhillip Allen\"\n\"allen-p/_sent_mail/104.\",\"Message-ID: <25459584.1075855687536.JavaMail.evans@thyme>\nDate: Fri, 13 Oct 2000 06:45:00 -0700 (PDT)\nFrom: phillip.allen@enron.com\nTo: stagecoachmama@hotmail.com\nSubject: \nMime-Version: 1.0\nContent-Type: text/plain; charset=us-ascii\nContent-Transfer-Encoding: 7bit\nX-From: Phillip K Allen\nX-To: stagecoachmama@hotmail.com\nX-cc: \nX-bcc: \nX-Folder: \\Phillip_Allen_Dec2000\\Notes Folders\\'sent mail\nX-Origin: Allen-P\nX-FileName: pallen.nsf\n\nLucy,\n\n Here are the rentrolls:\n\n\n\n Open them and save in the rentroll folder.  Follow these steps so you don't \nmisplace these files.\n\n 1.  Click on Save As\n 2.  Click on the drop down triangle under Save in:\n 3.  Click on the  (C): drive\n 4.  Click on the appropriate folder\n 5.  Click on Save:\n\nPhillip\"\n\"allen-p/_sent_mail/105.\",\"Message-ID: <13116875.1075855687561.JavaMail.evans@thyme>\nDate: Mon, 9 Oct 2000 07:16:00 -0700 (PDT)\nFrom: phillip.allen@enron.com\nTo: keith.holst@enron.com\nSubject: Consolidated positions: Issues & To Do list\nMime-Version: 1.0\nContent-Type: text/plain; charset=us-ascii\nContent-Transfer-Encoding: 7bit\nX-From: Phillip K Allen\nX-To: Keith Holst\nX-cc: \nX-bcc: \nX-Folder: \\Phillip_Allen_Dec2000\\Notes Folders\\'sent mail\nX-Origin: Allen-P\nX-FileName: pallen.nsf\n\n---------------------- Forwarded by Phillip K Allen/HOU/ECT on 10/09/2000 \n02:16 PM ---------------------------\n\n\nRichard Burchfield\n10/06/2000 06:59 AM\nTo: Phillip K Allen/HOU/ECT@ECT\ncc: Beth Perlman/HOU/ECT@ECT \nSubject: Consolidated positions: Issues & To Do list\n\nPhillip,\n Below is the issues & to do list as we go forward with documenting the \nrequirements for consolidated physical/financial positions and transport \ntrade capture. What we need to focus on is the first bullet in Allan's list; \nthe need for a single set of requirements. Although the meeting with Keith, \non Wednesday,  was informative the solution of creating a infinitely dynamic \nconsolidated position screen, will be extremely difficult and time \nconsuming.  Throughout the meeting on Wednesday, Keith alluded to the \ninability to get consensus amongst the traders on the presentation of the \nconsolidated position, so the solution was to make it so that a trader can \narrange the position screen to their liking (much like Excel). What needs to \nhappen on Monday from 3 - 5 is a effort to design a desired layout for the \nconsolidated position screen, this is critical. This does not exclude \nbuilding a capability to create a more flexible position presentation for the \nfuture, but in order to create a plan that can be measured we need firm \nrequirements. Also, to reiterate that the goals of this project is a project \nplan on consolidate physical/financial positions and transport trade capture. \nThe other issues that have been raised will be capture as projects on to \nthemselves, and will need to be prioritised as efforts outside of this \nproject.\n\nI have been involved in most of the meetings and the discussions have been \ngood. I believe there has been good communication between the teams, but now \nwe need to have focus on the objectives we set out to solve.\n\nRichard  \n---------------------- Forwarded by Richard Burchfield/HOU/ECT on 10/06/2000 \n08:34 AM ---------------------------\n\n\nAllan Severude\n10/05/2000 06:03 PM\nTo: Richard Burchfield/HOU/ECT@ECT\ncc: Peggy Alix/HOU/ECT@ECT, Russ Severson/HOU/ECT@ECT, Scott \nMills/HOU/ECT@ECT, Kenny Ha/HOU/ECT@ECT \nSubject: Consolidated positions: Issues & To Do list\n\n\nFrom our initial set of meetings with the traders regarding consolidated \npositions, I think we still have the following issues:\nWe don't have a single point of contact from the trading group.  We've had \nthree meetings which brought out very different issues from different \ntraders.  We really need a single point of contact to help drive the trader \nrequirements and help come to a consensus regarding the requirements.\nWe're getting hit with a lot of different requests, many of which appear to \nbe outside the scope of position consolidation.\n\nThings left to do:\nI think it may be useful to try to formulate a high level project goal to \nmake it as clear as possible what we're trying to accomplish with this \nproject.  It'll help determine which requests fall under the project scope.\nGo through the list of requests to determine which are in scope for this \nproject and which fall out of scope.\nFor those in scope, work to define relative importance (priority) of each and \nwork with traders to define the exact requirements of each.\nDefine the desired lay out of the position manager screen: main view and all \ndrill downs.\nUse the above to formulate a project plan.\n\nThings requested thus far (no particular order):\nInclusion of Sitara physical deals into the TDS position manager and deal \nticker.\nCustomized rows and columns in the position manager (ad hoc rows/columns that \nadd up existing position manager rows/columns).\nNew drill down in the position manager to break out positions by: physical, \ntransport, swaps, options, ...\nAddition of a curve tab to the position manager to show the real-time values \nof all curves on which the desk has a position.\nAbility to split the current position grid to allow daily positions to be \nshown directly above monthly positions.  Each grouped column in the top grid \nwould be tied to a grouped column in the bottom grid.\nAbility to properly show curve shift for float-for-float deals; determine the \nappropriate positions to show for each:\nGas Daily for monthly index,\nPhysical gas for Nymex,\nPhysical gas for Inside Ferc,\nPhysical gas for Mid market.\nAbility for TDS to pull valuation results based on a TDS flag instead of \nusing official valuations.\nPosition and P&L aggregation across all gas desks.\nAbility to include the Gas Price book into TDS:\nInclusion of spread options in our systems.  Ability to handle volatility \nskew and correlations.\nAbility to revalue all options incrementally throughout the trading day.  \nApproximate delta changes between valuations using instantaneous gamma or a \ngamma grid.\nValuation of Gas Daily options.\nA new position screen for options (months x strike x delta).  TBD.\nInclusion of positions for exotic options currently managed in spreadsheets.\nAbility to isolate the position change due to changed deals in the position \nmanager.\nAbility to view change deal P&L in the TDS deal ticker.  Show new deal terms, \nprior deal terms, and net P&L affect of the change.\nEliminate change deals with no economic impact from the TDS deal ticker.\nPosition drill down in the position manager to isolate the impact of \nindividual deals on the position total in a grid cell.\nBenchmark positions in TDS.\nDeployment of TDS in Canada. Currency and volume uom conversions. Implicit \nand explicit position break out issues.\n\n-- Allan.\n\nPS: Colleen is setting up a meeting tomorrow to discuss the direction for \ntransport.  Hopefully we'll know much better where that part stands at that \npoint.\n\n\n\n\n\"\n\"allen-p/_sent_mail/106.\",\"Message-ID: <2707340.1075855687584.JavaMail.evans@thyme>\nDate: Mon, 9 Oct 2000 07:00:00 -0700 (PDT)\nFrom: phillip.allen@enron.com\nTo: keith.holst@enron.com\nSubject: Consolidated positions: Issues & To Do list\nMime-Version: 1.0\nContent-Type: text/plain; charset=us-ascii\nContent-Transfer-Encoding: 7bit\nX-From: Phillip K Allen\nX-To: Keith Holst\nX-cc: \nX-bcc: \nX-Folder: \\Phillip_Allen_Dec2000\\Notes Folders\\'sent mail\nX-Origin: Allen-P\nX-FileName: pallen.nsf\n\n---------------------- Forwarded by Phillip K Allen/HOU/ECT on 10/09/2000 \n02:00 PM ---------------------------\n\n\nRichard Burchfield\n10/06/2000 06:59 AM\nTo: Phillip K Allen/HOU/ECT@ECT\ncc: Beth Perlman/HOU/ECT@ECT \nSubject: Consolidated positions: Issues & To Do list\n\nPhillip,\n Below is the issues & to do list as we go forward with documenting the \nrequirements for consolidated physical/financial positions and transport \ntrade capture. What we need to focus on is the first bullet in Allan's list; \nthe need for a single set of requirements. Although the meeting with Keith, \non Wednesday,  was informative the solution of creating a infinitely dynamic \nconsolidated position screen, will be extremely difficult and time \nconsuming.  Throughout the meeting on Wednesday, Keith alluded to the \ninability to get consensus amongst the traders on the presentation of the \nconsolidated position, so the solution was to make it so that a trader can \narrange the position screen to their liking (much like Excel). What needs to \nhappen on Monday from 3 - 5 is a effort to design a desired layout for the \nconsolidated position screen, this is critical. This does not exclude \nbuilding a capability to create a more flexible position presentation for the \nfuture, but in order to create a plan that can be measured we need firm \nrequirements. Also, to reiterate that the goals of this project is a project \nplan on consolidate physical/financial positions and transport trade capture. \nThe other issues that have been raised will be capture as projects on to \nthemselves, and will need to be prioritised as efforts outside of this \nproject.\n\nI have been involved in most of the meetings and the discussions have been \ngood. I believe there has been good communication between the teams, but now \nwe need to have focus on the objectives we set out to solve.\n\nRichard  \n---------------------- Forwarded by Richard Burchfield/HOU/ECT on 10/06/2000 \n08:34 AM ---------------------------\n\n\nAllan Severude\n10/05/2000 06:03 PM\nTo: Richard Burchfield/HOU/ECT@ECT\ncc: Peggy Alix/HOU/ECT@ECT, Russ Severson/HOU/ECT@ECT, Scott \nMills/HOU/ECT@ECT, Kenny Ha/HOU/ECT@ECT \nSubject: Consolidated positions: Issues & To Do list\n\n\nFrom our initial set of meetings with the traders regarding consolidated \npositions, I think we still have the following issues:\nWe don't have a single point of contact from the trading group.  We've had \nthree meetings which brought out very different issues from different \ntraders.  We really need a single point of contact to help drive the trader \nrequirements and help come to a consensus regarding the requirements.\nWe're getting hit with a lot of different requests, many of which appear to \nbe outside the scope of position consolidation.\n\nThings left to do:\nI think it may be useful to try to formulate a high level project goal to \nmake it as clear as possible what we're trying to accomplish with this \nproject.  It'll help determine which requests fall under the project scope.\nGo through the list of requests to determine which are in scope for this \nproject and which fall out of scope.\nFor those in scope, work to define relative importance (priority) of each and \nwork with traders to define the exact requirements of each.\nDefine the desired lay out of the position manager screen: main view and all \ndrill downs.\nUse the above to formulate a project plan.\n\nThings requested thus far (no particular order):\nInclusion of Sitara physical deals into the TDS position manager and deal \nticker.\nCustomized rows and columns in the position manager (ad hoc rows/columns that \nadd up existing position manager rows/columns).\nNew drill down in the position manager to break out positions by: physical, \ntransport, swaps, options, ...\nAddition of a curve tab to the position manager to show the real-time values \nof all curves on which the desk has a position.\nAbility to split the current position grid to allow daily positions to be \nshown directly above monthly positions.  Each grouped column in the top grid \nwould be tied to a grouped column in the bottom grid.\nAbility to properly show curve shift for float-for-float deals; determine the \nappropriate positions to show for each:\nGas Daily for monthly index,\nPhysical gas for Nymex,\nPhysical gas for Inside Ferc,\nPhysical gas for Mid market.\nAbility for TDS to pull valuation results based on a TDS flag instead of \nusing official valuations.\nPosition and P&L aggregation across all gas desks.\nAbility to include the Gas Price book into TDS:\nInclusion of spread options in our systems.  Ability to handle volatility \nskew and correlations.\nAbility to revalue all options incrementally throughout the trading day.  \nApproximate delta changes between valuations using instantaneous gamma or a \ngamma grid.\nValuation of Gas Daily options.\nA new position screen for options (months x strike x delta).  TBD.\nInclusion of positions for exotic options currently managed in spreadsheets.\nAbility to isolate the position change due to changed deals in the position \nmanager.\nAbility to view change deal P&L in the TDS deal ticker.  Show new deal terms, \nprior deal terms, and net P&L affect of the change.\nEliminate change deals with no economic impact from the TDS deal ticker.\nPosition drill down in the position manager to isolate the impact of \nindividual deals on the position total in a grid cell.\nBenchmark positions in TDS.\nDeployment of TDS in Canada. Currency and volume uom conversions. Implicit \nand explicit position break out issues.\n\n-- Allan.\n\nPS: Colleen is setting up a meeting tomorrow to discuss the direction for \ntransport.  Hopefully we'll know much better where that part stands at that \npoint.\n\n\n\n\n\"\n\"allen-p/_sent_mail/107.\",\"Message-ID: <2465689.1075855687605.JavaMail.evans@thyme>\nDate: Thu, 5 Oct 2000 06:26:00 -0700 (PDT)\nFrom: phillip.allen@enron.com\nTo: david.delainey@enron.com\nSubject: \nMime-Version: 1.0\nContent-Type: text/plain; charset=us-ascii\nContent-Transfer-Encoding: 7bit\nX-From: Phillip K Allen\nX-To: David W Delainey\nX-cc: \nX-bcc: \nX-Folder: \\Phillip_Allen_Dec2000\\Notes Folders\\'sent mail\nX-Origin: Allen-P\nX-FileName: pallen.nsf\n\nDave, \n\n Here are the names of the west desk members by category.  The origination \nside is very sparse.  \n\n\n\n\n\nPhillip\n\"\n\"allen-p/_sent_mail/108.\",\"Message-ID: <1115198.1075855687626.JavaMail.evans@thyme>\nDate: Thu, 5 Oct 2000 05:55:00 -0700 (PDT)\nFrom: phillip.allen@enron.com\nTo: paula.harris@enron.com\nSubject: Re: 2001 Margin Plan\nMime-Version: 1.0\nContent-Type: text/plain; charset=us-ascii\nContent-Transfer-Encoding: 7bit\nX-From: Phillip K Allen\nX-To: Paula Harris\nX-cc: \nX-bcc: \nX-Folder: \\Phillip_Allen_Dec2000\\Notes Folders\\'sent mail\nX-Origin: Allen-P\nX-FileName: pallen.nsf\n\nPaula,\n\n 35 million is fine\n\nPhillip\"\n\"allen-p/_sent_mail/109.\",\"Message-ID: <19773657.1075855687649.JavaMail.evans@thyme>\nDate: Wed, 4 Oct 2000 09:23:00 -0700 (PDT)\nFrom: phillip.allen@enron.com\nTo: ina.rangel@enron.com\nSubject: Var, Reporting and Resources Meeting\nMime-Version: 1.0\nContent-Type: text/plain; charset=us-ascii\nContent-Transfer-Encoding: 7bit\nX-From: Phillip K Allen\nX-To: Ina Rangel\nX-cc: \nX-bcc: \nX-Folder: \\Phillip_Allen_Dec2000\\Notes Folders\\'sent mail\nX-Origin: Allen-P\nX-FileName: pallen.nsf\n\n---------------------- Forwarded by Phillip K Allen/HOU/ECT on 10/04/2000 \n04:23 PM ---------------------------\n   \n\tEnron North America Corp.\n\t\n\tFrom:  Airam Arteaga                           10/04/2000 12:23 PM\n\t\n\nTo: Phillip K Allen/HOU/ECT@ECT, Thomas A Martin/HOU/ECT@ECT, Scott \nNeal/HOU/ECT@ECT, John Arnold/HOU/ECT@ECT, Grant Masson/HOU/ECT@ECT, Ted \nMurphy/HOU/ECT@ECT, Vladimir Gorny/HOU/ECT@ECT, Frank Hayden/Corp/Enron@Enron\ncc: Rita Hennessy/NA/Enron@Enron, Ina Rangel/HOU/ECT@ECT, Laura \nHarder/Corp/Enron@Enron, Kimberly Brown/HOU/ECT@ECT, Araceli \nRomero/NA/Enron@Enron, Kimberly Hillis/HOU/ECT@ect \nSubject: Var, Reporting and Resources Meeting\n\nPlease plan to attend the below  Meeting:\n\n\n                                Topic:  Var, Reporting and Resources Meeting\n        \n  Date:  Wednesday, October 11th\n\n  Time:  2:30 - 3:30 \n\n  Location: EB30C1\n\n  \n\n If you have any questions/conflicts, please feel free to call me.\n\nThanks,\nRain\nx.31560\n\n\n\n\n\n\n\"\n\"allen-p/_sent_mail/11.\",\"Message-ID: <7391389.10758553784\n\n*** WARNING: max output size exceeded, skipping output. ***\n\ning this \ntime which put extra volatility into the market and extra pressure on Patti.  \nShe didn't crack and provided much needed info during this time.\n\n Patti is performing the duties of a manager but being paid as a sr. \nspecialist.  Based on her heroic efforts, she deserves a PBR.  Let me know \nwhat is an acceptable cash amount.\n\nPhillip\"\n\"allen-p/all_documents/87.\",\"Message-ID: <12699764.1075855667399.JavaMail.evans@thyme>\nDate: Tue, 24 Oct 2000 09:49:00 -0700 (PDT)\nFrom: phillip.allen@enron.com\nTo: andy.zipper@enron.com\nSubject: Re:\nMime-Version: 1.0\nContent-Type: text/plain; charset=us-ascii\nContent-Transfer-Encoding: 7bit\nX-From: Phillip K Allen\nX-To: Andy Zipper\nX-cc: \nX-bcc: \nX-Folder: \\Phillip_Allen_Dec2000\\Notes Folders\\All documents\nX-Origin: Allen-P\nX-FileName: pallen.nsf\n\nAndy,\n\n Please assign a user name to Randy Gay.\n\nThank you,\n\nPhillip\"\n\"allen-p/all_documents/88.\",\"Message-ID: <5195109.1075855667420.JavaMail.evans@thyme>\nDate: Tue, 24 Oct 2000 07:50:00 -0700 (PDT)\nFrom: phillip.allen@enron.com\nTo: andy.zipper@enron.com\nSubject: \nMime-Version: 1.0\nContent-Type: text/plain; charset=us-ascii\nContent-Transfer-Encoding: 7bit\nX-From: Phillip K Allen\nX-To: Andy Zipper\nX-cc: \nX-bcc: \nX-Folder: \\Phillip_Allen_Dec2000\\Notes Folders\\All documents\nX-Origin: Allen-P\nX-FileName: pallen.nsf\n\nAndy,\n\n I spoke to John L. and he ok'd one of each new electronic system for the \nwest desk.  Are there any operational besides ICE and Dynegy?  If not, can \nyou have your assistant call me with id's and passwords.\n\nThank you,\n\nPhillip\"\n\"allen-p/all_documents/89.\",\"Message-ID: <5570191.1075855667444.JavaMail.evans@thyme>\nDate: Tue, 24 Oct 2000 06:29:00 -0700 (PDT)\nFrom: phillip.allen@enron.com\nTo: keith.holst@enron.com\nSubject: Investment Structure\nMime-Version: 1.0\nContent-Type: text/plain; charset=us-ascii\nContent-Transfer-Encoding: 7bit\nX-From: Phillip K Allen\nX-To: Keith Holst\nX-cc: \nX-bcc: \nX-Folder: \\Phillip_Allen_Dec2000\\Notes Folders\\All documents\nX-Origin: Allen-P\nX-FileName: pallen.nsf\n\n---------------------- Forwarded by Phillip K Allen/HOU/ECT on 10/24/2000 \n01:29 PM ---------------------------\n\n\n\"\"George Richards\"\" <cbpres@austin.rr.com> on 09/26/2000 01:18:45 PM\nPlease respond to <cbpres@austin.rr.com>\nTo: \"\"Phillip Allen\"\" <pallen@enron.com>\ncc: \"\"Larry Lewter\"\" <retwell@mail.sanmarcos.net>, \"\"Claudia L. Crocker\"\" \n<clclegal2@aol.com> \nSubject: Investment Structure\n\n\nSTRUCTURE:\nTypically the structure is a limited partnership with a corporate (or LLC)\ngeneral partner.  The General Partner owns 1% of the project and carries the\nliability of construction.\n\nLAND OWNERSHIP & LOANS\nThe property would be purchased in the name of the limited partnership and\nany land loans, land improvements loans and construction loans would be in\nthe name of the limited partnership.  Each of the individual investors and\nall of the principals in Creekside would also personally guarantee the\nloans.  If the investor(s) do not sign on the loans, this generally means\nthat a larger amount of cash is required and the investor's share of profits\nis reduced.\n\nAll loans for residential construction, that are intended for re-sale, are\nfull recourse loans.  If we are pursuing multifamily rental developments,\nthe construction loans are still full recourse but the mortgage can often be\nnon-recourse.\n\nUSE OF INITIAL INVESTMENT\nThe initial investment is used for land deposit, engineering &\narchitectural design, soils tests, surveys, filing fees, legal fees for\norganization and condominium association formation,  and appraisals.  Unlike\nmany real estate investment programs, none of the funds are used for fees to\nCreekside Builders, LLC.  These professional expenses will be incurred over\nthe estimated 6 month design and approval period.\n\nEARLY LAND COSTS\nThe $4,000 per month costs listed in the cash flow as part of land cost\nrepresent the extension fees due to the seller for up to 4 months of\nextensions on closing.  As an alternative, we can close into a land loan at\nprobably 70% of appraised value.  With a land value equal to the purchase\nprice of $680,000 this would mean a land loan of $476,000 with estimated\nmonthly interest payments of $3,966, given a 10% annual interest rate, plus\napproximately 1.25% of the loan amount for closing costs and loan fees.\n\nEQUITY AT IMPROVEMENT LOAN\nOnce the site plan is approved by the City of Austin, the City will require\nthe development entity to post funds for fiscal improvements, referred to as\nthe \"\"fiscals\"\".  This cost represents a bond for the completion of\nimprovements that COA considers vital and these funds are released once the\nimprovements have been completed and accepted by COA.  This release will be\nfor 90% of the cost with the remaining 10% released one year after\ncompletion.  Releases can be granted once every 90 days and you should\nexpect that the release would occur 6 months after the start of lot\nimprovement construction.  These fiscals are usually posted in cash or an\nirrevocable letter of credit.  As such, they have to be counted as a\ndevelopment cost, even though they are not spent.  Because they are not\nspent no interest is charged on these funds.\n\nThe lot improvement loan is typically 75% of the appraised value of a\nfinished lot, which I suspect will be at least $20,000 and potentially as\nhigh as $25,000.  This would produce a loan amount of  $15,000 on $20,000\nper lot.  With estimated per lot improvement costs of $9,000, 'fiscals' at\n$2,000 and the land cost at $8,000 , total improved lot cost is $19,000\nwhich means $0 to $4,000 per lot in total equity.  The investment prior to\nobtaining the improvement loan would count towards any equity requirement\nprovided it was for direct costs.  Thus, the additional equity for the\nimprovement loan would be $0-$184,000.   Even if the maximum loan would\ncover all costs, it is unlikely the bank would allow reimbursement of funds\nspent. The higher estimates of equity investments are shown in the\npreliminary proforma to be on the safe side.  The engineer is preparing a\ntentative site layout with an initial evaluation of the phasing, which can\nsignificantly reduce the cash equity requirement.\n\nPhasing works as follows.  If the first phase was say 40 units, the total\nlot improvement cost might average $31,000 per lot.   Of this, probably\n$13,000 would be for improvements and $19,000 for the land cost.  The\nimprovements are higher to cover large one time up front costs for design\ncosts, the entry road, water treatment costs, perimeter fencing and\nlandscaping, and so on, as well as for 100% of the land.  The land loan for\nundeveloped lots would be 70% of the appraised raw lot value, which I would\nestimate as $10,000 per lot for a loan value of $7,000 per lot.  Then the\nloan value for each improved lot would be $15,000 per lot.  This would give\nyou a total loan of $992,000, total cost of $1,232,645 for equity required\nof $241,000.  This was not presented in the initial analysis as the phasing\nis depended on a more careful assessment by the Civil Engineer as the\nseparate phases must each be able to stand on its own from a utility\nstandpoint.\n\nCONSTRUCTION LOANS\nThere are three types of  construction loans.  First, is a speculative\n(spec) loan that is taken out prior to any pre-sales activity.  Second,  is\na construction loan for a pre-sold unit, but the loan remains in the\nbuilder/developers name.  Third, is a pre-sold unit with the construction\nloan in the name of the buyer.  We expect to have up to 8 spec loans to\nstart the project and expect all other loans to be pre-sold units with loans\nin the name of the builder/developer.  We do not expect to have any\nconstruction loans in the name of the buyers, as such loans are too\ndifficult to manage and please new buyers unfamiliar with the process.\n\nSpec loans will be for 70% to 75% of value and construction loans for\npre-sold units, if the construction loan is from the mortgage lender,  will\nbe from 80% to 95% of value.\n\nDISBURSEMENTS\nDisbursements will be handled by the General Partner to cover current and\nnear term third party costs, then to necessary reserves, then to priority\npayments and then to the partners per the agreement.  The General Partner\nwill contract with Creekside Builders, LLC to construct the units and the\nfee to CB will include a construction management and overhead fee equal to\n15% of the direct hard cost excluding land, financing and sales costs.\nThese fees are the only monies to Creekside, Larry Lewter or myself prior to\ncalculation of profit, except for a) direct reimbursement for partnership\nexpenses and b) direct payment to CB for any subcontractor costs that it has\nto perform.  For example, if CB cannot find a good trim carpenter sub, or\ncannot find enough trim carpenters, etc., and it decides to undertake this\nfunction, it will charge the partnership the same fee it was able to obtain\nfrom third parties and will disclose those cases to the partnership.\nFinally, CB will receive a fee for the use of any of its equipment if it is\nused in lieu of leasing equipment from others.  At present CB does not own\nany significant equipment, but it is considering the purchase of a sky track\nto facilitate and speed up framing, cornice, roofing and drywall spreading.\n\nREPORTING\nWe are more than willing to provide reports to track expenses vs. plan.\nWhat did you have in mind?  I would like to use some form of internet based\nreporting.\n\nBOOKKEEPING\nI am not sure what you are referring to by the question, \"\"Bookkeeping\nprocedures to record actual expenses?\"\"  Please expand.\n\nINVESTOR INPUT\nWe are glad to have the investor's input on design and materials.  As always\nthe question will be who has final say if there is disagreement, but in my\nexperience I have always been able to reach consensus. As you, and I presume\nKeith, want to be involved to learn as much as possible we would make every\neffort to be accommodating.\n\nCREEKSIDE PROCEEDURES\nCB procedures for dealing with subs, vendors and professionals is not as\nformal as your question indicates.  In the EXTREMELY tight labor market\nobtaining 3 bids for each labor trade is not feasible.  For the professional\nsubs we use those with whom we have developed a previous rapport.  Finally,\nfor vendors they are constantly shopped.\n\nPRE-SELECTED PROFESSIONALS, SUBS AND VENDORS\nYes there are many different subs that have been identified and I can\nprovide these if you are interested.\n\nI know I have not answered everything, but this is a starting point.  Call\nwhen you have reviewed and we can discuss further.\n\nSincerely,\n\nGeorge Richards\nPresident, Creekside Builders, LLC\n\n\n\n\n - winmail.dat\n\"\n\"allen-p/all_documents/9.\",\"Message-ID: <29403111.1075855665483.JavaMail.evans@thyme>\nDate: Wed, 13 Dec 2000 08:22:00 -0800 (PST)\nFrom: rebecca.cantrell@enron.com\nTo: stephanie.miller@enron.com, ruth.concannon@enron.com, jane.tholt@enron.com, \n\ttori.kuykendall@enron.com, randall.gay@enron.com, \n\tphillip.allen@enron.com, timothy.hamilton@enron.com, \n\trobert.superty@enron.com, colleen.sullivan@enron.com, \n\tdonna.greif@enron.com, julie.gomez@enron.com\nSubject: Final Filed Version -- SDG&E Comments\nMime-Version: 1.0\nContent-Type: text/plain; charset=us-ascii\nContent-Transfer-Encoding: 7bit\nX-From: Rebecca W Cantrell\nX-To: Stephanie Miller, Ruth Concannon, Jane M Tholt, Tori Kuykendall, Randall L Gay, Phillip K Allen, Timothy J Hamilton, Robert Superty, Colleen Sullivan, Donna Greif, Julie A Gomez\nX-cc: \nX-bcc: \nX-Folder: \\Phillip_Allen_Dec2000\\Notes Folders\\All documents\nX-Origin: Allen-P\nX-FileName: pallen.nsf\n\nFYI.\n---------------------- Forwarded by Rebecca W Cantrell/HOU/ECT on 12/13/2000 \n04:18 PM ---------------------------\n\n\n\"\"Randall Rich\"\" <rrich@bracepatt.com> on 12/13/2000 04:13:55 PM\nTo: \"\"Jeffrey Watkiss\"\" <dwatkiss@bracepatt.com>, <jhartso@enron.com>, \n<jsteffe@enron.com>, <llawner@enron.com>, <rebecca.w.cantrell@enron.com>, \n<Richard.b.sanders@enron.com>, <snovose@enron.com>\ncc:  \nSubject: Final Filed Version\n\n\nThe filed version of the comments in the San Diego Gas & Electric matter at \nFERC is attached.\n\n - SANDIEGO.DOC\n\"\n\"allen-p/all_documents/90.\",\"Message-ID: <1349081.1075855667466.JavaMail.evans@thyme>\nDate: Tue, 24 Oct 2000 05:52:00 -0700 (PDT)\nFrom: phillip.allen@enron.com\nTo: bob.m.hall@enron.com\nSubject: \nCc: robert.superty@enron.com\nMime-Version: 1.0\nContent-Type: text/plain; charset=us-ascii\nContent-Transfer-Encoding: 7bit\nBcc: robert.superty@enron.com\nX-From: Phillip K Allen\nX-To: bob.m.hall@enron.com\nX-cc: Robert Superty\nX-bcc: \nX-Folder: \\Phillip_Allen_Dec2000\\Notes Folders\\All documents\nX-Origin: Allen-P\nX-FileName: pallen.nsf\n\nBob,\n\n Regarding Patti Sullivan's contributions to the west desk this year, her \nefforts deserve recognition and a PBR award.  Patti stepped up to fill the \ngap left by Randy Gay's personal leave.  Patti held together the scheduling \ngroup for about 2 month's by working 7days a week during this time.  Patti \nwas always the first one in the office during this time.  Frequently, she \nwould be at work before 4 AM to prepare the daily operation package.  All the \ntraders came to depend on the information Patti provided.   This information \nhas been extremely critical this year due to the pipeline explosion and size \nof the west desk positions.  \n Please call to discuss cash award.\n\nPhillip\"\n\"allen-p/all_documents/91.\",\"Message-ID: <24771181.1075855667487.JavaMail.evans@thyme>\nDate: Tue, 24 Oct 2000 05:16:00 -0700 (PDT)\nFrom: phillip.allen@enron.com\nTo: rbandekow@home.com\nSubject: Re: Enron\nMime-Version: 1.0\nContent-Type: text/plain; charset=us-ascii\nContent-Transfer-Encoding: 7bit\nX-From: Phillip K Allen\nX-To: \"\"Richard J. Bandekow\"\" <rbandekow@home.com> @ ENRON\nX-cc: \nX-bcc: \nX-Folder: \\Phillip_Allen_Dec2000\\Notes Folders\\All documents\nX-Origin: Allen-P\nX-FileName: pallen.nsf\n\nRichard,\n\n Are you available at 5:30 ET today?\n\nPhillip\"\n\"allen-p/all_documents/92.\",\"Message-ID: <19402224.1075855667508.JavaMail.evans@thyme>\nDate: Mon, 23 Oct 2000 08:55:00 -0700 (PDT)\nFrom: phillip.allen@enron.com\nTo: jedglick@hotmail.com\nSubject: Enron\nMime-Version: 1.0\nContent-Type: text/plain; charset=us-ascii\nContent-Transfer-Encoding: 7bit\nX-From: Phillip K Allen\nX-To: Jedglick@hotmail.com\nX-cc: \nX-bcc: \nX-Folder: \\Phillip_Allen_Dec2000\\Notes Folders\\All documents\nX-Origin: Allen-P\nX-FileName: pallen.nsf\n\nJed,\n\n I understand you have been contacted regarding a telephone interview to \ndiscuss trading opportunities at  Enron.  I am sending you this message to \nschedule the interview.  Please call or email me with a time that would be \nconvenient for you.  I look forward to speaking with you.\n\nPhillip Allen\nWest Gas Trading\npallen@enron.com\n713-853-7041\"\n\"allen-p/all_documents/93.\",\"Message-ID: <11220298.1075855667530.JavaMail.evans@thyme>\nDate: Fri, 20 Oct 2000 03:06:00 -0700 (PDT)\nFrom: phillip.allen@enron.com\nTo: stagecoachmama@hotmail.com\nSubject: \nMime-Version: 1.0\nContent-Type: text/plain; charset=us-ascii\nContent-Transfer-Encoding: 7bit\nX-From: Phillip K Allen\nX-To: stagecoachmama@hotmail.com\nX-cc: \nX-bcc: \nX-Folder: \\Phillip_Allen_Dec2000\\Notes Folders\\All documents\nX-Origin: Allen-P\nX-FileName: pallen.nsf\n\nLucy,\n\n       Here are the actual utility bills versus the cap.  Did we collect \nthese overages?  Let's discuss further?  Remember these bills were paid in \nJuly and August.  The usage dates are much earlier.  I have the bills but I \ncan get them to you if need be.\n\nPhilip\"\n\"allen-p/all_documents/94.\",\"Message-ID: <3651763.1075855667551.JavaMail.evans@thyme>\nDate: Wed, 18 Oct 2000 07:44:00 -0700 (PDT)\nFrom: phillip.allen@enron.com\nTo: bob.schorr@enron.com\nSubject: Re: EOL Screens in new Body Shop\nMime-Version: 1.0\nContent-Type: text/plain; charset=us-ascii\nContent-Transfer-Encoding: 7bit\nX-From: Phillip K Allen\nX-To: Bob Schorr\nX-cc: \nX-bcc: \nX-Folder: \\Phillip_Allen_Dec2000\\Notes Folders\\All documents\nX-Origin: Allen-P\nX-FileName: pallen.nsf\n\nBob,\n\n Any time tomorrow between 10 am and 1 pm would be good for looking at the \nplans.  As far as the TV's, what do you need me to do?  Do we need plasma \nscreens or would regular monitors be just as good at a fraction of the cost.\n\nPhillip\"\n\"allen-p/all_documents/95.\",\"Message-ID: <4131469.1075855667572.JavaMail.evans@thyme>\nDate: Wed, 18 Oct 2000 03:00:00 -0700 (PDT)\nFrom: phillip.allen@enron.com\nTo: leah.arsdall@enron.com\nSubject: Re: test\nMime-Version: 1.0\nContent-Type: text/plain; charset=us-ascii\nContent-Transfer-Encoding: 7bit\nX-From: Phillip K Allen\nX-To: Leah Van Arsdall\nX-cc: \nX-bcc: \nX-Folder: \\Phillip_Allen_Dec2000\\Notes Folders\\All documents\nX-Origin: Allen-P\nX-FileName: pallen.nsf\n\ntest successful.  way to go!!!\"\n\"allen-p/all_documents/96.\",\"Message-ID: <13486797.1075855667594.JavaMail.evans@thyme>\nDate: Tue, 17 Oct 2000 02:26:00 -0700 (PDT)\nFrom: phillip.allen@enron.com\nTo: mark.scott@enron.com\nSubject: Re: High Speed Internet Access\nMime-Version: 1.0\nContent-Type: text/plain; charset=us-ascii\nContent-Transfer-Encoding: 7bit\nX-From: Phillip K Allen\nX-To: Mark Scott\nX-cc: \nX-bcc: \nX-Folder: \\Phillip_Allen_Dec2000\\Notes Folders\\All documents\nX-Origin: Allen-P\nX-FileName: pallen.nsf\n\n1. login:  pallen pw: ke9davis\n\n I don't think these are required by the ISP \n\n  2.  static IP address\n\n IP: 64.216.90.105\n Sub: 255.255.255.248\n gate: 64.216.90.110\n DNS: 151.164.1.8\n\n  3.  Company: 0413\n        RC:  105891\"\n\"allen-p/all_documents/97.\",\"Message-ID: <12422255.1075855667616.JavaMail.evans@thyme>\nDate: Mon, 16 Oct 2000 06:44:00 -0700 (PDT)\nFrom: phillip.allen@enron.com\nTo: zimam@enron.com\nSubject: FW: fixed forward or other Collar floor gas price terms\nMime-Version: 1.0\nContent-Type: text/plain; charset=us-ascii\nContent-Transfer-Encoding: 7bit\nX-From: Phillip K Allen\nX-To: zimam@enron.com\nX-cc: \nX-bcc: \nX-Folder: \\Phillip_Allen_Dec2000\\Notes Folders\\All documents\nX-Origin: Allen-P\nX-FileName: pallen.nsf\n\n---------------------- Forwarded by Phillip K Allen/HOU/ECT on 10/16/2000 \n01:42 PM ---------------------------\n\n\n\"\"Buckner, Buck\"\" <buck.buckner@honeywell.com> on 10/12/2000 01:12:21 PM\nTo: \"\"'Pallen@Enron.com'\"\" <Pallen@Enron.com>\ncc:  \nSubject: FW: fixed forward or other Collar floor gas price terms\n\n\nPhillip,\n\n> As discussed  during our phone conversation, In a Parallon 75 microturbine\n> power generation deal for a national accounts customer, I am developing a\n> proposal to sell power to customer at fixed or collar/floor price. To do\n> so I need a corresponding term gas price for same. Microturbine is an\n> onsite generation product developed by Honeywell to generate electricity\n> on customer site (degen). using natural gas. In doing so,  I need your\n> best fixed price forward gas price deal for 1, 3, 5, 7 and 10 years for\n> annual/seasonal supply to microturbines to generate fixed kWh for\n> customer. We have the opportunity to sell customer kWh 's using\n> microturbine or sell them turbines themselves. kWh deal must have limited/\n> no risk forward gas price to make deal work. Therein comes Sempra energy\n> gas trading, truly you.\n>\n> We are proposing installing 180 - 240 units across a large number of\n> stores (60-100) in San Diego.\n> Store number varies because of installation hurdles face at small percent.\n>\n> For 6-8 hours a day  Microturbine run time:\n> Gas requirement for 180 microturbines 227 - 302 MMcf per year\n> Gas requirement for 240 microturbines 302 - 403 MMcf per year\n>\n> Gas will likely be consumed from May through September, during peak\n> electric period.\n> Gas price required: Burnertip price behind (LDC) San Diego Gas & Electric\n> Need detail breakout of commodity and transport cost (firm or\n> interruptible).\n>\n> Should you have additional questions, give me a call.\n> Let me assure you, this is real deal!!\n>\n> Buck Buckner, P.E., MBA\n> Manager, Business Development and Planning\n> Big Box Retail Sales\n> Honeywell Power Systems, Inc.\n> 8725 Pan American Frwy\n> Albuquerque, NM 87113\n> 505-798-6424\n> 505-798-6050x\n> 505-220-4129\n> 888/501-3145\n> \n\"\n\"allen-p/all_documents/98.\",\"Message-ID: <5164240.1075855667637.JavaMail.evans@thyme>\nDate: Mon, 16 Oct 2000 06:42:00 -0700 (PDT)\nFrom: phillip.allen@enron.com\nTo: buck.buckner@honeywell.com\nSubject: Re: FW: fixed forward or other Collar floor gas price terms\nMime-Version: 1.0\nContent-Type: text/plain; charset=us-ascii\nContent-Transfer-Encoding: 7bit\nX-From: Phillip K Allen\nX-To: \"\"Buckner, Buck\"\" <buck.buckner@honeywell.com> @ ENRON\nX-cc: \nX-bcc: \nX-Folder: \\Phillip_Allen_Dec2000\\Notes Folders\\All documents\nX-Origin: Allen-P\nX-FileName: pallen.nsf\n\nMr. Buckner,\n\n For delivered gas behind San Diego, Enron Energy Services is the appropriate \nEnron entity.  I have forwarded your request to Zarin Imam at EES.  Her phone \nnumber is 713-853-7107.  \n\nPhillip Allen\"\n\"allen-p/all_documents/99.\",\"Message-ID: <23634486.1075855667660.JavaMail.evans@thyme>\nDate: Fri, 13 Oct 2000 06:45:00 -0700 (PDT)\nFrom: phillip.allen@enron.com\nTo: stagecoachmama@hotmail.com\nSubject: \nMime-Version: 1.0\nContent-Type: text/plain; charset=us-ascii\nContent-Transfer-Encoding: 7bit\nX-From: Phillip K Allen\nX-To: stagecoachmama@hotmail.com\nX-cc: \nX-bcc: \nX-Folder: \\Phillip_Allen_Dec2000\\Notes Folders\\All documents\nX-Origin: Allen-P\nX-FileName: pallen.nsf\n\nLucy,\n\n Here are the rentrolls:\n\n\n\n Open them and save in the rentroll folder.  Follow these steps so you don't \nmisplace these files.\n\n 1.  Click on Save As\n 2.  Click on the drop down triangle under Save in:\n 3.  Click on the  (C): drive\n 4.  Click on the appropriate folder\n 5.  Click on Save:\n\nPhillip\"\n\"allen-p/contacts/1.\",\"Message-ID: <15816310.1075855374294.JavaMail.evans@thyme>\nDate: Mon, 14 May 2001 17:18:42 -0700 (PDT)\nFrom: outlook-migration-team@enron.com\nSubject: Lee Odonnel\nMime-Version: 1.0\nContent-Type: text/plain; charset=us-ascii\nContent-Transfer-Encoding: 7bit\nX-From: Outlook-Migration-Team </O=ENRON/OU=NA/CN=RECIPIENTS/CN=EXCHMIGTEAM>\nX-To: \nX-cc: \nX-bcc: \nX-Folder: \\Phillip_Allen_Jan2002_1\\Allen, Phillip K.\\Contacts\nX-Origin: Allen-P\nX-FileName: pallen (Non-Privileged).pst\n\nloan servicing-jessica weeber 800-393-5626 jweeber@spbank.com\"\n\"allen-p/contacts/2.\",\"Message-ID: <6521706.1075855374316.JavaMail.evans@thyme>\nDate: Mon, 14 May 2001 17:18:42 -0700 (PDT)\nFrom: outlook-migration-team@enron.com\nSubject: Greg Thorse\nMime-Version: 1.0\nContent-Type: text/plain; charset=us-ascii\nContent-Transfer-Encoding: 7bit\nX-From: Outlook-Migration-Team </O=ENRON/OU=NA/CN=RECIPIENTS/CN=EXCHMIGTEAM>\nX-To: \nX-cc: \nX-bcc: \nX-Folder: \\Phillip_Allen_Jan2002_1\\Allen, Phillip K.\\Contacts\nX-Origin: Allen-P\nX-FileName: pallen (Non-Privileged).pst\n\nexit mccollough off 410\"\n\"allen-p/deleted_items/1.\",\"Message-ID: <21543395.1075855374340.JavaMail.evans@thyme>\nDate: Sun, 30 Dec 2001 10:19:42 -0800 (PST)\nFrom: pallen70@hotmail.com\nTo: pallen@enron.com\nSubject: Fwd: Bishops Corner\nMime-Version: 1.0\nContent-Type: text/plain; charset=ANSI_X3.4-1968\nContent-Transfer-Encoding: 7bit\nX-From: \"\"phillip allen\"\" <pallen70@hotmail.com>@ENRON\nX-To: pallen@enron.com\nX-cc: \nX-bcc: \nX-Folder: \\Phillip_Allen_Jan2002_1\\Allen, Phillip K.\\Deleted Items\nX-Origin: Allen-P\nX-FileName: pallen (Non-Privileged).pst\n\n\n \n>From: \"\"Greg Thorse\"\" \n>To: \n>CC: \"\"Phillip Allen\"\" \n>Subject: Bishops Corner  \n>Date: Sat, 29 Dec 2001 17:02:59 -0600  \n>  \n>Phillip;  \n>  \n>Could you please e-mail me the draw file you created for Bishops Corner. I  \n>was working on submitting it to you and rather then recreate it I should  \n>just have you send it back to me to fill in the new draw totals.  \n>  \n>Also, I need the vendor payee list that you created for the Land and Soft  \n>costs. I need to re-format it by draw number and to the Bank One format, and  \n>again it would be easier to get it from you then to re-create it.  \n>  \n>Please take a look at the following summary and compare to your numbers to  \n>see if you agree.  \n>  \n> Land And Soft Costs - Initial Draw $ 1,608,683.05  \n> Galaxy - Draw # 1 $ 250,000.00  \n> Galaxy - Draw # 2 $ 223,259.09  \n>  \n> Total Paid To Date Cash $ 2,081,942.14  \n>  \n> Project Cost $ 10,740,980.87  \n> Loan Amount $ 8,055,736.65  \n>  \n> Equity Required $ 2,685,244.22  \n> Developer Profit $ ( 326,202.57)  \n>  \n> Balance Of Funding $ 2,359,041.65  \n>  \n> Total Paid To Date $ 2,081,942.14  \n>  \n> Balance To Fund Cash $ 277,099.51  \n>  \n>  \n> Galaxy - Draw # 3 $ 467,566.66  \n>  \n> Bank One Draw # 1 $ 190,467.15  \n> Final Cash Funding $ 277,099.51  \n>  \n>  \n>I think you thought you had more to fund. However, I do not see that you  \n>accounted for the cash portion of the Developer fee that you paid CIS. Am I  \n>looking at this right? Please let me know and attach? the files discussed  \n>above. I am working all day Monday so I hope I can get it before then if  \n>possible.  \n>  \n>Thanks A Lot  \n>  \n>Greg Thorse  \n>  \n>  \n>  \n>  \n>  \n>  \n\nChat with friends online, try MSN Messenger: Click Here \"\n\"allen-p/deleted_items/10.\",\"Message-ID: <25363451.1075855374674.JavaMail.evans@thyme>\nDate: Thu, 27 Dec 2001 17:16:46 -0800 (PST)\nFrom: arsystem@mailman.enron.com\n"
     ]
    },
    {
     "output_type": "display_data",
     "data": {
      "text/html": [
       "<style scoped>\n",
       "  .ansiout {\n",
       "    display: block;\n",
       "    unicode-bidi: embed;\n",
       "    white-space: pre-wrap;\n",
       "    word-wrap: break-word;\n",
       "    word-break: break-all;\n",
       "    font-family: \"Menlo\", \"Monaco\", \"Consolas\", \"Ubuntu Mono\", \"Source Code Pro\", monospace;\n",
       "    font-size: 13px;\n",
       "    color: #555;\n",
       "    margin-left: 4px;\n",
       "    line-height: 19px;\n",
       "  }\n",
       "</style>"
      ]
     },
     "metadata": {
      "application/vnd.databricks.v1+output": {
       "arguments": {},
       "data": "",
       "errorSummary": "Cancelled",
       "errorTraceType": "html",
       "metadata": {},
       "type": "ipynbError"
      }
     },
     "output_type": "display_data"
    }
   ],
   "source": [
    "%sh\n",
    "less /tmp/emails.csv"
   ]
  },
  {
   "cell_type": "code",
   "execution_count": 0,
   "metadata": {
    "application/vnd.databricks.v1+cell": {
     "cellMetadata": {
      "byteLimit": 2048000,
      "rowLimit": 10000
     },
     "inputWidgets": {},
     "nuid": "6895b246-4ca0-4483-90c9-621aab9d48fd",
     "showTitle": false,
     "tableResultSettingsMap": {},
     "title": ""
    }
   },
   "outputs": [
    {
     "output_type": "stream",
     "name": "stdout",
     "output_type": "stream",
     "text": [
      "Out[56]: True"
     ]
    }
   ],
   "source": [
    "## Create a directory in DBFS(A folder to store the content of unzipped file)\n",
    "dbutils.fs.mkdirs('FileStore/tables/emails')"
   ]
  },
  {
   "cell_type": "code",
   "execution_count": 0,
   "metadata": {
    "application/vnd.databricks.v1+cell": {
     "cellMetadata": {
      "byteLimit": 2048000,
      "rowLimit": 10000
     },
     "inputWidgets": {},
     "nuid": "a2bf5658-80d2-488e-bbed-b32cd6dd1fd9",
     "showTitle": false,
     "tableResultSettingsMap": {},
     "title": ""
    }
   },
   "outputs": [
    {
     "output_type": "display_data",
     "data": {
      "text/html": [
       "<style scoped>\n",
       "  .ansiout {\n",
       "    display: block;\n",
       "    unicode-bidi: embed;\n",
       "    white-space: pre-wrap;\n",
       "    word-wrap: break-word;\n",
       "    word-break: break-all;\n",
       "    font-family: \"Menlo\", \"Monaco\", \"Consolas\", \"Ubuntu Mono\", \"Source Code Pro\", monospace;\n",
       "    font-size: 13px;\n",
       "    color: #555;\n",
       "    margin-left: 4px;\n",
       "    line-height: 19px;\n",
       "  }\n",
       "</style>"
      ]
     },
     "metadata": {
      "application/vnd.databricks.v1+output": {
       "arguments": {},
       "data": "",
       "errorSummary": "Cancelled",
       "errorTraceType": "html",
       "metadata": {},
       "type": "ipynbError"
      }
     },
     "output_type": "display_data"
    }
   ],
   "source": [
    "## move content of the unzipped file to the the new directory\n",
    "dbutils.fs.mv('file:/tmp/emails.csv', 'FileStore/tables/emails', True)"
   ]
  },
  {
   "cell_type": "code",
   "execution_count": 0,
   "metadata": {
    "application/vnd.databricks.v1+cell": {
     "cellMetadata": {
      "byteLimit": 2048000,
      "rowLimit": 10000
     },
     "inputWidgets": {},
     "nuid": "1e58903b-615d-4b80-8046-981d833914cc",
     "showTitle": false,
     "tableResultSettingsMap": {},
     "title": ""
    }
   },
   "outputs": [
    {
     "output_type": "stream",
     "name": "stdout",
     "output_type": "stream",
     "text": [
      "Out[58]: [FileInfo(path='dbfs:/FileStore/tables/emails/emails.csv', name='emails.csv', size=1426122219, modificationTime=1739915808000)]"
     ]
    }
   ],
   "source": [
    "# list content of the directory\n",
    "dbutils.fs.ls('FileStore/tables/emails/')"
   ]
  },
  {
   "cell_type": "code",
   "execution_count": 0,
   "metadata": {
    "application/vnd.databricks.v1+cell": {
     "cellMetadata": {
      "byteLimit": 2048000,
      "rowLimit": 10000
     },
     "inputWidgets": {},
     "nuid": "9a55d3c1-d368-4836-96ed-9173cc70983d",
     "showTitle": false,
     "tableResultSettingsMap": {},
     "title": ""
    }
   },
   "outputs": [
    {
     "output_type": "stream",
     "name": "stdout",
     "output_type": "stream",
     "text": [
      "[Truncated to first 65536 bytes]\nOut[59]: '\"file\",\"message\"\\n\"allen-p/_sent_mail/1.\",\"Message-ID: <18782981.1075855378110.JavaMail.evans@thyme>\\nDate: Mon, 14 May 2001 16:39:00 -0700 (PDT)\\nFrom: phillip.allen@enron.com\\nTo: tim.belden@enron.com\\nSubject: \\nMime-Version: 1.0\\nContent-Type: text/plain; charset=us-ascii\\nContent-Transfer-Encoding: 7bit\\nX-From: Phillip K Allen\\nX-To: Tim Belden <Tim Belden/Enron@EnronXGate>\\nX-cc: \\nX-bcc: \\nX-Folder: \\\\Phillip_Allen_Jan2002_1\\\\Allen, Phillip K.\\\\\\'Sent Mail\\nX-Origin: Allen-P\\nX-FileName: pallen (Non-Privileged).pst\\n\\nHere is our forecast\\n\\n \"\\n\"allen-p/_sent_mail/10.\",\"Message-ID: <15464986.1075855378456.JavaMail.evans@thyme>\\nDate: Fri, 4 May 2001 13:51:00 -0700 (PDT)\\nFrom: phillip.allen@enron.com\\nTo: john.lavorato@enron.com\\nSubject: Re:\\nMime-Version: 1.0\\nContent-Type: text/plain; charset=us-ascii\\nContent-Transfer-Encoding: 7bit\\nX-From: Phillip K Allen\\nX-To: John J Lavorato <John J Lavorato/ENRON@enronXgate@ENRON>\\nX-cc: \\nX-bcc: \\nX-Folder: \\\\Phillip_Allen_Jan2002_1\\\\Allen, Phillip K.\\\\\\'Sent Mail\\nX-Origin: Allen-P\\nX-FileName: pallen (Non-Privileged).pst\\n\\nTraveling to have a business meeting takes the fun out of the trip.  Especially if you have to prepare a presentation.  I would suggest holding the business plan meetings here then take a trip without any formal business meetings.  I would even try and get some honest opinions on whether a trip is even desired or necessary.\\n\\nAs far as the business meetings, I think it would be more productive to try and stimulate discussions across the different groups about what is working and what is not.  Too often the presenter speaks and the others are quiet just waiting for their turn.   The meetings might be better if held in a round table discussion format.  \\n\\nMy suggestion for where to go is Austin.  Play golf and rent a ski boat and jet ski\\'s.  Flying somewhere takes too much time.\\n\"\\n\"allen-p/_sent_mail/100.\",\"Message-ID: <24216240.1075855687451.JavaMail.evans@thyme>\\nDate: Wed, 18 Oct 2000 03:00:00 -0700 (PDT)\\nFrom: phillip.allen@enron.com\\nTo: leah.arsdall@enron.com\\nSubject: Re: test\\nMime-Version: 1.0\\nContent-Type: text/plain; charset=us-ascii\\nContent-Transfer-Encoding: 7bit\\nX-From: Phillip K Allen\\nX-To: Leah Van Arsdall\\nX-cc: \\nX-bcc: \\nX-Folder: \\\\Phillip_Allen_Dec2000\\\\Notes Folders\\\\\\'sent mail\\nX-Origin: Allen-P\\nX-FileName: pallen.nsf\\n\\ntest successful.  way to go!!!\"\\n\"allen-p/_sent_mail/1000.\",\"Message-ID: <13505866.1075863688222.JavaMail.evans@thyme>\\nDate: Mon, 23 Oct 2000 06:13:00 -0700 (PDT)\\nFrom: phillip.allen@enron.com\\nTo: randall.gay@enron.com\\nSubject: \\nMime-Version: 1.0\\nContent-Type: text/plain; charset=us-ascii\\nContent-Transfer-Encoding: 7bit\\nX-From: Phillip K Allen\\nX-To: Randall L Gay\\nX-cc: \\nX-bcc: \\nX-Folder: \\\\Phillip_Allen_Dec2000\\\\Notes Folders\\\\\\'sent mail\\nX-Origin: Allen-P\\nX-FileName: pallen.nsf\\n\\nRandy,\\n\\n Can you send me a schedule of the salary and level of everyone in the \\nscheduling group.  Plus your thoughts on any changes that need to be made.  \\n(Patti S for example)\\n\\nPhillip\"\\n\"allen-p/_sent_mail/1001.\",\"Message-ID: <30922949.1075863688243.JavaMail.evans@thyme>\\nDate: Thu, 31 Aug 2000 05:07:00 -0700 (PDT)\\nFrom: phillip.allen@enron.com\\nTo: greg.piper@enron.com\\nSubject: Re: Hello\\nMime-Version: 1.0\\nContent-Type: text/plain; charset=us-ascii\\nContent-Transfer-Encoding: 7bit\\nX-From: Phillip K Allen\\nX-To: Greg Piper\\nX-cc: \\nX-bcc: \\nX-Folder: \\\\Phillip_Allen_Dec2000\\\\Notes Folders\\\\\\'sent mail\\nX-Origin: Allen-P\\nX-FileName: pallen.nsf\\n\\nLet\\'s shoot for Tuesday at 11:45.  \"\\n\"allen-p/_sent_mail/1002.\",\"Message-ID: <30965995.1075863688265.JavaMail.evans@thyme>\\nDate: Thu, 31 Aug 2000 04:17:00 -0700 (PDT)\\nFrom: phillip.allen@enron.com\\nTo: greg.piper@enron.com\\nSubject: Re: Hello\\nMime-Version: 1.0\\nContent-Type: text/plain; charset=us-ascii\\nContent-Transfer-Encoding: 7bit\\nX-From: Phillip K Allen\\nX-To: Greg Piper\\nX-cc: \\nX-bcc: \\nX-Folder: \\\\Phillip_Allen_Dec2000\\\\Notes Folders\\\\\\'sent mail\\nX-Origin: Allen-P\\nX-FileName: pallen.nsf\\n\\nGreg,\\n\\n How about either next Tuesday or Thursday?\\n\\nPhillip\"\\n\"allen-p/_sent_mail/1003.\",\"Message-ID: <16254169.1075863688286.JavaMail.evans@thyme>\\nDate: Tue, 22 Aug 2000 07:44:00 -0700 (PDT)\\nFrom: phillip.allen@enron.com\\nTo: david.l.johnson@enron.com, john.shafer@enron.com\\nSubject: \\nMime-Version: 1.0\\nContent-Type: text/plain; charset=us-ascii\\nContent-Transfer-Encoding: 7bit\\nX-From: Phillip K Allen\\nX-To: david.l.johnson@enron.com, John Shafer\\nX-cc: \\nX-bcc: \\nX-Folder: \\\\Phillip_Allen_Dec2000\\\\Notes Folders\\\\\\'sent mail\\nX-Origin: Allen-P\\nX-FileName: pallen.nsf\\n\\nPlease cc the following distribution list with updates:\\n\\nPhillip Allen (pallen@enron.com)\\nMike Grigsby (mike.grigsby@enron.com)\\nKeith Holst (kholst@enron.com)\\nMonique Sanchez\\nFrank Ermis\\nJohn Lavorato\\n\\n\\nThank you for your help\\n\\nPhillip Allen\\n\"\\n\"allen-p/_sent_mail/1004.\",\"Message-ID: <17189699.1075863688308.JavaMail.evans@thyme>\\nDate: Fri, 14 Jul 2000 06:59:00 -0700 (PDT)\\nFrom: phillip.allen@enron.com\\nTo: joyce.teixeira@enron.com\\nSubject: Re: PRC review - phone calls\\nMime-Version: 1.0\\nContent-Type: text/plain; charset=us-ascii\\nContent-Transfer-Encoding: 7bit\\nX-From: Phillip K Allen\\nX-To: Joyce Teixeira\\nX-cc: \\nX-bcc: \\nX-Folder: \\\\Phillip_Allen_Dec2000\\\\Notes Folders\\\\\\'sent mail\\nX-Origin: Allen-P\\nX-FileName: pallen.nsf\\n\\nany morning between 10 and 11:30\"\\n\"allen-p/_sent_mail/101.\",\"Message-ID: <20641191.1075855687472.JavaMail.evans@thyme>\\nDate: Tue, 17 Oct 2000 02:26:00 -0700 (PDT)\\nFrom: phillip.allen@enron.com\\nTo: mark.scott@enron.com\\nSubject: Re: High Speed Internet Access\\nMime-Version: 1.0\\nContent-Type: text/plain; charset=us-ascii\\nContent-Transfer-Encoding: 7bit\\nX-From: Phillip K Allen\\nX-To: Mark Scott\\nX-cc: \\nX-bcc: \\nX-Folder: \\\\Phillip_Allen_Dec2000\\\\Notes Folders\\\\\\'sent mail\\nX-Origin: Allen-P\\nX-FileName: pallen.nsf\\n\\n1. login:  pallen pw: ke9davis\\n\\n I don\\'t think these are required by the ISP \\n\\n  2.  static IP address\\n\\n IP: 64.216.90.105\\n Sub: 255.255.255.248\\n gate: 64.216.90.110\\n DNS: 151.164.1.8\\n\\n  3.  Company: 0413\\n        RC:  105891\"\\n\"allen-p/_sent_mail/102.\",\"Message-ID: <30795301.1075855687494.JavaMail.evans@thyme>\\nDate: Mon, 16 Oct 2000 06:44:00 -0700 (PDT)\\nFrom: phillip.allen@enron.com\\nTo: zimam@enron.com\\nSubject: FW: fixed forward or other Collar floor gas price terms\\nMime-Version: 1.0\\nContent-Type: text/plain; charset=us-ascii\\nContent-Transfer-Encoding: 7bit\\nX-From: Phillip K Allen\\nX-To: zimam@enron.com\\nX-cc: \\nX-bcc: \\nX-Folder: \\\\Phillip_Allen_Dec2000\\\\Notes Folders\\\\\\'sent mail\\nX-Origin: Allen-P\\nX-FileName: pallen.nsf\\n\\n---------------------- Forwarded by Phillip K Allen/HOU/ECT on 10/16/2000 \\n01:42 PM ---------------------------\\n\\n\\n\"\"Buckner, Buck\"\" <buck.buckner@honeywell.com> on 10/12/2000 01:12:21 PM\\nTo: \"\"\\'Pallen@Enron.com\\'\"\" <Pallen@Enron.com>\\ncc:  \\nSubject: FW: fixed forward or other Collar floor gas price terms\\n\\n\\nPhillip,\\n\\n> As discussed  during our phone conversation, In a Parallon 75 microturbine\\n> power generation deal for a national accounts customer, I am developing a\\n> proposal to sell power to customer at fixed or collar/floor price. To do\\n> so I need a corresponding term gas price for same. Microturbine is an\\n> onsite generation product developed by Honeywell to generate electricity\\n> on customer site (degen). using natural gas. In doing so,  I need your\\n> best fixed price forward gas price deal for 1, 3, 5, 7 and 10 years for\\n> annual/seasonal supply to microturbines to generate fixed kWh for\\n> customer. We have the opportunity to sell customer kWh \\'s using\\n> microturbine or sell them turbines themselves. kWh deal must have limited/\\n> no risk forward gas price to make deal work. Therein comes Sempra energy\\n> gas trading, truly you.\\n>\\n> We are proposing installing 180 - 240 units across a large number of\\n> stores (60-100) in San Diego.\\n> Store number varies because of installation hurdles face at small percent.\\n>\\n> For 6-8 hours a day  Microturbine run time:\\n> Gas requirement for 180 microturbines 227 - 302 MMcf per year\\n> Gas requirement for 240 microturbines 302 - 403 MMcf per year\\n>\\n> Gas will likely be consumed from May through September, during peak\\n> electric period.\\n> Gas price required: Burnertip price behind (LDC) San Diego Gas & Electric\\n> Need detail breakout of commodity and transport cost (firm or\\n> interruptible).\\n>\\n> Should you have additional questions, give me a call.\\n> Let me assure you, this is real deal!!\\n>\\n> Buck Buckner, P.E., MBA\\n> Manager, Business Development and Planning\\n> Big Box Retail Sales\\n> Honeywell Power Systems, Inc.\\n> 8725 Pan American Frwy\\n> Albuquerque, NM 87113\\n> 505-798-6424\\n> 505-798-6050x\\n> 505-220-4129\\n> 888/501-3145\\n> \\n\"\\n\"allen-p/_sent_mail/103.\",\"Message-ID: <33076797.1075855687515.JavaMail.evans@thyme>\\nDate: Mon, 16 Oct 2000 06:42:00 -0700 (PDT)\\nFrom: phillip.allen@enron.com\\nTo: buck.buckner@honeywell.com\\nSubject: Re: FW: fixed forward or other Collar floor gas price terms\\nMime-Version: 1.0\\nContent-Type: text/plain; charset=us-ascii\\nContent-Transfer-Encoding: 7bit\\nX-From: Phillip K Allen\\nX-To: \"\"Buckner, Buck\"\" <buck.buckner@honeywell.com> @ ENRON\\nX-cc: \\nX-bcc: \\nX-Folder: \\\\Phillip_Allen_Dec2000\\\\Notes Folders\\\\\\'sent mail\\nX-Origin: Allen-P\\nX-FileName: pallen.nsf\\n\\nMr. Buckner,\\n\\n For delivered gas behind San Diego, Enron Energy Services is the appropriate \\nEnron entity.  I have forwarded your request to Zarin Imam at EES.  Her phone \\nnumber is 713-853-7107.  \\n\\nPhillip Allen\"\\n\"allen-p/_sent_mail/104.\",\"Message-ID: <25459584.1075855687536.JavaMail.evans@thyme>\\nDate: Fri, 13 Oct 2000 06:45:00 -0700 (PDT)\\nFrom: phillip.allen@enron.com\\nTo: stagecoachmama@hotmail.com\\nSubject: \\nMime-Version: 1.0\\nContent-Type: text/plain; charset=us-ascii\\nContent-Transfer-Encoding: 7bit\\nX-From: Phillip K Allen\\nX-To: stagecoachmama@hotmail.com\\nX-cc: \\nX-bcc: \\nX-Folder: \\\\Phillip_Allen_Dec2000\\\\Notes Folders\\\\\\'sent mail\\nX-Origin: Allen-P\\nX-FileName: pallen.nsf\\n\\nLucy,\\n\\n Here are the rentrolls:\\n\\n\\n\\n Open them and save in the rentroll folder.  Follow these steps so you don\\'t \\nmisplace these files.\\n\\n 1.  Click on Save As\\n 2.  Click on the drop down triangle under Save in:\\n 3.  Click on the  (C): drive\\n 4.  Click on the appropriate folder\\n 5.  Click on Save:\\n\\nPhillip\"\\n\"allen-p/_sent_mail/105.\",\"Message-ID: <13116875.1075855687561.JavaMail.evans@thyme>\\nDate: Mon, 9 Oct 2000 07:16:00 -0700 (PDT)\\nFrom: phillip.allen@enron.com\\nTo: keith.holst@enron.com\\nSubject: Consolidated positions: Issues & To Do list\\nMime-Version: 1.0\\nContent-Type: text/plain; charset=us-ascii\\nContent-Transfer-Encoding: 7bit\\nX-From: Phillip K Allen\\nX-To: Keith Holst\\nX-cc: \\nX-bcc: \\nX-Folder: \\\\Phillip_Allen_Dec2000\\\\Notes Folders\\\\\\'sent mail\\nX-Origin: Allen-P\\nX-FileName: pallen.nsf\\n\\n---------------------- Forwarded by Phillip K Allen/HOU/ECT on 10/09/2000 \\n02:16 PM ---------------------------\\n\\n\\nRichard Burchfield\\n10/06/2000 06:59 AM\\nTo: Phillip K Allen/HOU/ECT@ECT\\ncc: Beth Perlman/HOU/ECT@ECT \\nSubject: Consolidated positions: Issues & To Do list\\n\\nPhillip,\\n Below is the issues & to do list as we go forward with documenting the \\nrequirements for consolidated physical/financial positions and transport \\ntrade capture. What we need to focus on is the first bullet in Allan\\'s list; \\nthe need for a single set of requirements. Although the meeting with Keith, \\non Wednesday,  was informative the solution of creating a infinitely dynamic \\nconsolidated position screen, will be extremely difficult and time \\nconsuming.  Throughout the meeting on Wednesday, Keith alluded to the \\ninability to get consensus amongst the traders on the presentation of the \\nconsolidated position, so the solution was to make it so that a trader can \\narrange the position screen to their liking (much like Excel). What needs to \\nhappen on Monday from 3 - 5 is a effort to design a desired layout for the \\nconsolidated position screen, this is critical. This does not exclude \\nbuilding a capability to create a more flexible position presentation for the \\nfuture, but in order to create a plan that can be measured we need firm \\nrequirements. Also, to reiterate that the goals of this project is a project \\nplan on consolidate physical/financial positions and transport trade capture. \\nThe other issues that have been raised will be capture as projects on to \\nthemselves, and will need to be prioritised as efforts outside of this \\nproject.\\n\\nI have been involved in most of the meetings and the discussions have been \\ngood. I believe there has been good communication between the teams, but now \\nwe need to have focus on the objectives we set out to solve.\\n\\nRichard  \\n---------------------- Forwarded by Richard Burchfield/HOU/ECT on 10/06/2000 \\n08:34 AM ---------------------------\\n\\n\\nAllan Severude\\n10/05/2000 06:03 PM\\nTo: Richard Burchfield/HOU/ECT@ECT\\ncc: Peggy Alix/HOU/ECT@ECT, Russ Severson/HOU/ECT@ECT, Scott \\nMills/HOU/ECT@ECT, Kenny Ha/HOU/ECT@ECT \\nSubject: Consolidated positions: Issues & To Do list\\n\\n\\nFrom our initial set of meetings with the traders regarding consolidated \\npositions, I think we still have the following issues:\\nWe don\\'t have a single point of contact from the trading group.  We\\'ve had \\nthree meetings which brought out very different issues from different \\ntraders.  We really need a single point of contact to help drive the trader \\nrequirements and help come to a consensus regarding the requirements.\\nWe\\'re getting hit with a lot of different requests, many of which appear to \\nbe outside the scope of position consolidation.\\n\\nThings left to do:\\nI think it may be useful to try to formulate a high level project goal to \\nmake it as clear as possible what we\\'re trying to accomplish with this \\nproject.  It\\'ll help determine which requests fall under the project scope.\\nGo through the list of requests to determine which are in scope for this \\nproject and which fall out of scope.\\nFor those in scope, work to define relative importance (priority) of each and \\nwork with traders to define the exact requirements of each.\\nDefine the desired lay out of the position manager screen: main view and all \\ndrill downs.\\nUse the above to formulate a project plan.\\n\\nThings requested thus far (no particular order):\\nInclusion of Sitara physical deals into the TDS position manager and deal \\nticker.\\nCustomized rows and columns in the position manager (ad hoc rows/columns that \\nadd up existing position manager rows/columns).\\nNew drill down in the position manager to break out positions by: physical, \\ntransport, swaps, options, ...\\nAddition of a curve tab to the position manager to show the real-time values \\nof all curves on which the desk has a position.\\nAbility to split the current position grid to allow daily positions to be \\nshown directly above monthly positions.  Each grouped column in the top grid \\nwould be tied to a grouped column in the bottom grid.\\nAbility to properly show curve shift for float-for-float deals; determine the \\nappropriate positions to show for each:\\nGas Daily for monthly index,\\nPhysical gas for Nymex,\\nPhysical gas for Inside Ferc,\\nPhysical gas for Mid market.\\nAbility for TDS to pull valuation results based on a TDS flag instead of \\nusing official valuations.\\nPosition and P&L aggregation across all gas desks.\\nAbility to include the Gas Price book into TDS:\\nInclusion of spread options in our systems.  Ability to handle volatility \\nskew and correlations.\\nAbility to revalue all options incrementally throughout the trading day.  \\nApproximate delta changes between valuations using instantaneous gamma or a \\ngamma grid.\\nValuation of Gas Daily options.\\nA new position screen for options (months x strike x delta).  TBD.\\nInclusion of positions for exotic options currently managed in spreadsheets.\\nAbility to isolate the position change due to changed deals in the position \\nmanager.\\nAbility to view change deal P&L in the TDS deal ticker.  Show new deal terms, \\nprior deal terms, and net P&L affect of the change.\\nEliminate change deals with no economic impact from the TDS deal ticker.\\nPosition drill down in the position manager to isolate the impact of \\nindividual deals on the position total in a grid cell.\\nBenchmark positions in TDS.\\nDeployment of TDS in Canada. Currency and volume uom conversions. Implicit \\nand explicit position break out issues.\\n\\n-- Allan.\\n\\nPS: Colleen is setting up a meeting tomorrow to discuss the direction for \\ntransport.  Hopefully we\\'ll know much better where that part stands at that \\npoint.\\n\\n\\n\\n\\n\"\\n\"allen-p/_sent_mail/106.\",\"Message-ID: <2707340.1075855687584.JavaMail.evans@thyme>\\nDate: Mon, 9 Oct 2000 07:00:00 -0700 (PDT)\\nFrom: phillip.allen@enron.com\\nTo: keith.holst@enron.com\\nSubject: Consolidated positions: Issues & To Do list\\nMime-Version: 1.0\\nContent-Type: text/plain; charset=us-ascii\\nContent-Transfer-Encoding: 7bit\\nX-From: Phillip K Allen\\nX-To: Keith Holst\\nX-cc: \\nX-bcc: \\nX-Folder: \\\\Phillip_Allen_Dec2000\\\\Notes Folders\\\\\\'sent mail\\nX-Origin: Allen-P\\nX-FileName: pallen.nsf\\n\\n---------------------- Forwarded by Phillip K Allen/HOU/ECT on 10/09/2000 \\n02:00 PM ---------------------------\\n\\n\\nRichard Burchfield\\n10/06/2000 06:59 AM\\nTo: Phillip K Allen/HOU/ECT@ECT\\ncc: Beth Perlman/HOU/ECT@ECT \\nSubject: Consolidated positions: Issues & To Do list\\n\\nPhillip,\\n Below is the issues & to do list as we go forward with documenting the \\nrequirements for consolidated physical/financial positions and transport \\ntrade capture. What we need to focus on is the first bullet in Allan\\'s list; \\nthe need for a single set of requirements. Although the meeting with Keith, \\non Wednesday,  was informative the solution of creating a infinitely dynamic \\nconsolidated position screen, will be extremely difficult and time \\nconsuming.  Throughout the meeting on Wednesday, Keith alluded to the \\ninability to get consensus amongst the traders on the presentation of the \\nconsolidated position, so the solution was to make it so that a trader can \\narrange the position screen to their liking (much like Excel). What needs to \\nhappen on Monday from 3 - 5 is a effort to design a desired layout for the \\nconsolidated position screen, this is critical. This does not exclude \\nbuilding a capability to create a more flexible position presentation for the \\nfuture, but in order to create a plan that can be measured we need firm \\nrequirements. Also, to reiterate that the goals of this project is a project \\nplan on consolidate physical/financial positions and transport trade capture. \\nThe other issues that have been raised will be capture as projects on to \\nthemselves, and will need to be prioritised as efforts outside of this \\nproject.\\n\\nI have been involved in most of the meetings and the discussions have been \\ngood. I believe there has been good communication between the teams, but now \\nwe need to have focus on the objectives we set out to solve.\\n\\nRichard  \\n---------------------- Forwarded by Richard Burchfield/HOU/ECT on 10/06/2000 \\n08:34 AM ---------------------------\\n\\n\\nAllan Severude\\n10/05/2000 06:03 PM\\nTo: Richard Burchfield/HOU/ECT@ECT\\ncc: Peggy Alix/HOU/ECT@ECT, Russ Severson/HOU/ECT@ECT, Scott \\nMills/HOU/ECT@ECT, Kenny Ha/HOU/ECT@ECT \\nSubject: Consolidated positions: Issues & To Do list\\n\\n\\nFrom our initial set of meetings with the traders regarding consolidated \\npositions, I think we still have the following issues:\\nWe don\\'t have a single point of contact from the trading group.  We\\'ve had \\nthree meetings which brought out very different issues from different \\ntraders.  We really need a single point of contact to help drive the trader \\nrequirements and help come to a consensus regarding the requirements.\\nWe\\'re getting hit with a lot of different requests, many of which appear to \\nbe outside the scope of position consolidation.\\n\\nThings left to do:\\nI think it may be useful to try to formulate a high level project goal to \\nmake it as clear as possible what we\\'re trying to accomplish with this \\nproject.  It\\'ll help determine which requests fall under the project scope.\\nGo through the list of requests to determine which are in scope for this \\nproject and which fall out of scope.\\nFor those in scope, work to define relative importance (priority) of each and \\nwork with traders to define the exact requirements of each.\\nDefine the desired lay out of the position manager screen: main view and all \\ndrill downs.\\nUse the above to formulate a project plan.\\n\\nThings requested thus far (no particular order):\\nInclusion of Sitara physical deals into the TDS position manager and deal \\nticker.\\nCustomized rows and columns in the position manager (ad hoc rows/columns that \\nadd up existing position manager rows/columns).\\nNew drill down in the position manager to break out positions by: physical, \\ntransport, swaps, options, ...\\nAddition of a curve tab to the position manager to show the real-time values \\nof all curves on which the desk has a position.\\nAbility to split the current position grid to allow daily positions to be \\nshown directly above monthly positions.  Each grouped column in the top grid \\nwould be tied to a grouped column in the bottom grid.\\nAbility to properly show curve shift for float-for-float deals; determine the \\nappropriate positions to show for each:\\nGas Daily for monthly index,\\nPhysical gas for Nymex,\\nPhysical gas for Inside Ferc,\\nPhysical gas for Mid market.\\nAbility for TDS to pull valuation results based on a TDS flag instead of \\nusing official valuations.\\nPosition and P&L aggregation across all gas desks.\\nAbility to include the Gas Price book into TDS:\\nInclusion of spread options in our systems.  Ability to handle volatility \\nskew and correlations.\\nAbility to revalue all options incrementally throughout the trading day.  \\nApproximate delta changes between valuations using instantaneous gamma or a \\ngamma grid.\\nValuation of Gas Daily options.\\nA new position screen for options (months x strike x delta).  TBD.\\nInclusion of positions for exotic options currently managed in spreadsheets.\\nAbility to isolate the position change due to changed deals in the position \\nmanager.\\nAbility to view change deal P&L in the TDS deal ticker.  Show new deal terms, \\nprior deal terms, and net P&L affect of the change.\\nEliminate change deals with no economic impact from the TDS deal ticker.\\nPosition drill down in the position manager to isolate the impact of \\nindividual deals on the position total in a grid cell.\\nBenchmark positions in TDS.\\nDeployment of TDS in Canada. Currency and volume uom conversions. Implicit \\nand explicit position break out issues.\\n\\n-- Allan.\\n\\nPS: Colleen is setting up a meeting tomorrow to discuss the direction for \\ntransport.  Hopefully we\\'ll know much better where that part stands at that \\npoint.\\n\\n\\n\\n\\n\"\\n\"allen-p/_sent_mail/107.\",\"Message-ID: <2465689.1075855687605.JavaMail.evans@thyme>\\nDate: Thu, 5 Oct 2000 06:26:00 -0700 (PDT)\\nFrom: phillip.allen@enron.com\\nTo: david.delainey@enron.com\\nSubject: \\nMime-Version: 1.0\\nContent-Type: text/plain; charset=us-ascii\\nContent-Transfer-Encoding: 7bit\\nX-From: Phillip K Allen\\nX-To: David W Delainey\\nX-cc: \\nX-bcc: \\nX-Folder: \\\\Phillip_Allen_Dec2000\\\\Notes Folders\\\\\\'sent mail\\nX-Origin: Allen-P\\nX-FileName: pallen.nsf\\n\\nDave, \\n\\n Here are the names of the west desk members by category.  The origination \\nside is very sparse.  \\n\\n\\n\\n\\n\\nPhillip\\n\"\\n\"allen-p/_sent_mail/108.\",\"Message-ID: <1115198.1075855687626.JavaMail.evans@thyme>\\nDate: Thu, 5 Oct 2000 05:55:00 -0700 (PDT)\\nFrom: phillip.allen@enron.com\\nTo: paula.harris@enron.com\\nSubject: Re: 2001 Margin Plan\\nMime-Version: 1.0\\nContent-Type: text/plain; charset=us-ascii\\nContent-Transfer-Encoding: 7bit\\nX-From: Phillip K Allen\\nX-To: Paula Harris\\nX-cc: \\nX-bcc: \\nX-Folder: \\\\Phillip_Allen_Dec2000\\\\Notes Folders\\\\\\'sent mail\\nX-Origin: Allen-P\\nX-FileName: pallen.nsf\\n\\nPaula,\\n\\n 35 million is fine\\n\\nPhillip\"\\n\"allen-p/_sent_mail/109.\",\"Message-ID: <19773657.1075855687649.JavaMail.evans@thyme>\\nDate: Wed, 4 Oct 2000 09:23:00 -0700 (PDT)\\nFrom: phillip.allen@enron.com\\nTo: ina.rangel@enron.com\\nSubject: Var, Reporting and Resources Meeting\\nMime-Version: 1.0\\nContent-Type: text/plain; charset=us-ascii\\nContent-Transfer-Encoding: 7bit\\nX-From: Phillip K Allen\\nX-To: Ina Rangel\\nX-cc: \\nX-bcc: \\nX-Folder: \\\\Phillip_Allen_Dec2000\\\\Notes Folders\\\\\\'sent mail\\nX-Origin: Allen-P\\nX-FileName: pallen.nsf\\n\\n---------------------- Forwarded by Phillip K Allen/HOU/ECT on 10/04/2000 \\n04:23 PM ---------------------------\\n   \\n\\tEnron North America Corp.\\n\\t\\n\\tFrom:  Airam Arteaga                           10/04/2000 12:23 PM\\n\\t\\n\\nTo: Phillip \n\n*** WARNING: max output size exceeded, skipping output. ***\n\ne, which I would\\nestimate as $10,000 per lot for a loan value of $7,000 per lot.  Then the\\nloan value for each improved lot would be $15,000 per lot.  This would give\\nyou a total loan of $992,000, total cost of $1,232,645 for equity required\\nof $241,000.  This was not presented in the initial analysis as the phasing\\nis depended on a more careful assessment by the Civil Engineer as the\\nseparate phases must each be able to stand on its own from a utility\\nstandpoint.\\n\\nCONSTRUCTION LOANS\\nThere are three types of  construction loans.  First, is a speculative\\n(spec) loan that is taken out prior to any pre-sales activity.  Second,  is\\na construction loan for a pre-sold unit, but the loan remains in the\\nbuilder/developers name.  Third, is a pre-sold unit with the construction\\nloan in the name of the buyer.  We expect to have up to 8 spec loans to\\nstart the project and expect all other loans to be pre-sold units with loans\\nin the name of the builder/developer.  We do not expect to have any\\nconstruction loans in the name of the buyers, as such loans are too\\ndifficult to manage and please new buyers unfamiliar with the process.\\n\\nSpec loans will be for 70% to 75% of value and construction loans for\\npre-sold units, if the construction loan is from the mortgage lender,  will\\nbe from 80% to 95% of value.\\n\\nDISBURSEMENTS\\nDisbursements will be handled by the General Partner to cover current and\\nnear term third party costs, then to necessary reserves, then to priority\\npayments and then to the partners per the agreement.  The General Partner\\nwill contract with Creekside Builders, LLC to construct the units and the\\nfee to CB will include a construction management and overhead fee equal to\\n15% of the direct hard cost excluding land, financing and sales costs.\\nThese fees are the only monies to Creekside, Larry Lewter or myself prior to\\ncalculation of profit, except for a) direct reimbursement for partnership\\nexpenses and b) direct payment to CB for any subcontractor costs that it has\\nto perform.  For example, if CB cannot find a good trim carpenter sub, or\\ncannot find enough trim carpenters, etc., and it decides to undertake this\\nfunction, it will charge the partnership the same fee it was able to obtain\\nfrom third parties and will disclose those cases to the partnership.\\nFinally, CB will receive a fee for the use of any of its equipment if it is\\nused in lieu of leasing equipment from others.  At present CB does not own\\nany significant equipment, but it is considering the purchase of a sky track\\nto facilitate and speed up framing, cornice, roofing and drywall spreading.\\n\\nREPORTING\\nWe are more than willing to provide reports to track expenses vs. plan.\\nWhat did you have in mind?  I would like to use some form of internet based\\nreporting.\\n\\nBOOKKEEPING\\nI am not sure what you are referring to by the question, \"\"Bookkeeping\\nprocedures to record actual expenses?\"\"  Please expand.\\n\\nINVESTOR INPUT\\nWe are glad to have the investor\\'s input on design and materials.  As always\\nthe question will be who has final say if there is disagreement, but in my\\nexperience I have always been able to reach consensus. As you, and I presume\\nKeith, want to be involved to learn as much as possible we would make every\\neffort to be accommodating.\\n\\nCREEKSIDE PROCEEDURES\\nCB procedures for dealing with subs, vendors and professionals is not as\\nformal as your question indicates.  In the EXTREMELY tight labor market\\nobtaining 3 bids for each labor trade is not feasible.  For the professional\\nsubs we use those with whom we have developed a previous rapport.  Finally,\\nfor vendors they are constantly shopped.\\n\\nPRE-SELECTED PROFESSIONALS, SUBS AND VENDORS\\nYes there are many different subs that have been identified and I can\\nprovide these if you are interested.\\n\\nI know I have not answered everything, but this is a starting point.  Call\\nwhen you have reviewed and we can discuss further.\\n\\nSincerely,\\n\\nGeorge Richards\\nPresident, Creekside Builders, LLC\\n\\n\\n\\n\\n - winmail.dat\\n\"\\n\"allen-p/_sent_mail/118.\",\"Message-ID: <719350.1075855687850.JavaMail.evans@thyme>\\nDate: Tue, 26 Sep 2000 09:26:00 -0700 (PDT)\\nFrom: phillip.allen@enron.com\\nTo: pallen70@hotmail.com\\nSubject: Investment Structure\\nMime-Version: 1.0\\nContent-Type: text/plain; charset=us-ascii\\nContent-Transfer-Encoding: 7bit\\nX-From: Phillip K Allen\\nX-To: pallen70@hotmail.com\\nX-cc: \\nX-bcc: \\nX-Folder: \\\\Phillip_Allen_Dec2000\\\\Notes Folders\\\\\\'sent mail\\nX-Origin: Allen-P\\nX-FileName: pallen.nsf\\n\\n---------------------- Forwarded by Phillip K Allen/HOU/ECT on 09/26/2000 \\n04:26 PM ---------------------------\\n\\n\\n\"\"George Richards\"\" <cbpres@austin.rr.com> on 09/26/2000 01:18:45 PM\\nPlease respond to <cbpres@austin.rr.com>\\nTo: \"\"Phillip Allen\"\" <pallen@enron.com>\\ncc: \"\"Larry Lewter\"\" <retwell@mail.sanmarcos.net>, \"\"Claudia L. Crocker\"\" \\n<clclegal2@aol.com> \\nSubject: Investment Structure\\n\\n\\nSTRUCTURE:\\nTypically the structure is a limited partnership with a corporate (or LLC)\\ngeneral partner.  The General Partner owns 1% of the project and carries the\\nliability of construction.\\n\\nLAND OWNERSHIP & LOANS\\nThe property would be purchased in the name of the limited partnership and\\nany land loans, land improvements loans and construction loans would be in\\nthe name of the limited partnership.  Each of the individual investors and\\nall of the principals in Creekside would also personally guarantee the\\nloans.  If the investor(s) do not sign on the loans, this generally means\\nthat a larger amount of cash is required and the investor\\'s share of profits\\nis reduced.\\n\\nAll loans for residential construction, that are intended for re-sale, are\\nfull recourse loans.  If we are pursuing multifamily rental developments,\\nthe construction loans are still full recourse but the mortgage can often be\\nnon-recourse.\\n\\nUSE OF INITIAL INVESTMENT\\nThe initial investment is used for land deposit, engineering &\\narchitectural design, soils tests, surveys, filing fees, legal fees for\\norganization and condominium association formation,  and appraisals.  Unlike\\nmany real estate investment programs, none of the funds are used for fees to\\nCreekside Builders, LLC.  These professional expenses will be incurred over\\nthe estimated 6 month design and approval period.\\n\\nEARLY LAND COSTS\\nThe $4,000 per month costs listed in the cash flow as part of land cost\\nrepresent the extension fees due to the seller for up to 4 months of\\nextensions on closing.  As an alternative, we can close into a land loan at\\nprobably 70% of appraised value.  With a land value equal to the purchase\\nprice of $680,000 this would mean a land loan of $476,000 with estimated\\nmonthly interest payments of $3,966, given a 10% annual interest rate, plus\\napproximately 1.25% of the loan amount for closing costs and loan fees.\\n\\nEQUITY AT IMPROVEMENT LOAN\\nOnce the site plan is approved by the City of Austin, the City will require\\nthe development entity to post funds for fiscal improvements, referred to as\\nthe \"\"fiscals\"\".  This cost represents a bond for the completion of\\nimprovements that COA considers vital and these funds are released once the\\nimprovements have been completed and accepted by COA.  This release will be\\nfor 90% of the cost with the remaining 10% released one year after\\ncompletion.  Releases can be granted once every 90 days and you should\\nexpect that the release would occur 6 months after the start of lot\\nimprovement construction.  These fiscals are usually posted in cash or an\\nirrevocable letter of credit.  As such, they have to be counted as a\\ndevelopment cost, even though they are not spent.  Because they are not\\nspent no interest is charged on these funds.\\n\\nThe lot improvement loan is typically 75% of the appraised value of a\\nfinished lot, which I suspect will be at least $20,000 and potentially as\\nhigh as $25,000.  This would produce a loan amount of  $15,000 on $20,000\\nper lot.  With estimated per lot improvement costs of $9,000, \\'fiscals\\' at\\n$2,000 and the land cost at $8,000 , total improved lot cost is $19,000\\nwhich means $0 to $4,000 per lot in total equity.  The investment prior to\\nobtaining the improvement loan would count towards any equity requirement\\nprovided it was for direct costs.  Thus, the additional equity for the\\nimprovement loan would be $0-$184,000.   Even if the maximum loan would\\ncover all costs, it is unlikely the bank would allow reimbursement of funds\\nspent. The higher estimates of equity investments are shown in the\\npreliminary proforma to be on the safe side.  The engineer is preparing a\\ntentative site layout with an initial evaluation of the phasing, which can\\nsignificantly reduce the cash equity requirement.\\n\\nPhasing works as follows.  If the first phase was say 40 units, the total\\nlot improvement cost might average $31,000 per lot.   Of this, probably\\n$13,000 would be for improvements and $19,000 for the land cost.  The\\nimprovements are higher to cover large one time up front costs for design\\ncosts, the entry road, water treatment costs, perimeter fencing and\\nlandscaping, and so on, as well as for 100% of the land.  The land loan for\\nundeveloped lots would be 70% of the appraised raw lot value, which I would\\nestimate as $10,000 per lot for a loan value of $7,000 per lot.  Then the\\nloan value for each improved lot would be $15,000 per lot.  This would give\\nyou a total loan of $992,000, total cost of $1,232,645 for equity required\\nof $241,000.  This was not presented in the initial analysis as the phasing\\nis depended on a more careful assessment by the Civil Engineer as the\\nseparate phases must each be able to stand on its own from a utility\\nstandpoint.\\n\\nCONSTRUCTION LOANS\\nThere are three types of  construction loans.  First, is a speculative\\n(spec) loan that is taken out prior to any pre-sales activity.  Second,  is\\na construction loan for a pre-sold unit, but the loan remains in the\\nbuilder/developers name.  Third, is a pre-sold unit with the construction\\nloan in the name of the buyer.  We expect to have up to 8 spec loans to\\nstart the project and expect all other loans to be pre-sold units with loans\\nin the name of the builder/developer.  We do not expect to have any\\nconstruction loans in the name of the buyers, as such loans are too\\ndifficult to manage and please new buyers unfamiliar with the process.\\n\\nSpec loans will be for 70% to 75% of value and construction loans for\\npre-sold units, if the construction loan is from the mortgage lender,  will\\nbe from 80% to 95% of value.\\n\\nDISBURSEMENTS\\nDisbursements will be handled by the General Partner to cover current and\\nnear term third party costs, then to necessary reserves, then to priority\\npayments and then to the partners per the agreement.  The General Partner\\nwill contract with Creekside Builders, LLC to construct the units and the\\nfee to CB will include a construction management and overhead fee equal to\\n15% of the direct hard cost excluding land, financing and sales costs.\\nThese fees are the only monies to Creekside, Larry Lewter or myself prior to\\ncalculation of profit, except for a) direct reimbursement for partnership\\nexpenses and b) direct payment to CB for any subcontractor costs that it has\\nto perform.  For example, if CB cannot find a good trim carpenter sub, or\\ncannot find enough trim carpenters, etc., and it decides to undertake this\\nfunction, it will charge the partnership the same fee it was able to obtain\\nfrom third parties and will disclose those cases to the partnership.\\nFinally, CB will receive a fee for the use of any of its equipment if it is\\nused in lieu of leasing equipment from others.  At present CB does not own\\nany significant equipment, but it is considering the purchase of a sky track\\nto facilitate and speed up framing, cornice, roofing and drywall spreading.\\n\\nREPORTING\\nWe are more than willing to provide reports to track expenses vs. plan.\\nWhat did you have in mind?  I would like to use some form of internet based\\nreporting.\\n\\nBOOKKEEPING\\nI am not sure what you are referring to by the question, \"\"Bookkeeping\\nprocedures to record actual expenses?\"\"  Please expand.\\n\\nINVESTOR INPUT\\nWe are glad to have the investor\\'s input on design and materials.  As always\\nthe question will be who has final say if there is disagreement, but in my\\nexperience I have always been able to reach consensus. As you, and I presume\\nKeith, want to be involved to learn as much as possible we would make every\\neffort to be accommodating.\\n\\nCREEKSIDE PROCEEDURES\\nCB procedures for dealing with subs, vendors and professionals is not as\\nformal as your question indicates.  In the EXTREMELY tight labor market\\nobtaining 3 bids for each labor trade is not feasible.  For the professional\\nsubs we use those with whom we have developed a previous rapport.  Finally,\\nfor vendors they are constantly shopped.\\n\\nPRE-SELECTED PROFESSIONALS, SUBS AND VENDORS\\nYes there are many different subs that have been identified and I can\\nprovide these if you are interested.\\n\\nI know I have not answered everything, but this is a starting point.  Call\\nwhen you have reviewed and we can discuss further.\\n\\nSincerely,\\n\\nGeorge Richards\\nPresident, Creekside Builders, LLC\\n\\n\\n\\n\\n - winmail.dat\\n\"\\n\"allen-p/_sent_mail/119.\",\"Message-ID: <10523086.1075855687873.JavaMail.evans@thyme>\\nDate: Tue, 26 Sep 2000 07:01:00 -0700 (PDT)\\nFrom: phillip.allen@enron.com\\nTo: ina.rangel@enron.com\\nSubject: \\nMime-Version: 1.0\\nContent-Type: text/plain; charset=us-ascii\\nContent-Transfer-Encoding: 7bit\\nX-From: Phillip K Allen\\nX-To: Ina Rangel\\nX-cc: \\nX-bcc: \\nX-Folder: \\\\Phillip_Allen_Dec2000\\\\Notes Folders\\\\\\'sent mail\\nX-Origin: Allen-P\\nX-FileName: pallen.nsf\\n\\n---------------------- Forwarded by Phillip K Allen/HOU/ECT on 09/26/2000 \\n02:00 PM ---------------------------\\n\\n\\n\\tReschedule\\nChairperson: Richard Burchfield\\nSent by: Cindy Cicchetti\\n\\nStart: 10/03/2000 02:30 PM\\nEnd: 10/03/2000 03:30 PM\\n\\nDescription: Gas Physical/Financail Positions - Room 2537\\n\\n\\n\\nThis meeting repeats   starting on    (if the date occurs on a weekend the \\nmeeting ).\\nMeeting Dates: \\n\\n\\n\\nFletcher J Sturm/HOU/ECT\\nScott Neal/HOU/ECT\\nHunter S Shively/HOU/ECT\\nPhillip K Allen/HOU/ECT\\nAllan Severude/HOU/ECT\\nScott Mills/HOU/ECT\\nRuss Severson/HOU/ECT\\n\\nDetailed description:\\n\\n\\n\\n---------------------- Forwarded by Phillip K Allen/HOU/ECT on 09/26/2000 \\n02:00 PM ---------------------------\\n\\n\\n\\tConfirmation\\nChairperson: Richard Burchfield\\nSent by: Cindy Cicchetti\\n\\nStart: 10/03/2000 02:30 PM\\nEnd: 10/03/2000 03:30 PM\\n\\nDescription: Gas Physical/Financail Positions - Room 2537\\n\\n\\n\\nThis meeting repeats   starting on    (if the date occurs on a weekend the \\nmeeting ).\\nMeeting Dates: \\n\\n\\n\\nFletcher J Sturm/HOU/ECT\\nScott Neal/HOU/ECT\\nHunter S Shively/HOU/ECT\\nPhillip K Allen/HOU/ECT\\nAllan Severude/HOU/ECT\\nScott Mills/HOU/ECT\\nRuss Severson/HOU/ECT\\n\\nDetailed description:\\n\\n\\nStatus update:\\nFletcher J Sturm -> No Response\\nScott Neal -> No Response\\nHunter S Shively -> No Response\\nPhillip K Allen -> No Response\\nAllan Severude -> Accepted\\nScott Mills -> Accepted\\nRuss Severson -> No Response\\n\\n\\n---------------------- Forwarded by Phillip K Allen/HOU/ECT on 09/26/2000 \\n02:00 PM ---------------------------\\n\\n\\n\\tReschedule\\nChairperson: Richard Burchfield\\nSent by: Cindy Cicchetti\\n\\nStart: 09/27/2000 02:00 PM\\nEnd: 09/27/2000 03:00 PM\\n\\nDescription: Gas Trading Vision Meeting - Room EB2601\\n\\n\\n\\nThis meeting repeats   starting on    (if the date occurs on a weekend the \\nmeeting ).\\nMeeting Dates: \\n\\n\\n\\nPhillip K Allen/HOU/ECT@ECT\\nHunter S Shively/HOU/ECT@ECT\\nScott Mills/HOU/ECT@ECT\\nAllan Severude/HOU/ECT@ECT\\nJeffrey C Gossett/HOU/ECT@ECT\\nColleen Sullivan/HOU/ECT@ECT\\nRuss Severson/HOU/ECT@ECT\\nJayant Krishnaswamy/HOU/ECT@ECT\\nRussell Long/HOU/ECT@ECT\\n\\nDetailed description:\\n\\n\\n\\n---------------------- Forwarded by Phillip K Allen/HOU/ECT on 09/26/2000 \\n02:00 PM ---------------------------\\n\\n\\n\\tConfirmation\\nChairperson: Richard Burchfield\\nSent by: Cindy Cicchetti\\n\\nStart: 09/27/2000 02:00 PM\\nEnd: 09/27/2000 03:00 PM\\n\\nDescription: Gas Trading Vision Meeting - Room EB2601\\n\\n\\n\\nThis meeting repeats   starting on    (if the date occurs on a weekend the \\nmeeting ).\\nMeeting Dates: \\n\\n\\n\\nPhillip K Allen/HOU/ECT@ECT\\nHunter S Shively/HOU/ECT@ECT\\nScott Mills/HOU/ECT@ECT\\nAllan Severude/HOU/ECT@ECT\\nJeffrey C Gossett/HOU/ECT@ECT\\nColleen Sullivan/HOU/ECT@ECT\\nRuss Severson/HOU/ECT@ECT\\nJayant Krishnaswamy/HOU/ECT@ECT\\nRussell Long/HOU/ECT@ECT\\n\\nDetailed description:\\n\\n\\nStatus update:\\nPhillip K Allen -> No Response\\nHunter S Shively -> No Response\\nScott Mills -> No Response\\nAllan Severude -> Accepted\\nJeffrey C Gossett -> Accepted\\nColleen Sullivan -> No Response\\nRuss Severson -> No Response\\nJayant Krishnaswamy -> Accepted\\nRussell Long -> Accepted\\n\\n\\n---------------------- Forwarded by Phillip K Allen/HOU/ECT on 09/26/2000 \\n02:00 PM ---------------------------\\n\\n\\n\\tReschedule\\nChairperson: Richard Burchfield\\nSent by: Cindy Cicchetti\\n\\nStart: 09/28/2000 01:00 PM\\nEnd: 09/28/2000 02:00 PM\\n\\nDescription: Gas Physical/Financail Positions - Room 2537\\n\\n\\n\\nThis meeting repeats   starting on    (if the date occurs on a weekend the \\nmeeting ).\\nMeeting Dates: \\n\\n\\n\\nFletcher J Sturm/HOU/ECT\\nScott Neal/HOU/ECT\\nHunter S Shively/HOU/ECT\\nPhillip K Allen/HOU/ECT\\nAllan Severude/HOU/ECT\\nScott Mills/HOU/ECT\\nRuss Severson/HOU/ECT\\n\\nDetailed description:\\n\\n\\n\\n---------------------- Forwarded by Phillip K Allen/HOU/ECT on 09/26/2000 \\n02:00 PM ---------------------------\\n\\n\\n\\tConfirmation\\nChairperson: Richard Burchfield\\nSent by: Cindy Cicchetti\\n\\nStart: 09/28/2000 01:00 PM\\nEnd: 09/28/2000 02:00 PM\\n\\nDescription: Gas Physical/Financail Positions - Room 2537\\n\\n\\n\\nThis meeting repeats   starting on    (if the date occurs on a weekend the \\nmeeting ).\\nMeeting Dates: \\n\\n\\n\\nFletcher J Sturm/HOU/ECT\\nScott Neal/HOU/ECT\\nHunter S Shively/HOU/ECT\\nPhillip K Allen/HOU/ECT\\nAllan Severude/HOU/ECT\\nScott Mills/HOU/ECT\\nRuss Severson/HOU/ECT\\n\\nDetailed description:\\n\\n\\nStatus update:\\nFletcher J Sturm -> No Response\\nScott Neal -> No Response\\nHunter S Shively -> No Response\\nPhillip K Allen -> No Response\\nAllan Severude -> Accepted\\nScott Mills -> Accepted\\nRuss Severson -> Accepted\\n\\n\\n---------------------- Forwarded by Phillip K Allen/HOU/ECT on 09/26/2000 \\n02:00 PM ---------------------------\\n   \\n\\t\\n\\t\\n\\tFrom:  Cindy Cicchetti                           09/26/2000 10:38 AM\\n\\t\\n\\nTo: Phillip K Allen/HOU/ECT@ECT, Hunter S Shively/HOU/ECT@ECT, Scott \\nMills/HOU/ECT@ECT, Allan Severude/HOU/ECT@ECT, Jeffrey C Gossett/HOU/ECT@ECT, \\nColleen Sullivan/HOU/ECT@ECT, Russ Severson/HOU/ECT@ECT, Jayant \\nKrishnaswamy/HOU/ECT@ECT, Russell Long/HOU/ECT@ECT\\ncc:  \\nSubject: Gas Trading Vision mtg.\\n\\nThis meeting has been moved to 4:00 on Wed. in room 2601.  I have sent a \\nconfirmation to each of you via Lotus Notes.  Sorry for all of the changes \\nbut there was a scheduling problem with a couple of people for the original \\ntime slot. \\n\"\\n\"allen-p/_sent_mail/12.\",\"Message-ID: <8572706.1075855378498.JavaMail.evans@thyme>\\nDate: Thu, 3 May 2001 15:57:00 -0700 (PDT)\\nFrom: phillip.allen@enron.com\\nTo: rlehmann@yahoo.com\\nSubject: \\nMime-Version: 1.0\\nContent-Type: text/plain; charset=us-ascii\\nContent-Transfer-Encoding: 7bit\\nX-From: Phillip K Allen\\nX-To: rlehmann <rlehmann@yahoo.com>\\nX-cc: \\nX-bcc: \\nX-Folder: \\\\Phillip_Allen_Jan2002_1\\\\Allen, Phillip K.\\\\\\'Sent Mail\\nX-Origin: Allen-P\\nX-FileName: pallen (Non-Privileged).pst\\n\\nReagan,\\n\\nJust wanted to give you an update.  I have changed the unit mix to include some 1 bedrooms and reduced the number of buildings to 12.  Kipp Flores is working on the construction drawings.  At the same time I am pursuing FHA financing.  Once the construction drawings are complete I will send them to you for a revised bid.  Your original bid was competitive and I am still attracted to your firm because of your strong local presence and contacts.\\n\\nPhillip\"\\n\"allen-p/_sent_mail/120.\",\"Message-ID: <29665600.1075855687895.JavaMail.evans@thyme>\\nDate: Tue, 26 Sep 2000 05:11:00 -0700 (PDT)\\nFrom: phillip.allen@enron.com\\nTo: cindy.cicchetti@enron.com\\nSubject: Re: Gas Trading Vision meeting\\nMime-Version: 1.0\\nContent-Type: text/plain; charset=us-ascii\\nContent-Transfer-Encoding: 7bit\\nX-From: Phillip K Allen\\nX-To: Cindy Cicchetti\\nX-cc: \\nX-bcc: \\nX-Folder: \\\\Phillip_Allen_Dec2000\\\\Notes Folders\\\\\\'sent mail\\nX-Origin: Allen-P\\nX-FileName: pallen.nsf\\n\\nNymex expiration is during this time frame.  Please reschedule.\"\\n\"allen-p/_sent_mail/121.\",\"Message-ID: <4449575.1075855687916.JavaMail.evans@thyme>\\nDate: Tue, 26 Sep 2000 05:08:00 -0700 (PDT)\\nFrom: phillip.allen@enron.com\\nTo: ina.rangel@enron.com\\nSubject: \\nMime-Version: 1.0\\nContent-Type: text/plain; charset=us-ascii\\nContent-Transfer-Encoding: 7bit\\nX-From: Phillip K Allen\\nX-To: Ina Rangel\\nX-cc: \\nX-bcc: \\nX-Folder: \\\\Phillip_Allen_Dec2000\\\\Notes Folders\\\\\\'sent mail\\nX-Origin: Allen-P\\nX-FileName: pallen.nsf\\n\\n---------------------- Forwarded by Phillip K Allen/HOU/ECT on 09/26/2000 \\n12:08 PM ---------------------------\\n\\n\\n\\tInvitation\\nChairperson: Richard Burchfield\\nSent by: Cindy Cicchetti\\n\\nStart: 09/27/2000 11:30 AM\\nEnd: 09/27/2000 12:30 PM\\n\\nDescription: Gas Trading Vision Meeting - Room EB2556\\n\\n\\n\\nThis meeting repeats   starting on    (if the date occurs on a weekend the \\nmeeting ).\\nMeeting Dates: \\n\\n\\n\\nPhillip K Allen/HOU/ECT\\nHunter S Shively/HOU/ECT\\nScott Mills/HOU/ECT\\nAllan Severude/HOU/ECT\\nJeffrey C Gossett/HOU/ECT\\nColleen Sullivan/HOU/ECT\\nRuss Severson/HOU/ECT\\nJayant Krishnaswamy/HOU/ECT\\nRussell Long/HOU/ECT\\n\\nDetailed description:\\n\\n\\n\"\\n\"allen-p/_sent_mail/122.\",\"Message-ID: <24741229.1075855687937.JavaMail.evans@thyme>\\nDate: Tue, 26 Sep 2000 05:07:00 -0700 (PDT)\\nFrom: phillip.allen@enron.com\\nTo: ina.rangel@enron.com\\nSubject: Gas Physical/Financial Position\\nMime-Version: 1.0\\nContent-Type: text/plain; charset=us-ascii\\nContent-Transfer-Encoding: 7bit\\nX-From: Phillip K Allen\\nX-To: Ina Rangel\\nX-cc: \\nX-bcc: \\nX-Folder: \\\\Phillip_Allen_Dec2000\\\\Notes Folders\\\\\\'sent mail\\nX-Origin: Allen-P\\nX-FileName: pallen.nsf\\n\\n---------------------- Forwarded by Phillip K Allen/HOU/ECT on 09/26/2000 \\n12:07 PM ---------------------------\\n   \\n\\t\\n\\t\\n\\tFrom:  Cindy Cicchetti                           09/26/2000 09:23 AM\\n\\t\\n\\nTo: Phillip K Allen/HOU/ECT@ECT, Hunter S Shively/HOU/ECT@ECT, Scott \\nMills/HOU/ECT@ECT, Allan Severude/HOU/ECT@ECT, Russ Severson/HOU/ECT@ECT, \\nFletcher J Sturm/HOU/ECT@ECT, Scott Neal/HOU/ECT@ECT\\ncc:  \\nSubject: Gas Physical/Financial Position\\n\\nI have scheduled and entered on each of your calendars a meeting for the \\nabove referenced topic.  It will take place on Thursday, 9/28 from 3:00 - \\n4:00 in Room EB2537.  \\n\"\\n\"allen-p/_sent_mail/123.\",\"Message-ID: <19330146.1075855687961.JavaMail.evans@thyme>\\nDate: Tue, 26 Sep 2000 04:57:00 -0700 (PDT)\\nFrom: phillip.allen@enron.com\\nTo: jsmith@austintx.com\\nSubject: closing\\nMime-Version: 1.0\\nContent-Type: text/plain; charset=ANSI_X3.4-1968\\nContent-Transfer-Encoding: 7bit\\nX-From: Phillip K Allen\\nX-To: jsmith@austintx.com\\nX-cc: \\nX-bcc: \\nX-Folder: \\\\Phillip_Allen_Dec2000\\\\Notes Folders\\\\\\'sent mail\\nX-Origin: Allen-P\\nX-FileName: pallen.nsf\\n\\n---------------------- Forwarded by Phillip K Allen/HOU/ECT on 09/26/2000 \\n11:57 AM ---------------------------\\n\\n\\n\"\"BS Stone\"\" <bs_stone@yahoo.com> on 09/26/2000 04:47:40 AM\\nTo: \"\"jeff\"\" <jeff@freeyellow.com>\\ncc: \"\"Phillip K Allen\"\" <Phillip.K.Allen@enron.com> \\nSubject: closing\\n\\n\\n\\nJeff, \\n?\\nIs the closing today?? After reviewing the  agreement?I find it isn\\'t binding \\nas far as I can determine.? It is  too vague and it doesn\\'t sound like \\nanything an attorney or title company  would?draft for a real estate \\nclosing--but, of course, I could be  wrong.? \\n?\\nIf this?closing is going to take place without  this agreement then there is \\nno point in me  following up on this?document\\'s validity.? \\n?\\nI will just need to go back to my closing documents  and see what\\'s there and \\nfind out where I am with that and deal with this as  best I can.\\n?\\nI guess I was expecting something that would be an  exhibit to a recordable \\ndocument or something a little more exact, or  rather?sort of a contract.? \\nThis isn\\'t either.? I tried to get a  real estate atty on the phone last \\nnight but he was out of pocket.? I  talked to a crim. atty friend and he said \\nthis is out of his area but doesn\\'t  sound binding to him.? \\n?\\nI will go back to mine and Phillip Allen\\'s  transaction?and take a look at \\nthat but as vague and general as this is I  doubt that my signature? is even \\nneeded to complete this transaction.?  I am in after 12 noon if ther'"
     ]
    }
   ],
   "source": [
    "# read the content of the directory\n",
    "dbutils.fs.head('FileStore/tables/emails/emails.csv')"
   ]
  },
  {
   "cell_type": "code",
   "execution_count": 0,
   "metadata": {
    "application/vnd.databricks.v1+cell": {
     "cellMetadata": {
      "byteLimit": 2048000,
      "rowLimit": 10000
     },
     "inputWidgets": {},
     "nuid": "e0722354-ec2c-465e-abf5-0e1fa4bad7d2",
     "showTitle": false,
     "tableResultSettingsMap": {},
     "title": ""
    }
   },
   "outputs": [],
   "source": [
    "emails_rdd = sc.textFile('FileStore/tables/emails/emails.csv')"
   ]
  },
  {
   "cell_type": "code",
   "execution_count": 0,
   "metadata": {
    "application/vnd.databricks.v1+cell": {
     "cellMetadata": {
      "byteLimit": 2048000,
      "rowLimit": 10000
     },
     "inputWidgets": {},
     "nuid": "ec7392bc-c221-418e-ac08-de1944f0b3b5",
     "showTitle": false,
     "tableResultSettingsMap": {},
     "title": ""
    }
   },
   "outputs": [
    {
     "output_type": "stream",
     "name": "stdout",
     "output_type": "stream",
     "text": [
      "Out[61]: ['\"file\",\"message\"',\n '\"allen-p/_sent_mail/1.\",\"Message-ID: <18782981.1075855378110.JavaMail.evans@thyme>',\n 'Date: Mon, 14 May 2001 16:39:00 -0700 (PDT)',\n 'From: phillip.allen@enron.com',\n 'To: tim.belden@enron.com',\n 'Subject: ',\n 'Mime-Version: 1.0',\n 'Content-Type: text/plain; charset=us-ascii',\n 'Content-Transfer-Encoding: 7bit',\n 'X-From: Phillip K Allen',\n 'X-To: Tim Belden <Tim Belden/Enron@EnronXGate>',\n 'X-cc: ',\n 'X-bcc: ',\n \"X-Folder: \\\\Phillip_Allen_Jan2002_1\\\\Allen, Phillip K.\\\\'Sent Mail\",\n 'X-Origin: Allen-P',\n 'X-FileName: pallen (Non-Privileged).pst',\n '',\n 'Here is our forecast',\n '',\n ' \"',\n '\"allen-p/_sent_mail/10.\",\"Message-ID: <15464986.1075855378456.JavaMail.evans@thyme>',\n 'Date: Fri, 4 May 2001 13:51:00 -0700 (PDT)',\n 'From: phillip.allen@enron.com',\n 'To: john.lavorato@enron.com',\n 'Subject: Re:',\n 'Mime-Version: 1.0',\n 'Content-Type: text/plain; charset=us-ascii',\n 'Content-Transfer-Encoding: 7bit',\n 'X-From: Phillip K Allen',\n 'X-To: John J Lavorato <John J Lavorato/ENRON@enronXgate@ENRON>',\n 'X-cc: ',\n 'X-bcc: ',\n \"X-Folder: \\\\Phillip_Allen_Jan2002_1\\\\Allen, Phillip K.\\\\'Sent Mail\",\n 'X-Origin: Allen-P',\n 'X-FileName: pallen (Non-Privileged).pst',\n '',\n 'Traveling to have a business meeting takes the fun out of the trip.  Especially if you have to prepare a presentation.  I would suggest holding the business plan meetings here then take a trip without any formal business meetings.  I would even try and get some honest opinions on whether a trip is even desired or necessary.',\n '',\n 'As far as the business meetings, I think it would be more productive to try and stimulate discussions across the different groups about what is working and what is not.  Too often the presenter speaks and the others are quiet just waiting for their turn.   The meetings might be better if held in a round table discussion format.  ',\n '',\n \"My suggestion for where to go is Austin.  Play golf and rent a ski boat and jet ski's.  Flying somewhere takes too much time.\",\n '\"',\n '\"allen-p/_sent_mail/100.\",\"Message-ID: <24216240.1075855687451.JavaMail.evans@thyme>',\n 'Date: Wed, 18 Oct 2000 03:00:00 -0700 (PDT)',\n 'From: phillip.allen@enron.com',\n 'To: leah.arsdall@enron.com',\n 'Subject: Re: test',\n 'Mime-Version: 1.0',\n 'Content-Type: text/plain; charset=us-ascii',\n 'Content-Transfer-Encoding: 7bit',\n 'X-From: Phillip K Allen',\n 'X-To: Leah Van Arsdall',\n 'X-cc: ',\n 'X-bcc: ',\n \"X-Folder: \\\\Phillip_Allen_Dec2000\\\\Notes Folders\\\\'sent mail\",\n 'X-Origin: Allen-P',\n 'X-FileName: pallen.nsf',\n '',\n 'test successful.  way to go!!!\"',\n '\"allen-p/_sent_mail/1000.\",\"Message-ID: <13505866.1075863688222.JavaMail.evans@thyme>',\n 'Date: Mon, 23 Oct 2000 06:13:00 -0700 (PDT)',\n 'From: phillip.allen@enron.com',\n 'To: randall.gay@enron.com',\n 'Subject: ',\n 'Mime-Version: 1.0',\n 'Content-Type: text/plain; charset=us-ascii',\n 'Content-Transfer-Encoding: 7bit',\n 'X-From: Phillip K Allen',\n 'X-To: Randall L Gay',\n 'X-cc: ',\n 'X-bcc: ',\n \"X-Folder: \\\\Phillip_Allen_Dec2000\\\\Notes Folders\\\\'sent mail\",\n 'X-Origin: Allen-P',\n 'X-FileName: pallen.nsf',\n '',\n 'Randy,',\n '',\n ' Can you send me a schedule of the salary and level of everyone in the ',\n 'scheduling group.  Plus your thoughts on any changes that need to be made.  ',\n '(Patti S for example)',\n '',\n 'Phillip\"',\n '\"allen-p/_sent_mail/1001.\",\"Message-ID: <30922949.1075863688243.JavaMail.evans@thyme>',\n 'Date: Thu, 31 Aug 2000 05:07:00 -0700 (PDT)',\n 'From: phillip.allen@enron.com',\n 'To: greg.piper@enron.com',\n 'Subject: Re: Hello',\n 'Mime-Version: 1.0',\n 'Content-Type: text/plain; charset=us-ascii',\n 'Content-Transfer-Encoding: 7bit',\n 'X-From: Phillip K Allen',\n 'X-To: Greg Piper',\n 'X-cc: ',\n 'X-bcc: ',\n \"X-Folder: \\\\Phillip_Allen_Dec2000\\\\Notes Folders\\\\'sent mail\",\n 'X-Origin: Allen-P',\n 'X-FileName: pallen.nsf',\n '',\n 'Let\\'s shoot for Tuesday at 11:45.  \"',\n '\"allen-p/_sent_mail/1002.\",\"Message-ID: <30965995.1075863688265.JavaMail.evans@thyme>']"
     ]
    }
   ],
   "source": [
    "emails_rdd.take(100)"
   ]
  },
  {
   "cell_type": "code",
   "execution_count": 0,
   "metadata": {
    "application/vnd.databricks.v1+cell": {
     "cellMetadata": {
      "byteLimit": 2048000,
      "rowLimit": 10000
     },
     "inputWidgets": {},
     "nuid": "c5906706-f281-49f8-98ec-45780128e7dd",
     "showTitle": false,
     "tableResultSettingsMap": {},
     "title": ""
    }
   },
   "outputs": [
    {
     "output_type": "stream",
     "name": "stdout",
     "output_type": "stream",
     "text": [
      "Out[63]: 33834245"
     ]
    }
   ],
   "source": [
    "emails_rdd.count()"
   ]
  },
  {
   "cell_type": "code",
   "execution_count": 0,
   "metadata": {
    "application/vnd.databricks.v1+cell": {
     "cellMetadata": {
      "byteLimit": 2048000,
      "rowLimit": 10000
     },
     "inputWidgets": {},
     "nuid": "04bba867-9a6a-436a-a9b8-22f62b2c99ad",
     "showTitle": false,
     "tableResultSettingsMap": {},
     "title": ""
    }
   },
   "outputs": [
    {
     "output_type": "display_data",
     "data": {
      "text/html": [
       "<style scoped>\n",
       "  .ansiout {\n",
       "    display: block;\n",
       "    unicode-bidi: embed;\n",
       "    white-space: pre-wrap;\n",
       "    word-wrap: break-word;\n",
       "    word-break: break-all;\n",
       "    font-family: \"Menlo\", \"Monaco\", \"Consolas\", \"Ubuntu Mono\", \"Source Code Pro\", monospace;\n",
       "    font-size: 13px;\n",
       "    color: #555;\n",
       "    margin-left: 4px;\n",
       "    line-height: 19px;\n",
       "  }\n",
       "</style>"
      ]
     },
     "metadata": {
      "application/vnd.databricks.v1+output": {
       "arguments": {},
       "data": "",
       "errorSummary": "Command skipped",
       "errorTraceType": "html",
       "metadata": {},
       "type": "ipynbError"
      }
     },
     "output_type": "display_data"
    }
   ],
   "source": [
    "header = emails_rdd.first()  # Extract the header\n",
    "emails_rdd_no_header = emails_rdd.filter(lambda line: line != header)  # Remove the header"
   ]
  },
  {
   "cell_type": "code",
   "execution_count": 0,
   "metadata": {
    "application/vnd.databricks.v1+cell": {
     "cellMetadata": {
      "byteLimit": 2048000,
      "rowLimit": 10000
     },
     "inputWidgets": {},
     "nuid": "01cd3150-a9c3-49d0-bd85-7b2702113296",
     "showTitle": false,
     "tableResultSettingsMap": {},
     "title": ""
    }
   },
   "outputs": [
    {
     "output_type": "display_data",
     "data": {
      "text/html": [
       "<style scoped>\n",
       "  .ansiout {\n",
       "    display: block;\n",
       "    unicode-bidi: embed;\n",
       "    white-space: pre-wrap;\n",
       "    word-wrap: break-word;\n",
       "    word-break: break-all;\n",
       "    font-family: \"Menlo\", \"Monaco\", \"Consolas\", \"Ubuntu Mono\", \"Source Code Pro\", monospace;\n",
       "    font-size: 13px;\n",
       "    color: #555;\n",
       "    margin-left: 4px;\n",
       "    line-height: 19px;\n",
       "  }\n",
       "</style>"
      ]
     },
     "metadata": {
      "application/vnd.databricks.v1+output": {
       "arguments": {},
       "data": "",
       "errorSummary": "Command skipped",
       "errorTraceType": "html",
       "metadata": {},
       "type": "ipynbError"
      }
     },
     "output_type": "display_data"
    }
   ],
   "source": [
    "emails_rdd_no_header.take(10)"
   ]
  },
  {
   "cell_type": "code",
   "execution_count": 0,
   "metadata": {
    "application/vnd.databricks.v1+cell": {
     "cellMetadata": {
      "byteLimit": 2048000,
      "rowLimit": 10000
     },
     "inputWidgets": {},
     "nuid": "1462a3fd-02ad-4818-9037-2ff6c4b2d39e",
     "showTitle": false,
     "tableResultSettingsMap": {},
     "title": ""
    }
   },
   "outputs": [
    {
     "output_type": "display_data",
     "data": {
      "text/html": [
       "<style scoped>\n",
       "  .ansiout {\n",
       "    display: block;\n",
       "    unicode-bidi: embed;\n",
       "    white-space: pre-wrap;\n",
       "    word-wrap: break-word;\n",
       "    word-break: break-all;\n",
       "    font-family: \"Menlo\", \"Monaco\", \"Consolas\", \"Ubuntu Mono\", \"Source Code Pro\", monospace;\n",
       "    font-size: 13px;\n",
       "    color: #555;\n",
       "    margin-left: 4px;\n",
       "    line-height: 19px;\n",
       "  }\n",
       "</style>"
      ]
     },
     "metadata": {
      "application/vnd.databricks.v1+output": {
       "arguments": {},
       "data": "",
       "errorSummary": "Command skipped",
       "errorTraceType": "html",
       "metadata": {},
       "type": "ipynbError"
      }
     },
     "output_type": "display_data"
    }
   ],
   "source": [
    "# Group lines into email records using reduce\n",
    "grouped_emails_rdd = emails_rdd_no_header.glom().map(lambda lines: '\\n'.join(lines)).flatMap(lambda email: email.split('\"\\n\"'))"
   ]
  },
  {
   "cell_type": "code",
   "execution_count": 0,
   "metadata": {
    "application/vnd.databricks.v1+cell": {
     "cellMetadata": {
      "byteLimit": 2048000,
      "rowLimit": 10000
     },
     "inputWidgets": {},
     "nuid": "4a01a80c-5eaa-4290-ba03-c96c5734af0d",
     "showTitle": false,
     "tableResultSettingsMap": {},
     "title": ""
    }
   },
   "outputs": [
    {
     "output_type": "display_data",
     "data": {
      "text/html": [
       "<style scoped>\n",
       "  .ansiout {\n",
       "    display: block;\n",
       "    unicode-bidi: embed;\n",
       "    white-space: pre-wrap;\n",
       "    word-wrap: break-word;\n",
       "    word-break: break-all;\n",
       "    font-family: \"Menlo\", \"Monaco\", \"Consolas\", \"Ubuntu Mono\", \"Source Code Pro\", monospace;\n",
       "    font-size: 13px;\n",
       "    color: #555;\n",
       "    margin-left: 4px;\n",
       "    line-height: 19px;\n",
       "  }\n",
       "</style>"
      ]
     },
     "metadata": {
      "application/vnd.databricks.v1+output": {
       "arguments": {},
       "data": "",
       "errorSummary": "Command skipped",
       "errorTraceType": "html",
       "metadata": {},
       "type": "ipynbError"
      }
     },
     "output_type": "display_data"
    }
   ],
   "source": [
    "# Split each email into file and message columns\n",
    "\"\"\" parsed_emails_rdd = grouped_emails_rdd.map(lambda email: email.split(',', 1)) \"\"\"\n",
    "\n",
    "# Apply the parsing function to each email'\n",
    "\"\"\" parsed_emails_rdd = parsed_emails_rdd.map(lambda x: (x[0], parse_email(x[1]))) \"\"\""
   ]
  },
  {
   "cell_type": "code",
   "execution_count": 0,
   "metadata": {
    "application/vnd.databricks.v1+cell": {
     "cellMetadata": {
      "byteLimit": 2048000,
      "rowLimit": 10000
     },
     "inputWidgets": {},
     "nuid": "4e60289a-4c96-4c12-9a8d-fca0bed339df",
     "showTitle": false,
     "tableResultSettingsMap": {},
     "title": ""
    }
   },
   "outputs": [
    {
     "output_type": "display_data",
     "data": {
      "text/html": [
       "<style scoped>\n",
       "  .ansiout {\n",
       "    display: block;\n",
       "    unicode-bidi: embed;\n",
       "    white-space: pre-wrap;\n",
       "    word-wrap: break-word;\n",
       "    word-break: break-all;\n",
       "    font-family: \"Menlo\", \"Monaco\", \"Consolas\", \"Ubuntu Mono\", \"Source Code Pro\", monospace;\n",
       "    font-size: 13px;\n",
       "    color: #555;\n",
       "    margin-left: 4px;\n",
       "    line-height: 19px;\n",
       "  }\n",
       "</style>"
      ]
     },
     "metadata": {
      "application/vnd.databricks.v1+output": {
       "arguments": {},
       "data": "",
       "errorSummary": "Command skipped",
       "errorTraceType": "html",
       "metadata": {},
       "type": "ipynbError"
      }
     },
     "output_type": "display_data"
    }
   ],
   "source": [
    "parsed_emails_rdd = grouped_emails_rdd.map(lambda email: (email.split(',', 1)[0], email.split(',', 1)[1].strip('\"')))"
   ]
  },
  {
   "cell_type": "code",
   "execution_count": 0,
   "metadata": {
    "application/vnd.databricks.v1+cell": {
     "cellMetadata": {
      "byteLimit": 2048000,
      "rowLimit": 10000
     },
     "inputWidgets": {},
     "nuid": "d0ef68ea-f68d-4050-b6e4-f85b0c541df5",
     "showTitle": false,
     "tableResultSettingsMap": {},
     "title": ""
    }
   },
   "outputs": [
    {
     "output_type": "display_data",
     "data": {
      "text/html": [
       "<style scoped>\n",
       "  .ansiout {\n",
       "    display: block;\n",
       "    unicode-bidi: embed;\n",
       "    white-space: pre-wrap;\n",
       "    word-wrap: break-word;\n",
       "    word-break: break-all;\n",
       "    font-family: \"Menlo\", \"Monaco\", \"Consolas\", \"Ubuntu Mono\", \"Source Code Pro\", monospace;\n",
       "    font-size: 13px;\n",
       "    color: #555;\n",
       "    margin-left: 4px;\n",
       "    line-height: 19px;\n",
       "  }\n",
       "</style>"
      ]
     },
     "metadata": {
      "application/vnd.databricks.v1+output": {
       "arguments": {},
       "data": "",
       "errorSummary": "Command skipped",
       "errorTraceType": "html",
       "metadata": {},
       "type": "ipynbError"
      }
     },
     "output_type": "display_data"
    }
   ],
   "source": [
    "parsed_emails_rdd.take(5)"
   ]
  },
  {
   "cell_type": "code",
   "execution_count": 0,
   "metadata": {
    "application/vnd.databricks.v1+cell": {
     "cellMetadata": {
      "byteLimit": 2048000,
      "rowLimit": 10000
     },
     "inputWidgets": {},
     "nuid": "664a9ea8-1d11-4c79-8d1b-98158d46fa7b",
     "showTitle": false,
     "tableResultSettingsMap": {},
     "title": ""
    }
   },
   "outputs": [
    {
     "output_type": "display_data",
     "data": {
      "text/html": [
       "<style scoped>\n",
       "  .ansiout {\n",
       "    display: block;\n",
       "    unicode-bidi: embed;\n",
       "    white-space: pre-wrap;\n",
       "    word-wrap: break-word;\n",
       "    word-break: break-all;\n",
       "    font-family: \"Menlo\", \"Monaco\", \"Consolas\", \"Ubuntu Mono\", \"Source Code Pro\", monospace;\n",
       "    font-size: 13px;\n",
       "    color: #555;\n",
       "    margin-left: 4px;\n",
       "    line-height: 19px;\n",
       "  }\n",
       "</style>"
      ]
     },
     "metadata": {
      "application/vnd.databricks.v1+output": {
       "arguments": {},
       "data": "",
       "errorSummary": "Command skipped",
       "errorTraceType": "html",
       "metadata": {},
       "type": "ipynbError"
      }
     },
     "output_type": "display_data"
    }
   ],
   "source": [
    "def parse_email(message):\n",
    "    email_fields = {}\n",
    "    lines = message.split('\\n')\n",
    "    in_body = False\n",
    "    body = []\n",
    "    \n",
    "    for line in lines:\n",
    "        stripped_line = line.strip()\n",
    "        if stripped_line.startswith('Message-ID:'):\n",
    "            email_fields['Message-ID'] = stripped_line.split('Message-ID:', 1)[1].strip()\n",
    "        elif stripped_line.startswith('From:'):\n",
    "            email_fields['From'] = stripped_line.split('From:', 1)[1].strip()\n",
    "        elif stripped_line.startswith('To:'):\n",
    "            email_fields['To'] = stripped_line.split('To:', 1)[1].strip()\n",
    "        elif stripped_line.startswith('Subject:'):\n",
    "            email_fields['Subject'] = stripped_line.split('Subject:', 1)[1].strip()\n",
    "        elif stripped_line.startswith('Date:'):\n",
    "            email_fields['Date'] = stripped_line.split('Date:', 1)[1].strip()\n",
    "        elif stripped_line == '':\n",
    "            in_body = True\n",
    "        elif in_body:\n",
    "            body.append(stripped_line)\n",
    "    \n",
    "    email_fields['Content'] = ' '.join(body).strip()\n",
    "    return email_fields"
   ]
  },
  {
   "cell_type": "code",
   "execution_count": 0,
   "metadata": {
    "application/vnd.databricks.v1+cell": {
     "cellMetadata": {
      "byteLimit": 2048000,
      "rowLimit": 10000
     },
     "inputWidgets": {},
     "nuid": "328cf3b9-e203-4e4c-876d-3a2535a8cb09",
     "showTitle": false,
     "tableResultSettingsMap": {},
     "title": ""
    }
   },
   "outputs": [
    {
     "output_type": "display_data",
     "data": {
      "text/html": [
       "<style scoped>\n",
       "  .ansiout {\n",
       "    display: block;\n",
       "    unicode-bidi: embed;\n",
       "    white-space: pre-wrap;\n",
       "    word-wrap: break-word;\n",
       "    word-break: break-all;\n",
       "    font-family: \"Menlo\", \"Monaco\", \"Consolas\", \"Ubuntu Mono\", \"Source Code Pro\", monospace;\n",
       "    font-size: 13px;\n",
       "    color: #555;\n",
       "    margin-left: 4px;\n",
       "    line-height: 19px;\n",
       "  }\n",
       "</style>"
      ]
     },
     "metadata": {
      "application/vnd.databricks.v1+output": {
       "arguments": {},
       "data": "",
       "errorSummary": "Command skipped",
       "errorTraceType": "html",
       "metadata": {},
       "type": "ipynbError"
      }
     },
     "output_type": "display_data"
    }
   ],
   "source": [
    "parsed_emails_rdd.take(5)"
   ]
  },
  {
   "cell_type": "code",
   "execution_count": 0,
   "metadata": {
    "application/vnd.databricks.v1+cell": {
     "cellMetadata": {
      "byteLimit": 2048000,
      "rowLimit": 10000
     },
     "inputWidgets": {},
     "nuid": "d62545d7-0cce-45c4-926e-cbc332ba35ff",
     "showTitle": false,
     "tableResultSettingsMap": {},
     "title": ""
    }
   },
   "outputs": [
    {
     "output_type": "display_data",
     "data": {
      "text/html": [
       "<style scoped>\n",
       "  .ansiout {\n",
       "    display: block;\n",
       "    unicode-bidi: embed;\n",
       "    white-space: pre-wrap;\n",
       "    word-wrap: break-word;\n",
       "    word-break: break-all;\n",
       "    font-family: \"Menlo\", \"Monaco\", \"Consolas\", \"Ubuntu Mono\", \"Source Code Pro\", monospace;\n",
       "    font-size: 13px;\n",
       "    color: #555;\n",
       "    margin-left: 4px;\n",
       "    line-height: 19px;\n",
       "  }\n",
       "</style>"
      ]
     },
     "metadata": {
      "application/vnd.databricks.v1+output": {
       "arguments": {},
       "data": "",
       "errorSummary": "Command skipped",
       "errorTraceType": "html",
       "metadata": {},
       "type": "ipynbError"
      }
     },
     "output_type": "display_data"
    }
   ],
   "source": [
    "# Apply the parsing function\n",
    "parsed_emails_rdd = parsed_emails_rdd.map(lambda x: (x[0], parse_email(x[1])))\n"
   ]
  },
  {
   "cell_type": "code",
   "execution_count": 0,
   "metadata": {
    "application/vnd.databricks.v1+cell": {
     "cellMetadata": {
      "byteLimit": 2048000,
      "rowLimit": 10000
     },
     "inputWidgets": {},
     "nuid": "84c96214-6552-4a66-8441-bda22a7dfe8b",
     "showTitle": false,
     "tableResultSettingsMap": {},
     "title": ""
    }
   },
   "outputs": [
    {
     "output_type": "display_data",
     "data": {
      "text/html": [
       "<style scoped>\n",
       "  .ansiout {\n",
       "    display: block;\n",
       "    unicode-bidi: embed;\n",
       "    white-space: pre-wrap;\n",
       "    word-wrap: break-word;\n",
       "    word-break: break-all;\n",
       "    font-family: \"Menlo\", \"Monaco\", \"Consolas\", \"Ubuntu Mono\", \"Source Code Pro\", monospace;\n",
       "    font-size: 13px;\n",
       "    color: #555;\n",
       "    margin-left: 4px;\n",
       "    line-height: 19px;\n",
       "  }\n",
       "</style>"
      ]
     },
     "metadata": {
      "application/vnd.databricks.v1+output": {
       "arguments": {},
       "data": "",
       "errorSummary": "Command skipped",
       "errorTraceType": "html",
       "metadata": {},
       "type": "ipynbError"
      }
     },
     "output_type": "display_data"
    }
   ],
   "source": [
    "# Check the results\n",
    "parsed_emails_rdd.take(1000)"
   ]
  },
  {
   "cell_type": "code",
   "execution_count": 0,
   "metadata": {
    "application/vnd.databricks.v1+cell": {
     "cellMetadata": {
      "byteLimit": 2048000,
      "rowLimit": 10000
     },
     "inputWidgets": {},
     "nuid": "f7d6e108-5885-429d-94cb-1fa84deddd2a",
     "showTitle": false,
     "tableResultSettingsMap": {},
     "title": ""
    }
   },
   "outputs": [
    {
     "output_type": "display_data",
     "data": {
      "text/html": [
       "<style scoped>\n",
       "  .ansiout {\n",
       "    display: block;\n",
       "    unicode-bidi: embed;\n",
       "    white-space: pre-wrap;\n",
       "    word-wrap: break-word;\n",
       "    word-break: break-all;\n",
       "    font-family: \"Menlo\", \"Monaco\", \"Consolas\", \"Ubuntu Mono\", \"Source Code Pro\", monospace;\n",
       "    font-size: 13px;\n",
       "    color: #555;\n",
       "    margin-left: 4px;\n",
       "    line-height: 19px;\n",
       "  }\n",
       "</style>"
      ]
     },
     "metadata": {
      "application/vnd.databricks.v1+output": {
       "arguments": {},
       "data": "",
       "errorSummary": "Command skipped",
       "errorTraceType": "html",
       "metadata": {},
       "type": "ipynbError"
      }
     },
     "output_type": "display_data"
    }
   ],
   "source": [
    "parsed_emails_rdd.count()"
   ]
  },
  {
   "cell_type": "code",
   "execution_count": 0,
   "metadata": {
    "application/vnd.databricks.v1+cell": {
     "cellMetadata": {
      "byteLimit": 2048000,
      "rowLimit": 10000
     },
     "inputWidgets": {},
     "nuid": "866dd548-2ef5-4a93-9f79-a8a1abdba588",
     "showTitle": false,
     "tableResultSettingsMap": {},
     "title": ""
    }
   },
   "outputs": [
    {
     "output_type": "display_data",
     "data": {
      "text/html": [
       "<style scoped>\n",
       "  .ansiout {\n",
       "    display: block;\n",
       "    unicode-bidi: embed;\n",
       "    white-space: pre-wrap;\n",
       "    word-wrap: break-word;\n",
       "    word-break: break-all;\n",
       "    font-family: \"Menlo\", \"Monaco\", \"Consolas\", \"Ubuntu Mono\", \"Source Code Pro\", monospace;\n",
       "    font-size: 13px;\n",
       "    color: #555;\n",
       "    margin-left: 4px;\n",
       "    line-height: 19px;\n",
       "  }\n",
       "</style>"
      ]
     },
     "metadata": {
      "application/vnd.databricks.v1+output": {
       "arguments": {},
       "data": "",
       "errorSummary": "Command skipped",
       "errorTraceType": "html",
       "metadata": {},
       "type": "ipynbError"
      }
     },
     "output_type": "display_data"
    }
   ],
   "source": [
    "total_emails = parsed_emails_rdd.count()\n",
    "print(f\"Total number of emails: {total_emails}\")"
   ]
  },
  {
   "cell_type": "code",
   "execution_count": 0,
   "metadata": {
    "application/vnd.databricks.v1+cell": {
     "cellMetadata": {
      "byteLimit": 2048000,
      "rowLimit": 10000
     },
     "inputWidgets": {},
     "nuid": "01f3121c-d7ab-47e6-98f8-e1eef1435037",
     "showTitle": false,
     "tableResultSettingsMap": {},
     "title": ""
    }
   },
   "outputs": [
    {
     "output_type": "display_data",
     "data": {
      "text/html": [
       "<style scoped>\n",
       "  .ansiout {\n",
       "    display: block;\n",
       "    unicode-bidi: embed;\n",
       "    white-space: pre-wrap;\n",
       "    word-wrap: break-word;\n",
       "    word-break: break-all;\n",
       "    font-family: \"Menlo\", \"Monaco\", \"Consolas\", \"Ubuntu Mono\", \"Source Code Pro\", monospace;\n",
       "    font-size: 13px;\n",
       "    color: #555;\n",
       "    margin-left: 4px;\n",
       "    line-height: 19px;\n",
       "  }\n",
       "</style>"
      ]
     },
     "metadata": {
      "application/vnd.databricks.v1+output": {
       "arguments": {},
       "data": "",
       "errorSummary": "Command skipped",
       "errorTraceType": "html",
       "metadata": {},
       "type": "ipynbError"
      }
     },
     "output_type": "display_data"
    }
   ],
   "source": [
    "total_emails = parsed_emails_rdd.count()\n",
    "print(total_emails)"
   ]
  },
  {
   "cell_type": "code",
   "execution_count": 0,
   "metadata": {
    "application/vnd.databricks.v1+cell": {
     "cellMetadata": {
      "byteLimit": 2048000,
      "rowLimit": 10000
     },
     "inputWidgets": {},
     "nuid": "49bd1317-cd0d-4a19-b6b1-d0fb2c5dbfd8",
     "showTitle": false,
     "tableResultSettingsMap": {},
     "title": ""
    }
   },
   "outputs": [],
   "source": []
  }
 ],
 "metadata": {
  "application/vnd.databricks.v1+notebook": {
   "computePreferences": null,
   "dashboards": [],
   "environmentMetadata": {
    "base_environment": "",
    "client": "1"
   },
   "language": "python",
   "notebookMetadata": {
    "mostRecentlyExecutedCommandWithImplicitDF": {
     "commandId": 2246682840993448,
     "dataframes": [
      "_sqldf"
     ]
    },
    "pythonIndentUnit": 4
   },
   "notebookName": "Rough  Book",
   "widgets": {}
  }
 },
 "nbformat": 4,
 "nbformat_minor": 0
}
